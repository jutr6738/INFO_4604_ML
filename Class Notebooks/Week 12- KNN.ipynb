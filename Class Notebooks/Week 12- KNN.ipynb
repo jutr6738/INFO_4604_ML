{
 "cells": [
  {
   "cell_type": "markdown",
   "id": "71e46cca",
   "metadata": {},
   "source": [
    "# KNN Algorithm in Python"
   ]
  },
  {
   "cell_type": "code",
   "execution_count": null,
   "id": "afe8bb95",
   "metadata": {},
   "outputs": [],
   "source": []
  },
  {
   "cell_type": "code",
   "execution_count": 1,
   "id": "ee5a5cbe",
   "metadata": {},
   "outputs": [],
   "source": [
    "\n",
    "#The K-Nearest Neighbor algorithm in this tutorial will focus on classification problems, \n",
    "#though many of the principles will work for regression as well.\n",
    "\n",
    "#We will present:\n",
    "\n",
    "#How the algorithm works to predict classes of data\n",
    "#How the algorithm can be tweaked to use different types of distances\n",
    "#How the algorithm works with multiple dimensions\n",
    "#How to work with categorical or non-numeric data in KNN classification\n",
    "#How to validate your algorithm and test its effectiveness\n",
    "#How to improve your algorithm using hyper-parameter turning in Python\n",
    "\n",
    "\n",
    "#Let’s get started!"
   ]
  },
  {
   "cell_type": "code",
   "execution_count": null,
   "id": "d4af7cea",
   "metadata": {},
   "outputs": [],
   "source": []
  },
  {
   "cell_type": "code",
   "execution_count": 2,
   "id": "94aa6193",
   "metadata": {},
   "outputs": [],
   "source": [
    "#Using the K-Nearest Neighbor Algorithm in Python’s Scikit-Learn\n",
    "#In this section, you’ll learn how to use the popular Scikit-Learn (sklearn) library to make use of the KNN algorithm. \n",
    "#To start, we begin by importing some critical libraries: sklearn and pandas:"
   ]
  },
  {
   "cell_type": "code",
   "execution_count": null,
   "id": "d29ad061",
   "metadata": {},
   "outputs": [],
   "source": []
  },
  {
   "cell_type": "code",
   "execution_count": 3,
   "id": "2ecfc1c8",
   "metadata": {},
   "outputs": [],
   "source": [
    "import pandas as pd\n",
    "from sklearn.neighbors import KNeighborsClassifier\n",
    "import seaborn as sns #Import Python Seaborn\n",
    "from seaborn import load_dataset"
   ]
  },
  {
   "cell_type": "code",
   "execution_count": null,
   "id": "81d4ea59",
   "metadata": {},
   "outputs": [],
   "source": []
  },
  {
   "cell_type": "code",
   "execution_count": 4,
   "id": "bab605d9",
   "metadata": {},
   "outputs": [],
   "source": [
    "#We will focus on the Penguins dataset that comes bundled with Python Seaborn. \n",
    "#The dataset covers information on different species of penguins, including the island the sample was taken from,\n",
    "#as well as their bill length and depth."
   ]
  },
  {
   "cell_type": "code",
   "execution_count": null,
   "id": "de02ac3b",
   "metadata": {},
   "outputs": [],
   "source": []
  },
  {
   "cell_type": "code",
   "execution_count": 5,
   "id": "96d32334",
   "metadata": {},
   "outputs": [],
   "source": [
    "#The dataset focuses on predicting the species of a penguin based on its physical characteristics. \n",
    "#There are three types of Penguins that the dataset has data on: the Adelie, Chinstrap, and Gentoo penguins, \n",
    "#as shown below:"
   ]
  },
  {
   "cell_type": "code",
   "execution_count": null,
   "id": "47349160",
   "metadata": {},
   "outputs": [],
   "source": []
  },
  {
   "cell_type": "code",
   "execution_count": 6,
   "id": "08177239",
   "metadata": {},
   "outputs": [
    {
     "name": "stdout",
     "output_type": "stream",
     "text": [
      "  species     island  bill_length_mm  bill_depth_mm  flipper_length_mm  \\\n",
      "0  Adelie  Torgersen            39.1           18.7              181.0   \n",
      "1  Adelie  Torgersen            39.5           17.4              186.0   \n",
      "2  Adelie  Torgersen            40.3           18.0              195.0   \n",
      "3  Adelie  Torgersen             NaN            NaN                NaN   \n",
      "4  Adelie  Torgersen            36.7           19.3              193.0   \n",
      "\n",
      "   body_mass_g     sex  \n",
      "0       3750.0    Male  \n",
      "1       3800.0  Female  \n",
      "2       3250.0  Female  \n",
      "3          NaN     NaN  \n",
      "4       3450.0  Female  \n"
     ]
    }
   ],
   "source": [
    "# Load and display the first rows of the penguins dataset\n",
    "\n",
    "df = load_dataset('penguins')\n",
    "print(df.head())"
   ]
  },
  {
   "cell_type": "code",
   "execution_count": 7,
   "id": "391b3fd7",
   "metadata": {},
   "outputs": [
    {
     "data": {
      "text/html": [
       "<div>\n",
       "<style scoped>\n",
       "    .dataframe tbody tr th:only-of-type {\n",
       "        vertical-align: middle;\n",
       "    }\n",
       "\n",
       "    .dataframe tbody tr th {\n",
       "        vertical-align: top;\n",
       "    }\n",
       "\n",
       "    .dataframe thead th {\n",
       "        text-align: right;\n",
       "    }\n",
       "</style>\n",
       "<table border=\"1\" class=\"dataframe\">\n",
       "  <thead>\n",
       "    <tr style=\"text-align: right;\">\n",
       "      <th></th>\n",
       "      <th>species</th>\n",
       "      <th>island</th>\n",
       "      <th>bill_length_mm</th>\n",
       "      <th>bill_depth_mm</th>\n",
       "      <th>flipper_length_mm</th>\n",
       "      <th>body_mass_g</th>\n",
       "      <th>sex</th>\n",
       "    </tr>\n",
       "  </thead>\n",
       "  <tbody>\n",
       "    <tr>\n",
       "      <th>0</th>\n",
       "      <td>Adelie</td>\n",
       "      <td>Torgersen</td>\n",
       "      <td>39.1</td>\n",
       "      <td>18.7</td>\n",
       "      <td>181.0</td>\n",
       "      <td>3750.0</td>\n",
       "      <td>Male</td>\n",
       "    </tr>\n",
       "    <tr>\n",
       "      <th>1</th>\n",
       "      <td>Adelie</td>\n",
       "      <td>Torgersen</td>\n",
       "      <td>39.5</td>\n",
       "      <td>17.4</td>\n",
       "      <td>186.0</td>\n",
       "      <td>3800.0</td>\n",
       "      <td>Female</td>\n",
       "    </tr>\n",
       "    <tr>\n",
       "      <th>2</th>\n",
       "      <td>Adelie</td>\n",
       "      <td>Torgersen</td>\n",
       "      <td>40.3</td>\n",
       "      <td>18.0</td>\n",
       "      <td>195.0</td>\n",
       "      <td>3250.0</td>\n",
       "      <td>Female</td>\n",
       "    </tr>\n",
       "    <tr>\n",
       "      <th>3</th>\n",
       "      <td>Adelie</td>\n",
       "      <td>Torgersen</td>\n",
       "      <td>NaN</td>\n",
       "      <td>NaN</td>\n",
       "      <td>NaN</td>\n",
       "      <td>NaN</td>\n",
       "      <td>NaN</td>\n",
       "    </tr>\n",
       "    <tr>\n",
       "      <th>4</th>\n",
       "      <td>Adelie</td>\n",
       "      <td>Torgersen</td>\n",
       "      <td>36.7</td>\n",
       "      <td>19.3</td>\n",
       "      <td>193.0</td>\n",
       "      <td>3450.0</td>\n",
       "      <td>Female</td>\n",
       "    </tr>\n",
       "    <tr>\n",
       "      <th>...</th>\n",
       "      <td>...</td>\n",
       "      <td>...</td>\n",
       "      <td>...</td>\n",
       "      <td>...</td>\n",
       "      <td>...</td>\n",
       "      <td>...</td>\n",
       "      <td>...</td>\n",
       "    </tr>\n",
       "    <tr>\n",
       "      <th>339</th>\n",
       "      <td>Gentoo</td>\n",
       "      <td>Biscoe</td>\n",
       "      <td>NaN</td>\n",
       "      <td>NaN</td>\n",
       "      <td>NaN</td>\n",
       "      <td>NaN</td>\n",
       "      <td>NaN</td>\n",
       "    </tr>\n",
       "    <tr>\n",
       "      <th>340</th>\n",
       "      <td>Gentoo</td>\n",
       "      <td>Biscoe</td>\n",
       "      <td>46.8</td>\n",
       "      <td>14.3</td>\n",
       "      <td>215.0</td>\n",
       "      <td>4850.0</td>\n",
       "      <td>Female</td>\n",
       "    </tr>\n",
       "    <tr>\n",
       "      <th>341</th>\n",
       "      <td>Gentoo</td>\n",
       "      <td>Biscoe</td>\n",
       "      <td>50.4</td>\n",
       "      <td>15.7</td>\n",
       "      <td>222.0</td>\n",
       "      <td>5750.0</td>\n",
       "      <td>Male</td>\n",
       "    </tr>\n",
       "    <tr>\n",
       "      <th>342</th>\n",
       "      <td>Gentoo</td>\n",
       "      <td>Biscoe</td>\n",
       "      <td>45.2</td>\n",
       "      <td>14.8</td>\n",
       "      <td>212.0</td>\n",
       "      <td>5200.0</td>\n",
       "      <td>Female</td>\n",
       "    </tr>\n",
       "    <tr>\n",
       "      <th>343</th>\n",
       "      <td>Gentoo</td>\n",
       "      <td>Biscoe</td>\n",
       "      <td>49.9</td>\n",
       "      <td>16.1</td>\n",
       "      <td>213.0</td>\n",
       "      <td>5400.0</td>\n",
       "      <td>Male</td>\n",
       "    </tr>\n",
       "  </tbody>\n",
       "</table>\n",
       "<p>344 rows × 7 columns</p>\n",
       "</div>"
      ],
      "text/plain": [
       "    species     island  bill_length_mm  bill_depth_mm  flipper_length_mm  \\\n",
       "0    Adelie  Torgersen            39.1           18.7              181.0   \n",
       "1    Adelie  Torgersen            39.5           17.4              186.0   \n",
       "2    Adelie  Torgersen            40.3           18.0              195.0   \n",
       "3    Adelie  Torgersen             NaN            NaN                NaN   \n",
       "4    Adelie  Torgersen            36.7           19.3              193.0   \n",
       "..      ...        ...             ...            ...                ...   \n",
       "339  Gentoo     Biscoe             NaN            NaN                NaN   \n",
       "340  Gentoo     Biscoe            46.8           14.3              215.0   \n",
       "341  Gentoo     Biscoe            50.4           15.7              222.0   \n",
       "342  Gentoo     Biscoe            45.2           14.8              212.0   \n",
       "343  Gentoo     Biscoe            49.9           16.1              213.0   \n",
       "\n",
       "     body_mass_g     sex  \n",
       "0         3750.0    Male  \n",
       "1         3800.0  Female  \n",
       "2         3250.0  Female  \n",
       "3            NaN     NaN  \n",
       "4         3450.0  Female  \n",
       "..           ...     ...  \n",
       "339          NaN     NaN  \n",
       "340       4850.0  Female  \n",
       "341       5750.0    Male  \n",
       "342       5200.0  Female  \n",
       "343       5400.0    Male  \n",
       "\n",
       "[344 rows x 7 columns]"
      ]
     },
     "execution_count": 7,
     "metadata": {},
     "output_type": "execute_result"
    }
   ],
   "source": [
    "#Display df\n",
    "\n",
    "df"
   ]
  },
  {
   "cell_type": "code",
   "execution_count": 8,
   "id": "bb740e38",
   "metadata": {},
   "outputs": [
    {
     "name": "stdout",
     "output_type": "stream",
     "text": [
      "<class 'pandas.core.frame.DataFrame'>\n",
      "RangeIndex: 344 entries, 0 to 343\n",
      "Data columns (total 7 columns):\n",
      " #   Column             Non-Null Count  Dtype  \n",
      "---  ------             --------------  -----  \n",
      " 0   species            344 non-null    object \n",
      " 1   island             344 non-null    object \n",
      " 2   bill_length_mm     342 non-null    float64\n",
      " 3   bill_depth_mm      342 non-null    float64\n",
      " 4   flipper_length_mm  342 non-null    float64\n",
      " 5   body_mass_g        342 non-null    float64\n",
      " 6   sex                333 non-null    object \n",
      "dtypes: float64(4), object(3)\n",
      "memory usage: 18.9+ KB\n"
     ]
    }
   ],
   "source": [
    "#We can see that our dataset has six features and one target. Let’s break this down a little bit:\n",
    "\n",
    "df.info()"
   ]
  },
  {
   "cell_type": "code",
   "execution_count": null,
   "id": "62909623",
   "metadata": {},
   "outputs": [],
   "source": []
  },
  {
   "cell_type": "code",
   "execution_count": 9,
   "id": "500a30a0",
   "metadata": {},
   "outputs": [],
   "source": [
    "#Splitting our Data into Training and Testing Data\n",
    "#We’ll need to split our data into both features and target arrays.\n",
    "\n",
    "#The features array, commonly referred to as X, is expected to be multi-dimensional array.\n",
    "#Meanwhile, the target array, commonly noted as y, is expected to be of a single dimension.\n",
    "#Lets focus only one a single dimension for now: bill length. \n",
    "#We’ll extract that column as a DataFrame (rather than as a Series), so that sklearn can load it properly."
   ]
  },
  {
   "cell_type": "code",
   "execution_count": null,
   "id": "1df4a6dd",
   "metadata": {},
   "outputs": [],
   "source": []
  },
  {
   "cell_type": "code",
   "execution_count": 10,
   "id": "049d9ef7",
   "metadata": {},
   "outputs": [],
   "source": [
    "#Drop NaN values in our dataset\n",
    "\n",
    "#Splitting our DataFrame into features and target\n",
    "\n",
    "df = df.dropna()\n",
    "\n",
    "X = df[['bill_length_mm']]\n",
    "y = df['species']"
   ]
  },
  {
   "cell_type": "code",
   "execution_count": null,
   "id": "f0f68bfd",
   "metadata": {},
   "outputs": [],
   "source": []
  },
  {
   "cell_type": "code",
   "execution_count": 11,
   "id": "2320256a",
   "metadata": {},
   "outputs": [],
   "source": [
    "#One important piece to note above is that we’ve dropped any missing records. \n",
    "#Technically it may be a good idea to try and impute these values. \n",
    "#However, this is a bit out of the scope of this tutorial."
   ]
  },
  {
   "cell_type": "code",
   "execution_count": null,
   "id": "745037dc",
   "metadata": {},
   "outputs": [],
   "source": []
  },
  {
   "cell_type": "code",
   "execution_count": 12,
   "id": "e892c08d",
   "metadata": {},
   "outputs": [],
   "source": [
    "#We can also split our data into training and testing data to prevent or minimize overfitting. \n",
    "\n",
    "#This can be done using the train_test_split() function in sklearn. \n",
    "\n",
    "#For this, we need to import the function first\n",
    "#We set a random_state= value so that our results are reproducible. This, of course, is optional. \n",
    "\n",
    "#However, random_state = value lets you reproduce your results consistently, so it’s a good practice."
   ]
  },
  {
   "cell_type": "code",
   "execution_count": null,
   "id": "8e5dd440",
   "metadata": {},
   "outputs": [],
   "source": []
  },
  {
   "cell_type": "code",
   "execution_count": 13,
   "id": "cddbe999",
   "metadata": {},
   "outputs": [],
   "source": [
    "# Splitting data into training and testing data\n",
    "from sklearn.model_selection import train_test_split\n",
    "\n",
    "X_train, X_test, y_train, y_test = train_test_split(X, y, random_state = 100)"
   ]
  },
  {
   "cell_type": "code",
   "execution_count": null,
   "id": "80e86594",
   "metadata": {},
   "outputs": [],
   "source": []
  },
  {
   "cell_type": "code",
   "execution_count": 14,
   "id": "489fd24e",
   "metadata": {},
   "outputs": [],
   "source": [
    "#Now that we have our dataset lined up, let’s take a look at how the KNeighborsClassifier class works in sklearn."
   ]
  },
  {
   "cell_type": "code",
   "execution_count": null,
   "id": "a705999d",
   "metadata": {},
   "outputs": [],
   "source": []
  },
  {
   "cell_type": "code",
   "execution_count": 15,
   "id": "b205bac0",
   "metadata": {},
   "outputs": [],
   "source": [
    "#Understanding KNeighborsClassifier in Sklearn\n",
    "#Before diving further into using sklearn to calculate the KNN algorithm, \n",
    "#let’s take a look at the KNeighborsClasifier class:"
   ]
  },
  {
   "cell_type": "code",
   "execution_count": null,
   "id": "ebf2e055",
   "metadata": {},
   "outputs": [],
   "source": []
  },
  {
   "cell_type": "code",
   "execution_count": 16,
   "id": "1fd6c7ed",
   "metadata": {},
   "outputs": [
    {
     "data": {
      "text/plain": [
       "KNeighborsClassifier()"
      ]
     },
     "execution_count": 16,
     "metadata": {},
     "output_type": "execute_result"
    }
   ],
   "source": [
    "KNeighborsClassifier(\n",
    "    n_neighbors=5,          # The number of neighbours to consider\n",
    "    weights='uniform',      # How to weight distances (e.g uniform or distance)\n",
    "    algorithm='auto',       # Algorithm to compute the neighbors\n",
    "    leaf_size=30,           # The leaf size to speed up searches\n",
    "    p=2,                    # The power parameter for the Minkowski metric. 2 = Euclidean distance; p=1 is for Manhattan distance\n",
    "    metric='minkowski',     # The type of distance to use. This generalizes Euclidean and Manhattan distance\n",
    "    metric_params=None,     # Keyword arguments for the metric function\n",
    "    n_jobs=None             # How many parallel jobs to run\n",
    ")"
   ]
  },
  {
   "cell_type": "code",
   "execution_count": null,
   "id": "14c363f8",
   "metadata": {},
   "outputs": [],
   "source": []
  },
  {
   "cell_type": "code",
   "execution_count": 17,
   "id": "b1e5ec15",
   "metadata": {},
   "outputs": [],
   "source": [
    "#Lets focus on the n_neighbors=, weights=, p=, and n_jobs= hyperparameters.\n",
    "\n",
    "#To kick things off let’s focus on what we have learned so far: \n",
    "#measuring distances using the Euclidian distance, and finding the five nearest neighbors.\n",
    "\n",
    "#In order to use the Euclidian distance, we can either modify the metric= parameter to 'euclidean', \n",
    "#or we can change the p= parameter to 2.\n",
    "\n",
    "#The p hyperparameter value in the KNeigborsClassifier() can be manipulated to give us different distances like:\n",
    "#p = 1, when p is set to 1 we get Manhattan distance.\n",
    "#p = 2, when p is set to 2 we get Euclidean distance.\n",
    "\n",
    "\n",
    "#njobs = -1 means you want to use all the available cores , and if you specify with a particular value , \n",
    "#then those only cores will be used for training.\n",
    "\n",
    "#Weights determines whether to weigh all neighbors equally or to take their distances into consideration\n",
    "\n",
    "\n",
    "#Conventionally, the classifier object is assigned to a variable clf. \n",
    "#Let’s load the class with the parameters discussed above:"
   ]
  },
  {
   "cell_type": "code",
   "execution_count": null,
   "id": "21498177",
   "metadata": {},
   "outputs": [],
   "source": []
  },
  {
   "cell_type": "code",
   "execution_count": 18,
   "id": "a8a4f315",
   "metadata": {},
   "outputs": [],
   "source": [
    "# Creating a classifier object in sklearn\n",
    "clf = KNeighborsClassifier(p=2)"
   ]
  },
  {
   "cell_type": "code",
   "execution_count": null,
   "id": "ac1176bb",
   "metadata": {},
   "outputs": [],
   "source": []
  },
  {
   "cell_type": "code",
   "execution_count": 19,
   "id": "d3956114",
   "metadata": {},
   "outputs": [],
   "source": [
    "#In the object above, we’ve instantiated a classifier object that uses the Euclidean distance (p=2) \n",
    "#and looks for five neighbours (default n_neighbors=5)."
   ]
  },
  {
   "cell_type": "code",
   "execution_count": null,
   "id": "5e86ca23",
   "metadata": {},
   "outputs": [],
   "source": []
  },
  {
   "cell_type": "code",
   "execution_count": 20,
   "id": "29cdc5de",
   "metadata": {},
   "outputs": [],
   "source": [
    "#Now that we have our classifier set up, we can pass in our training data to fit the algorithm. \n",
    "#This will handle the steps we visually undertook earlier in the slide deck by finding the nearest \n",
    "#neighbours’s class for each penguin:"
   ]
  },
  {
   "cell_type": "code",
   "execution_count": null,
   "id": "6cbecba9",
   "metadata": {},
   "outputs": [],
   "source": []
  },
  {
   "cell_type": "code",
   "execution_count": 21,
   "id": "6f8110f5",
   "metadata": {},
   "outputs": [
    {
     "data": {
      "text/plain": [
       "KNeighborsClassifier()"
      ]
     },
     "execution_count": 21,
     "metadata": {},
     "output_type": "execute_result"
    }
   ],
   "source": [
    "# Fitting our model\n",
    "clf.fit(X_train, y_train)"
   ]
  },
  {
   "cell_type": "code",
   "execution_count": null,
   "id": "cdb31565",
   "metadata": {},
   "outputs": [],
   "source": []
  },
  {
   "cell_type": "code",
   "execution_count": 22,
   "id": "78c02533",
   "metadata": {},
   "outputs": [],
   "source": [
    "#At this point, we’ve made our algorithm! Sklearn has abstracted a lot of the complexities \n",
    "#of the calculation behind the scenes.\n",
    "\n",
    "#We can now use our model to make predictions on the data. \n",
    "#To do this, we can use the .predict() method and pass in our testing feature:"
   ]
  },
  {
   "cell_type": "code",
   "execution_count": null,
   "id": "05673c9f",
   "metadata": {},
   "outputs": [],
   "source": []
  },
  {
   "cell_type": "code",
   "execution_count": 23,
   "id": "15a4ff64",
   "metadata": {},
   "outputs": [
    {
     "name": "stdout",
     "output_type": "stream",
     "text": [
      "['Adelie' 'Gentoo' 'Chinstrap' 'Adelie' 'Gentoo' 'Gentoo' 'Gentoo'\n",
      " 'Chinstrap' 'Gentoo' 'Gentoo' 'Gentoo' 'Adelie' 'Adelie' 'Gentoo'\n",
      " 'Gentoo' 'Chinstrap' 'Chinstrap' 'Adelie' 'Gentoo' 'Gentoo' 'Adelie'\n",
      " 'Gentoo' 'Adelie' 'Adelie' 'Adelie' 'Adelie' 'Gentoo' 'Chinstrap'\n",
      " 'Adelie' 'Adelie' 'Adelie' 'Adelie' 'Gentoo' 'Adelie' 'Chinstrap'\n",
      " 'Gentoo' 'Adelie' 'Gentoo' 'Gentoo' 'Gentoo' 'Adelie' 'Gentoo' 'Adelie'\n",
      " 'Adelie' 'Chinstrap' 'Chinstrap' 'Chinstrap' 'Adelie' 'Gentoo' 'Gentoo'\n",
      " 'Gentoo' 'Gentoo' 'Adelie' 'Adelie' 'Gentoo' 'Gentoo' 'Adelie' 'Gentoo'\n",
      " 'Gentoo' 'Adelie' 'Gentoo' 'Gentoo' 'Gentoo' 'Adelie' 'Adelie' 'Adelie'\n",
      " 'Chinstrap' 'Adelie' 'Gentoo' 'Gentoo' 'Chinstrap' 'Chinstrap' 'Adelie'\n",
      " 'Chinstrap' 'Gentoo' 'Gentoo' 'Gentoo' 'Chinstrap' 'Adelie' 'Gentoo'\n",
      " 'Adelie' 'Adelie' 'Adelie' 'Chinstrap']\n"
     ]
    }
   ],
   "source": [
    "# Making predictions\n",
    "\n",
    "predictions = clf.predict(X_test)\n",
    "print(predictions)"
   ]
  },
  {
   "cell_type": "code",
   "execution_count": null,
   "id": "8cf7977c",
   "metadata": {},
   "outputs": [],
   "source": []
  },
  {
   "cell_type": "code",
   "execution_count": 24,
   "id": "aa66dbae",
   "metadata": {},
   "outputs": [],
   "source": [
    "#Similarly, if we wanted to simply pass in a single mock-penguins data, \n",
    "#we could pass in a list containing that one value. \n",
    "#Say we measured our own pet penguin’s bill length and found that it was 45.2 mm. We could simply write:"
   ]
  },
  {
   "cell_type": "code",
   "execution_count": 25,
   "id": "a2ef90be",
   "metadata": {},
   "outputs": [
    {
     "name": "stdout",
     "output_type": "stream",
     "text": [
      "['Gentoo']\n"
     ]
    }
   ],
   "source": [
    "# Making your own predictions - on a measuremen of bill length as 45.2mm\n",
    "\n",
    "predictions = clf.predict([[44.2]])\n",
    "print(predictions)"
   ]
  },
  {
   "cell_type": "code",
   "execution_count": null,
   "id": "581fb19c",
   "metadata": {},
   "outputs": [],
   "source": []
  },
  {
   "cell_type": "code",
   "execution_count": null,
   "id": "46d1f869",
   "metadata": {},
   "outputs": [],
   "source": []
  },
  {
   "cell_type": "code",
   "execution_count": null,
   "id": "9afe9cb5",
   "metadata": {},
   "outputs": [],
   "source": []
  },
  {
   "cell_type": "code",
   "execution_count": null,
   "id": "0c10f06e",
   "metadata": {},
   "outputs": [],
   "source": []
  },
  {
   "cell_type": "code",
   "execution_count": null,
   "id": "def0bdc6",
   "metadata": {},
   "outputs": [],
   "source": []
  },
  {
   "cell_type": "code",
   "execution_count": null,
   "id": "1e081a2c",
   "metadata": {},
   "outputs": [],
   "source": []
  },
  {
   "cell_type": "code",
   "execution_count": null,
   "id": "bb8763fe",
   "metadata": {},
   "outputs": [],
   "source": []
  },
  {
   "cell_type": "code",
   "execution_count": null,
   "id": "1cfa5d32",
   "metadata": {},
   "outputs": [],
   "source": []
  },
  {
   "cell_type": "code",
   "execution_count": null,
   "id": "141f9802",
   "metadata": {},
   "outputs": [],
   "source": []
  },
  {
   "cell_type": "code",
   "execution_count": null,
   "id": "07f917a6",
   "metadata": {},
   "outputs": [],
   "source": []
  },
  {
   "cell_type": "code",
   "execution_count": null,
   "id": "c6232638",
   "metadata": {},
   "outputs": [],
   "source": []
  },
  {
   "cell_type": "code",
   "execution_count": null,
   "id": "3e3ed5af",
   "metadata": {},
   "outputs": [],
   "source": []
  },
  {
   "cell_type": "code",
   "execution_count": null,
   "id": "e297ad4c",
   "metadata": {},
   "outputs": [],
   "source": []
  },
  {
   "cell_type": "code",
   "execution_count": null,
   "id": "df161bc3",
   "metadata": {},
   "outputs": [],
   "source": []
  },
  {
   "cell_type": "code",
   "execution_count": null,
   "id": "e012ab98",
   "metadata": {},
   "outputs": [],
   "source": []
  },
  {
   "cell_type": "code",
   "execution_count": null,
   "id": "aa87a38b",
   "metadata": {},
   "outputs": [],
   "source": []
  },
  {
   "cell_type": "code",
   "execution_count": null,
   "id": "1c896022",
   "metadata": {},
   "outputs": [],
   "source": []
  },
  {
   "cell_type": "code",
   "execution_count": null,
   "id": "b971858a",
   "metadata": {},
   "outputs": [],
   "source": []
  },
  {
   "cell_type": "code",
   "execution_count": null,
   "id": "34d8bc94",
   "metadata": {},
   "outputs": [],
   "source": []
  },
  {
   "cell_type": "code",
   "execution_count": null,
   "id": "229779f2",
   "metadata": {},
   "outputs": [],
   "source": []
  },
  {
   "cell_type": "code",
   "execution_count": null,
   "id": "8cea14b1",
   "metadata": {},
   "outputs": [],
   "source": []
  },
  {
   "cell_type": "code",
   "execution_count": null,
   "id": "298e2001",
   "metadata": {},
   "outputs": [],
   "source": []
  },
  {
   "cell_type": "code",
   "execution_count": null,
   "id": "9be5cfee",
   "metadata": {},
   "outputs": [],
   "source": []
  },
  {
   "cell_type": "code",
   "execution_count": null,
   "id": "14dbc87d",
   "metadata": {},
   "outputs": [],
   "source": []
  },
  {
   "cell_type": "code",
   "execution_count": null,
   "id": "23edfd2d",
   "metadata": {},
   "outputs": [],
   "source": []
  },
  {
   "cell_type": "code",
   "execution_count": null,
   "id": "2d77c203",
   "metadata": {},
   "outputs": [],
   "source": []
  },
  {
   "cell_type": "code",
   "execution_count": null,
   "id": "f3f62f18",
   "metadata": {},
   "outputs": [],
   "source": []
  },
  {
   "cell_type": "code",
   "execution_count": null,
   "id": "8d674ba3",
   "metadata": {},
   "outputs": [],
   "source": []
  },
  {
   "cell_type": "code",
   "execution_count": null,
   "id": "5a4e94eb",
   "metadata": {},
   "outputs": [],
   "source": []
  },
  {
   "cell_type": "code",
   "execution_count": null,
   "id": "bd2f0415",
   "metadata": {},
   "outputs": [],
   "source": []
  },
  {
   "cell_type": "code",
   "execution_count": null,
   "id": "7eecf208",
   "metadata": {},
   "outputs": [],
   "source": []
  },
  {
   "cell_type": "code",
   "execution_count": null,
   "id": "2c26873d",
   "metadata": {},
   "outputs": [],
   "source": []
  },
  {
   "cell_type": "code",
   "execution_count": null,
   "id": "3610d18d",
   "metadata": {},
   "outputs": [],
   "source": []
  },
  {
   "cell_type": "code",
   "execution_count": null,
   "id": "d48a1523",
   "metadata": {},
   "outputs": [],
   "source": []
  }
 ],
 "metadata": {
  "kernelspec": {
   "display_name": "Python 3 (ipykernel)",
   "language": "python",
   "name": "python3"
  },
  "language_info": {
   "codemirror_mode": {
    "name": "ipython",
    "version": 3
   },
   "file_extension": ".py",
   "mimetype": "text/x-python",
   "name": "python",
   "nbconvert_exporter": "python",
   "pygments_lexer": "ipython3",
   "version": "3.9.7"
  }
 },
 "nbformat": 4,
 "nbformat_minor": 5
}
