{
 "cells": [
  {
   "cell_type": "markdown",
   "id": "cdaf8fff",
   "metadata": {},
   "source": [
    "# Loading Boston Housing Prices"
   ]
  },
  {
   "cell_type": "code",
   "execution_count": null,
   "id": "a20c73b7",
   "metadata": {},
   "outputs": [],
   "source": [
    "#Import numpy\n",
    "import numpy as np\n"
   ]
  },
  {
   "cell_type": "code",
   "execution_count": null,
   "id": "e5a630ba",
   "metadata": {},
   "outputs": [],
   "source": [
    "#import the module datasets from the sci-kit learn library\n",
    "\n",
    "from sklearn import datasets"
   ]
  },
  {
   "cell_type": "code",
   "execution_count": null,
   "id": "effa45aa",
   "metadata": {},
   "outputs": [],
   "source": [
    "#Load the Boston housing prices dataset and assign it to an object housing\n",
    "\n",
    "housing = datasets.load_boston()"
   ]
  },
  {
   "cell_type": "code",
   "execution_count": null,
   "id": "5bbb067e",
   "metadata": {},
   "outputs": [],
   "source": [
    "#Display housing\n",
    "\n",
    "housing"
   ]
  },
  {
   "cell_type": "code",
   "execution_count": null,
   "id": "102d0bf7",
   "metadata": {},
   "outputs": [],
   "source": [
    "#Display feature names\n",
    "housing.feature_names"
   ]
  },
  {
   "cell_type": "code",
   "execution_count": null,
   "id": "f9b53512",
   "metadata": {},
   "outputs": [],
   "source": [
    "#Display target variable values\n",
    "\n",
    "housing.target"
   ]
  },
  {
   "cell_type": "code",
   "execution_count": null,
   "id": "d438641b",
   "metadata": {},
   "outputs": [],
   "source": [
    "#Transform the housing object into a Pandas dataframe to \n",
    "#make it easier to work with\n",
    "\n",
    "#First we import pandas library\n",
    "\n",
    "import pandas as pd"
   ]
  },
  {
   "cell_type": "code",
   "execution_count": null,
   "id": "3cf8c7a6",
   "metadata": {},
   "outputs": [],
   "source": [
    "#Convert the dataset housing into a pandas dataframe called housing_df\n",
    "# using the function DataFrame()\n",
    "\n",
    "housing_df = pd.DataFrame(data = housing.data, columns = housing.feature_names)"
   ]
  },
  {
   "cell_type": "code",
   "execution_count": null,
   "id": "91b60180",
   "metadata": {},
   "outputs": [],
   "source": [
    "#Display first 5 observations of the converted data\n",
    "\n",
    "housing_df.head()"
   ]
  },
  {
   "cell_type": "code",
   "execution_count": null,
   "id": "15f3aaf6",
   "metadata": {},
   "outputs": [],
   "source": [
    "#We need to add the target variable \"price\"\n",
    "\n",
    "#To add the target column, use the attribute target\n",
    "\n",
    "housing_df[\"Price\"] = pd.Series(housing.target)\n",
    "\n"
   ]
  },
  {
   "cell_type": "code",
   "execution_count": null,
   "id": "edc6b0a6",
   "metadata": {},
   "outputs": [],
   "source": [
    "#Display complete dataframe\n",
    "\n",
    "housing_df.head()"
   ]
  },
  {
   "cell_type": "markdown",
   "id": "43300b57",
   "metadata": {},
   "source": [
    "# Loading Iris datasets"
   ]
  },
  {
   "cell_type": "code",
   "execution_count": null,
   "id": "b4b5d17d",
   "metadata": {},
   "outputs": [],
   "source": [
    "#Loading Iris dataset\n",
    "\n",
    "iris = datasets.load_iris()"
   ]
  },
  {
   "cell_type": "code",
   "execution_count": null,
   "id": "e6a68d6b",
   "metadata": {},
   "outputs": [],
   "source": [
    "#Display Iris\n",
    "\n",
    "iris"
   ]
  },
  {
   "cell_type": "code",
   "execution_count": null,
   "id": "d259111b",
   "metadata": {},
   "outputs": [],
   "source": [
    "#Display feature names\n",
    "iris.feature_names"
   ]
  },
  {
   "cell_type": "code",
   "execution_count": null,
   "id": "2c0632e6",
   "metadata": {},
   "outputs": [],
   "source": [
    "#Display target variable values\n",
    "\n",
    "iris.target"
   ]
  },
  {
   "cell_type": "code",
   "execution_count": null,
   "id": "c32a8d78",
   "metadata": {},
   "outputs": [],
   "source": [
    "#Transform the housing object into a Pandas dataframe to \n",
    "#make it easier to work with\n",
    "\n",
    "#First we import pandas library\n",
    "\n",
    "import pandas as pd"
   ]
  },
  {
   "cell_type": "code",
   "execution_count": null,
   "id": "1423b0d5",
   "metadata": {},
   "outputs": [],
   "source": [
    "#Convert the dataset housing into a pandas dataframe called iris_df\n",
    "# using the function DataFrame()\n",
    "\n",
    "iris_df = pd.DataFrame(data = iris.data, columns = iris.feature_names)"
   ]
  },
  {
   "cell_type": "code",
   "execution_count": null,
   "id": "5ecd1ac4",
   "metadata": {},
   "outputs": [],
   "source": [
    "#Display first 5 observations of the converted data\n",
    "\n",
    "iris_df.head()"
   ]
  },
  {
   "cell_type": "code",
   "execution_count": null,
   "id": "e7dd62cc",
   "metadata": {},
   "outputs": [],
   "source": [
    "#We need to add the target variable \"Category\"\n",
    "\n",
    "#To add the target column, use the attribute target\n",
    "\n",
    "iris_df[\"Category\"] = pd.Series(iris.target)\n"
   ]
  },
  {
   "cell_type": "code",
   "execution_count": null,
   "id": "4d6b8922",
   "metadata": {},
   "outputs": [],
   "source": [
    "#Display first five observations of complete/combined dataframe\n",
    "\n",
    "iris_df.head()"
   ]
  },
  {
   "cell_type": "code",
   "execution_count": null,
   "id": "a739bc0f",
   "metadata": {},
   "outputs": [],
   "source": []
  },
  {
   "cell_type": "markdown",
   "id": "1d68e70f",
   "metadata": {},
   "source": [
    "# Loading Digits dataset"
   ]
  },
  {
   "cell_type": "code",
   "execution_count": null,
   "id": "675b6e99",
   "metadata": {},
   "outputs": [],
   "source": [
    "#Load the Digits dataset and assign it to an object housing\n",
    "\n",
    "digits = datasets.load_digits()"
   ]
  },
  {
   "cell_type": "code",
   "execution_count": null,
   "id": "988dd5e7",
   "metadata": {},
   "outputs": [],
   "source": [
    "#Display digits\n",
    "\n",
    "digits"
   ]
  },
  {
   "cell_type": "code",
   "execution_count": null,
   "id": "7aaace09",
   "metadata": {},
   "outputs": [],
   "source": [
    "#Display feature names\n",
    "digits.feature_names"
   ]
  },
  {
   "cell_type": "code",
   "execution_count": null,
   "id": "c7e07ab7",
   "metadata": {},
   "outputs": [],
   "source": [
    "#Display target variable values\n",
    "\n",
    "digits.target"
   ]
  },
  {
   "cell_type": "code",
   "execution_count": null,
   "id": "ff1ff2c4",
   "metadata": {},
   "outputs": [],
   "source": [
    "#Use matplotlib to plot digits dataset\n",
    "\n",
    "from sklearn import datasets\n",
    "\n",
    "import matplotlib.pyplot as plt\n",
    "\n",
    "# Load the digits dataset\n",
    "digits = datasets.load_digits()\n",
    "\n",
    "# Display the last digit\n",
    "plt.figure(1, figsize=(3, 3))\n",
    "plt.imshow(digits.images[-1], cmap=plt.cm.gray_r, interpolation=\"nearest\")\n",
    "plt.show()"
   ]
  },
  {
   "cell_type": "code",
   "execution_count": null,
   "id": "819ea206",
   "metadata": {},
   "outputs": [],
   "source": [
    "#Convert the dataset housing into a pandas dataframe called digits_df\n",
    "# using the function DataFrame()\n",
    "\n",
    "digits_df = pd.DataFrame(data = digits.data, columns = digits.feature_names)"
   ]
  },
  {
   "cell_type": "code",
   "execution_count": null,
   "id": "6590b40d",
   "metadata": {},
   "outputs": [],
   "source": [
    "#Display first 5 observations of the converted data\n",
    "\n",
    "digits_df.head()"
   ]
  },
  {
   "cell_type": "code",
   "execution_count": null,
   "id": "4c5e780f",
   "metadata": {},
   "outputs": [],
   "source": [
    "#We need to add the target variable\n",
    "\n",
    "#To add the target column, use the attribute target\n",
    "\n",
    "digits_df[\"Target\"] = pd.Series(digits.target)"
   ]
  },
  {
   "cell_type": "code",
   "execution_count": null,
   "id": "0bf5b96b",
   "metadata": {},
   "outputs": [],
   "source": [
    "#Display first five observations of complete/combined dataframe\n",
    "\n",
    "digits_df.head()"
   ]
  },
  {
   "cell_type": "code",
   "execution_count": null,
   "id": "fb3c92c7",
   "metadata": {},
   "outputs": [],
   "source": []
  },
  {
   "cell_type": "markdown",
   "id": "ae2e60bd",
   "metadata": {},
   "source": [
    "# Loading Diabetes dataset"
   ]
  },
  {
   "cell_type": "code",
   "execution_count": null,
   "id": "a3111a3b",
   "metadata": {},
   "outputs": [],
   "source": [
    "#Load the Boston housing prices dataset and assign it to an object housing\n",
    "\n",
    "diabetes = datasets.load_diabetes()"
   ]
  },
  {
   "cell_type": "code",
   "execution_count": null,
   "id": "fa335776",
   "metadata": {},
   "outputs": [],
   "source": [
    "#Display diabetes\n",
    "\n",
    "diabetes"
   ]
  },
  {
   "cell_type": "code",
   "execution_count": null,
   "id": "3453d375",
   "metadata": {},
   "outputs": [],
   "source": [
    "#Display feature names\n",
    "diabetes.feature_names"
   ]
  },
  {
   "cell_type": "code",
   "execution_count": null,
   "id": "caa613a8",
   "metadata": {},
   "outputs": [],
   "source": [
    "#Display target name\n",
    "diabetes.target"
   ]
  },
  {
   "cell_type": "code",
   "execution_count": null,
   "id": "93bbb463",
   "metadata": {},
   "outputs": [],
   "source": [
    "#Convert the dataset housing into a pandas dataframe called diabetes_df\n",
    "# using the function DataFrame()\n",
    "\n",
    "diabetes_df = pd.DataFrame(data = diabetes.data, columns = diabetes.feature_names)"
   ]
  },
  {
   "cell_type": "code",
   "execution_count": null,
   "id": "0f72369c",
   "metadata": {},
   "outputs": [],
   "source": [
    "#Display first 5 observations of the converted data\n",
    "\n",
    "diabetes_df.head()"
   ]
  },
  {
   "cell_type": "code",
   "execution_count": null,
   "id": "40cd990d",
   "metadata": {},
   "outputs": [],
   "source": [
    "#We need to add the target variable\n",
    "\n",
    "#To add the target column, use the attribute target\n",
    "\n",
    "diabetes_df[\"Target\"] = pd.Series(diabetes.target)"
   ]
  },
  {
   "cell_type": "code",
   "execution_count": null,
   "id": "997555f6",
   "metadata": {},
   "outputs": [],
   "source": [
    "#Display first five observations of complete/combined dataframe\n",
    "\n",
    "diabetes_df.head()"
   ]
  },
  {
   "cell_type": "code",
   "execution_count": null,
   "id": "7a5762ee",
   "metadata": {},
   "outputs": [],
   "source": []
  },
  {
   "cell_type": "markdown",
   "id": "06220d38",
   "metadata": {},
   "source": [
    "# Loading Linnerud dataset"
   ]
  },
  {
   "cell_type": "code",
   "execution_count": null,
   "id": "7ffc6f5d",
   "metadata": {},
   "outputs": [],
   "source": [
    "#Load the linnerdud prices dataset and assign it to an object housing\n",
    "\n",
    "linnerud = datasets.load_linnerud()"
   ]
  },
  {
   "cell_type": "code",
   "execution_count": null,
   "id": "15ddc87a",
   "metadata": {},
   "outputs": [],
   "source": [
    "#Display linnerud\n",
    "\n",
    "linnerud"
   ]
  },
  {
   "cell_type": "code",
   "execution_count": null,
   "id": "6d57e06d",
   "metadata": {},
   "outputs": [],
   "source": [
    "#Display feature names\n",
    "linnerud.feature_names"
   ]
  },
  {
   "cell_type": "code",
   "execution_count": 64,
   "id": "22526692",
   "metadata": {},
   "outputs": [
    {
     "data": {
      "text/plain": [
       "array([[191.,  36.,  50.],\n",
       "       [189.,  37.,  52.],\n",
       "       [193.,  38.,  58.],\n",
       "       [162.,  35.,  62.],\n",
       "       [189.,  35.,  46.],\n",
       "       [182.,  36.,  56.],\n",
       "       [211.,  38.,  56.],\n",
       "       [167.,  34.,  60.],\n",
       "       [176.,  31.,  74.],\n",
       "       [154.,  33.,  56.],\n",
       "       [169.,  34.,  50.],\n",
       "       [166.,  33.,  52.],\n",
       "       [154.,  34.,  64.],\n",
       "       [247.,  46.,  50.],\n",
       "       [193.,  36.,  46.],\n",
       "       [202.,  37.,  62.],\n",
       "       [176.,  37.,  54.],\n",
       "       [157.,  32.,  52.],\n",
       "       [156.,  33.,  54.],\n",
       "       [138.,  33.,  68.]])"
      ]
     },
     "execution_count": 64,
     "metadata": {},
     "output_type": "execute_result"
    }
   ],
   "source": [
    "#Display target name\n",
    "linnerud.target"
   ]
  },
  {
   "cell_type": "code",
   "execution_count": 60,
   "id": "c690456b",
   "metadata": {},
   "outputs": [],
   "source": [
    "#Convert the dataset housing into a pandas dataframe called linnerud_df\n",
    "# using the function DataFrame()\n",
    "\n",
    "linnerud_df = pd.DataFrame(data = linnerud.data, columns = linnerud.feature_names)"
   ]
  },
  {
   "cell_type": "code",
   "execution_count": 61,
   "id": "52706a55",
   "metadata": {},
   "outputs": [
    {
     "data": {
      "text/html": [
       "<div>\n",
       "<style scoped>\n",
       "    .dataframe tbody tr th:only-of-type {\n",
       "        vertical-align: middle;\n",
       "    }\n",
       "\n",
       "    .dataframe tbody tr th {\n",
       "        vertical-align: top;\n",
       "    }\n",
       "\n",
       "    .dataframe thead th {\n",
       "        text-align: right;\n",
       "    }\n",
       "</style>\n",
       "<table border=\"1\" class=\"dataframe\">\n",
       "  <thead>\n",
       "    <tr style=\"text-align: right;\">\n",
       "      <th></th>\n",
       "      <th>Chins</th>\n",
       "      <th>Situps</th>\n",
       "      <th>Jumps</th>\n",
       "    </tr>\n",
       "  </thead>\n",
       "  <tbody>\n",
       "    <tr>\n",
       "      <th>0</th>\n",
       "      <td>5.0</td>\n",
       "      <td>162.0</td>\n",
       "      <td>60.0</td>\n",
       "    </tr>\n",
       "    <tr>\n",
       "      <th>1</th>\n",
       "      <td>2.0</td>\n",
       "      <td>110.0</td>\n",
       "      <td>60.0</td>\n",
       "    </tr>\n",
       "    <tr>\n",
       "      <th>2</th>\n",
       "      <td>12.0</td>\n",
       "      <td>101.0</td>\n",
       "      <td>101.0</td>\n",
       "    </tr>\n",
       "    <tr>\n",
       "      <th>3</th>\n",
       "      <td>12.0</td>\n",
       "      <td>105.0</td>\n",
       "      <td>37.0</td>\n",
       "    </tr>\n",
       "    <tr>\n",
       "      <th>4</th>\n",
       "      <td>13.0</td>\n",
       "      <td>155.0</td>\n",
       "      <td>58.0</td>\n",
       "    </tr>\n",
       "  </tbody>\n",
       "</table>\n",
       "</div>"
      ],
      "text/plain": [
       "   Chins  Situps  Jumps\n",
       "0    5.0   162.0   60.0\n",
       "1    2.0   110.0   60.0\n",
       "2   12.0   101.0  101.0\n",
       "3   12.0   105.0   37.0\n",
       "4   13.0   155.0   58.0"
      ]
     },
     "execution_count": 61,
     "metadata": {},
     "output_type": "execute_result"
    }
   ],
   "source": [
    "#Display first 5 observations of the converted data\n",
    "\n",
    "linnerud_df.head()"
   ]
  },
  {
   "cell_type": "code",
   "execution_count": 63,
   "id": "0cab69cc",
   "metadata": {},
   "outputs": [
    {
     "data": {
      "text/html": [
       "<div>\n",
       "<style scoped>\n",
       "    .dataframe tbody tr th:only-of-type {\n",
       "        vertical-align: middle;\n",
       "    }\n",
       "\n",
       "    .dataframe tbody tr th {\n",
       "        vertical-align: top;\n",
       "    }\n",
       "\n",
       "    .dataframe thead th {\n",
       "        text-align: right;\n",
       "    }\n",
       "</style>\n",
       "<table border=\"1\" class=\"dataframe\">\n",
       "  <thead>\n",
       "    <tr style=\"text-align: right;\">\n",
       "      <th></th>\n",
       "      <th>Chins</th>\n",
       "      <th>Situps</th>\n",
       "      <th>Jumps</th>\n",
       "    </tr>\n",
       "  </thead>\n",
       "  <tbody>\n",
       "    <tr>\n",
       "      <th>0</th>\n",
       "      <td>5.0</td>\n",
       "      <td>162.0</td>\n",
       "      <td>60.0</td>\n",
       "    </tr>\n",
       "    <tr>\n",
       "      <th>1</th>\n",
       "      <td>2.0</td>\n",
       "      <td>110.0</td>\n",
       "      <td>60.0</td>\n",
       "    </tr>\n",
       "    <tr>\n",
       "      <th>2</th>\n",
       "      <td>12.0</td>\n",
       "      <td>101.0</td>\n",
       "      <td>101.0</td>\n",
       "    </tr>\n",
       "    <tr>\n",
       "      <th>3</th>\n",
       "      <td>12.0</td>\n",
       "      <td>105.0</td>\n",
       "      <td>37.0</td>\n",
       "    </tr>\n",
       "    <tr>\n",
       "      <th>4</th>\n",
       "      <td>13.0</td>\n",
       "      <td>155.0</td>\n",
       "      <td>58.0</td>\n",
       "    </tr>\n",
       "  </tbody>\n",
       "</table>\n",
       "</div>"
      ],
      "text/plain": [
       "   Chins  Situps  Jumps\n",
       "0    5.0   162.0   60.0\n",
       "1    2.0   110.0   60.0\n",
       "2   12.0   101.0  101.0\n",
       "3   12.0   105.0   37.0\n",
       "4   13.0   155.0   58.0"
      ]
     },
     "execution_count": 63,
     "metadata": {},
     "output_type": "execute_result"
    }
   ],
   "source": [
    "#Display first five observations of complete/combined dataframe\n",
    "\n",
    "linnerud_df.head()"
   ]
  },
  {
   "cell_type": "code",
   "execution_count": null,
   "id": "51360980",
   "metadata": {},
   "outputs": [],
   "source": []
  },
  {
   "cell_type": "code",
   "execution_count": null,
   "id": "863dba90",
   "metadata": {},
   "outputs": [],
   "source": []
  },
  {
   "cell_type": "code",
   "execution_count": null,
   "id": "d82b9ba6",
   "metadata": {},
   "outputs": [],
   "source": []
  },
  {
   "cell_type": "code",
   "execution_count": null,
   "id": "1856bbdf",
   "metadata": {},
   "outputs": [],
   "source": []
  },
  {
   "cell_type": "code",
   "execution_count": null,
   "id": "01a67ada",
   "metadata": {},
   "outputs": [],
   "source": []
  },
  {
   "cell_type": "code",
   "execution_count": null,
   "id": "b96d02d2",
   "metadata": {},
   "outputs": [],
   "source": []
  },
  {
   "cell_type": "code",
   "execution_count": null,
   "id": "714fd590",
   "metadata": {},
   "outputs": [],
   "source": []
  },
  {
   "cell_type": "code",
   "execution_count": null,
   "id": "de7108e2",
   "metadata": {},
   "outputs": [],
   "source": []
  },
  {
   "cell_type": "code",
   "execution_count": null,
   "id": "3b20e015",
   "metadata": {},
   "outputs": [],
   "source": [
    "import pandas as pd\n",
    "        import numpy as np\n",
    "\n",
    "\n",
    "        data_url = \"http://lib.stat.cmu.edu/datasets/boston\"\n",
    "        raw_df = pd.read_csv(data_url, sep=\"\\s+\", skiprows=22, header=None)\n",
    "        data = np.hstack([raw_df.values[::2, :], raw_df.values[1::2, :2]])\n",
    "        target = raw_df.values[1::2, 2]\n",
    "\n",
    "    Alternative datasets include the California housing dataset (i.e.\n",
    "    :func:`~sklearn.datasets.fetch_california_housing`) and the Ames housing\n",
    "    dataset. You can load the datasets as follows::\n",
    "\n",
    "        from sklearn.datasets import fetch_california_housing\n",
    "        housing = fetch_california_housing()\n",
    "\n",
    "    for the California housing dataset and::\n",
    "\n",
    "        from sklearn.datasets import fetch_openml\n",
    "        housing = fetch_openml(name=\"house_prices\", as_frame=True)\n",
    "\n",
    "    for the Ames housing dataset.\n",
    "    \n",
    "  warnings.warn(msg, category=FutureWarning)"
   ]
  }
 ],
 "metadata": {
  "kernelspec": {
   "display_name": "Python 3 (ipykernel)",
   "language": "python",
   "name": "python3"
  },
  "language_info": {
   "codemirror_mode": {
    "name": "ipython",
    "version": 3
   },
   "file_extension": ".py",
   "mimetype": "text/x-python",
   "name": "python",
   "nbconvert_exporter": "python",
   "pygments_lexer": "ipython3",
   "version": "3.9.7"
  }
 },
 "nbformat": 4,
 "nbformat_minor": 5
}
