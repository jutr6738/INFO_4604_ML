{
 "cells": [
  {
   "cell_type": "markdown",
   "id": "3428d38b",
   "metadata": {},
   "source": [
    "# Example 1: Support Vector Classification (SVC) Using Synthetic Data"
   ]
  },
  {
   "cell_type": "code",
   "execution_count": null,
   "id": "db8e1f42",
   "metadata": {},
   "outputs": [],
   "source": []
  },
  {
   "cell_type": "code",
   "execution_count": null,
   "id": "71c56fbd",
   "metadata": {},
   "outputs": [],
   "source": []
  },
  {
   "cell_type": "code",
   "execution_count": 22,
   "id": "bf43bd58",
   "metadata": {},
   "outputs": [],
   "source": [
    "#Import relevant libraries\n",
    "\n",
    "from sklearn.svm import SVC\n",
    "from sklearn.datasets import load_iris\n",
    "from sklearn.datasets import make_classification\n",
    "from sklearn.model_selection import train_test_split\n",
    "from sklearn.model_selection import cross_val_score\n",
    "from sklearn.metrics import confusion_matrix\n",
    "from sklearn.metrics import classification_report"
   ]
  },
  {
   "cell_type": "code",
   "execution_count": 23,
   "id": "fc5c2a36",
   "metadata": {},
   "outputs": [],
   "source": [
    "#Generate data\n",
    "\n",
    "x, y = make_classification(n_samples=5000, n_features=10, \n",
    "                           n_classes=3, \n",
    "                           n_clusters_per_class=1)"
   ]
  },
  {
   "cell_type": "code",
   "execution_count": null,
   "id": "891c321d",
   "metadata": {},
   "outputs": [],
   "source": []
  },
  {
   "cell_type": "code",
   "execution_count": 24,
   "id": "602818ed",
   "metadata": {},
   "outputs": [],
   "source": [
    "#Split data into train and test\n",
    "\n",
    "xtrain, xtest, ytrain, ytest=train_test_split(x, y, test_size=0.15)"
   ]
  },
  {
   "cell_type": "code",
   "execution_count": 25,
   "id": "68379aaa",
   "metadata": {},
   "outputs": [
    {
     "name": "stdout",
     "output_type": "stream",
     "text": [
      "SVC()\n"
     ]
    }
   ],
   "source": [
    "#Create instance of SVC\n",
    "\n",
    "svc = SVC()\n",
    "print(svc)"
   ]
  },
  {
   "cell_type": "code",
   "execution_count": null,
   "id": "6e9a3f6c",
   "metadata": {},
   "outputs": [],
   "source": []
  },
  {
   "cell_type": "code",
   "execution_count": 7,
   "id": "26aec34e",
   "metadata": {},
   "outputs": [
    {
     "name": "stdout",
     "output_type": "stream",
     "text": [
      "Score:  0.8884705882352941\n"
     ]
    }
   ],
   "source": [
    "#Fit and score model\n",
    "\n",
    "svc.fit(xtrain, ytrain)\n",
    "score = svc.score(xtrain, ytrain)\n",
    "print(\"Score: \", score)"
   ]
  },
  {
   "cell_type": "code",
   "execution_count": null,
   "id": "6bf28970",
   "metadata": {},
   "outputs": [],
   "source": []
  },
  {
   "cell_type": "code",
   "execution_count": 8,
   "id": "3161aded",
   "metadata": {},
   "outputs": [
    {
     "name": "stdout",
     "output_type": "stream",
     "text": [
      "CV average score: 0.87\n"
     ]
    }
   ],
   "source": [
    "#Use cross-validation to average model scores\n",
    "\n",
    "cv_scores = cross_val_score(svc, xtrain, ytrain, cv=10)\n",
    "print(\"CV average score: %.2f\" % cv_scores.mean())\n"
   ]
  },
  {
   "cell_type": "code",
   "execution_count": null,
   "id": "45b5230c",
   "metadata": {},
   "outputs": [],
   "source": []
  },
  {
   "cell_type": "code",
   "execution_count": 9,
   "id": "b235f2fd",
   "metadata": {},
   "outputs": [],
   "source": [
    "#Predict (classify) outcomes using test data\n",
    "\n",
    "ypred = svc.predict(xtest)"
   ]
  },
  {
   "cell_type": "code",
   "execution_count": null,
   "id": "373328ae",
   "metadata": {},
   "outputs": [],
   "source": []
  },
  {
   "cell_type": "code",
   "execution_count": 10,
   "id": "b199a2ba",
   "metadata": {},
   "outputs": [
    {
     "name": "stdout",
     "output_type": "stream",
     "text": [
      "[[220   3  20]\n",
      " [  1 203  28]\n",
      " [ 25  27 223]]\n"
     ]
    }
   ],
   "source": [
    "#Generate and print confusion matrix\n",
    "\n",
    "cm = confusion_matrix(ytest, ypred)\n",
    "print(cm)"
   ]
  },
  {
   "cell_type": "code",
   "execution_count": null,
   "id": "49b19d83",
   "metadata": {},
   "outputs": [],
   "source": []
  },
  {
   "cell_type": "code",
   "execution_count": 11,
   "id": "3928d618",
   "metadata": {},
   "outputs": [
    {
     "name": "stdout",
     "output_type": "stream",
     "text": [
      "              precision    recall  f1-score   support\n",
      "\n",
      "           0       0.89      0.91      0.90       243\n",
      "           1       0.87      0.88      0.87       232\n",
      "           2       0.82      0.81      0.82       275\n",
      "\n",
      "    accuracy                           0.86       750\n",
      "   macro avg       0.86      0.86      0.86       750\n",
      "weighted avg       0.86      0.86      0.86       750\n",
      "\n"
     ]
    }
   ],
   "source": [
    "#Generate and print classification report\n",
    "\n",
    "cr = classification_report(ytest, ypred)\n",
    "print(cr)"
   ]
  },
  {
   "cell_type": "code",
   "execution_count": null,
   "id": "f727e184",
   "metadata": {},
   "outputs": [],
   "source": [
    "from sklearn.svm import SVC\n",
    "from sklearn.datasets import load_iris\n",
    "from sklearn.datasets import make_classification\n",
    "from sklearn.model_selection import train_test_split\n",
    "from sklearn.model_selection import cross_val_score\n",
    "from sklearn.metrics import confusion_matrix\n",
    "from sklearn.metrics import classification_report\n",
    "\n",
    "x, y = make_classification(n_samples=5000, n_features=10, \n",
    "                           n_classes=3, \n",
    "                           n_clusters_per_class=1)\n",
    "\n",
    "xtrain, xtest, ytrain, ytest=train_test_split(x, y, test_size=0.15)\n",
    "\n",
    "svc = SVC()\n",
    "print(svc)\n",
    "\n",
    "svc.fit(xtrain, ytrain)\n",
    "score = svc.score(xtrain, ytrain)\n",
    "print(\"Score: \", score)\n",
    "\n",
    "cv_scores = cross_val_score(svc, xtrain, ytrain, cv=10)\n",
    "print(\"CV average score: %.2f\" % cv_scores.mean())\n",
    "\n",
    "ypred = svc.predict(xtest)\n",
    "\n",
    "cm = confusion_matrix(ytest, ypred)\n",
    "print(cm)\n",
    "\n",
    "cr = classification_report(ytest, ypred)\n",
    "print(cr) \n",
    "\n",
    "\n"
   ]
  },
  {
   "cell_type": "code",
   "execution_count": null,
   "id": "1154f331",
   "metadata": {},
   "outputs": [],
   "source": []
  },
  {
   "cell_type": "markdown",
   "id": "87e5e044",
   "metadata": {},
   "source": [
    "# Example 2: SVC Using Iris Dataset"
   ]
  },
  {
   "cell_type": "code",
   "execution_count": null,
   "id": "69abc3d9",
   "metadata": {},
   "outputs": [],
   "source": []
  },
  {
   "cell_type": "code",
   "execution_count": 13,
   "id": "b1767b5d",
   "metadata": {},
   "outputs": [
    {
     "name": "stdout",
     "output_type": "stream",
     "text": [
      "Iris dataset classification with SVC\n"
     ]
    }
   ],
   "source": [
    "# Iris dataset classification\n",
    "print(\"Iris dataset classification with SVC\")\n",
    "\n",
    "\n",
    "#Load Iris dataset\n",
    "iris = load_iris()\n"
   ]
  },
  {
   "cell_type": "code",
   "execution_count": 14,
   "id": "5f464cc8",
   "metadata": {},
   "outputs": [],
   "source": [
    "#Assign preditor variables and target variables to objects\n",
    "\n",
    "x, y = iris.data, iris.target\n"
   ]
  },
  {
   "cell_type": "code",
   "execution_count": null,
   "id": "13dea354",
   "metadata": {},
   "outputs": [],
   "source": []
  },
  {
   "cell_type": "code",
   "execution_count": 15,
   "id": "33b667a5",
   "metadata": {},
   "outputs": [],
   "source": [
    "#Split dataset into train and test sets\n",
    "\n",
    "xtrain, xtest, ytrain, ytest=train_test_split(x, y, test_size=0.15)"
   ]
  },
  {
   "cell_type": "code",
   "execution_count": null,
   "id": "523ce322",
   "metadata": {},
   "outputs": [],
   "source": []
  },
  {
   "cell_type": "code",
   "execution_count": 16,
   "id": "de3f2bd4",
   "metadata": {},
   "outputs": [
    {
     "name": "stdout",
     "output_type": "stream",
     "text": [
      "SVC()\n"
     ]
    }
   ],
   "source": [
    "#Create and print instance of SV classifier (SVC)\n",
    "\n",
    "svc = SVC()\n",
    "print(svc)"
   ]
  },
  {
   "cell_type": "code",
   "execution_count": null,
   "id": "49e1aaa4",
   "metadata": {},
   "outputs": [],
   "source": []
  },
  {
   "cell_type": "code",
   "execution_count": 17,
   "id": "4d820644",
   "metadata": {},
   "outputs": [
    {
     "name": "stdout",
     "output_type": "stream",
     "text": [
      "Score:  0.968503937007874\n"
     ]
    }
   ],
   "source": [
    "#Fit and score model\n",
    "\n",
    "svc.fit(xtrain, ytrain)\n",
    "score = svc.score(xtrain, ytrain)\n",
    "print(\"Score: \", score)"
   ]
  },
  {
   "cell_type": "code",
   "execution_count": null,
   "id": "25def376",
   "metadata": {},
   "outputs": [],
   "source": []
  },
  {
   "cell_type": "code",
   "execution_count": 18,
   "id": "900bd735",
   "metadata": {},
   "outputs": [
    {
     "name": "stdout",
     "output_type": "stream",
     "text": [
      "CV average score: 0.97\n"
     ]
    }
   ],
   "source": [
    "#Use cross-validation to average model scores for SVC\n",
    "\n",
    "cv_scores = cross_val_score(svc, xtrain, ytrain, cv=10)\n",
    "print(\"CV average score: %.2f\" % cv_scores.mean())"
   ]
  },
  {
   "cell_type": "code",
   "execution_count": null,
   "id": "7e24e1e4",
   "metadata": {},
   "outputs": [],
   "source": []
  },
  {
   "cell_type": "code",
   "execution_count": 19,
   "id": "f4717ab9",
   "metadata": {},
   "outputs": [],
   "source": [
    "#Predict (classifiy) outcomes from test data\n",
    "\n",
    "ypred = svc.predict(xtest)"
   ]
  },
  {
   "cell_type": "code",
   "execution_count": null,
   "id": "d482eadb",
   "metadata": {},
   "outputs": [],
   "source": []
  },
  {
   "cell_type": "code",
   "execution_count": 20,
   "id": "f7aff235",
   "metadata": {},
   "outputs": [
    {
     "name": "stdout",
     "output_type": "stream",
     "text": [
      "[[ 5  0  0]\n",
      " [ 0  7  0]\n",
      " [ 0  0 11]]\n"
     ]
    }
   ],
   "source": [
    "#Generate and print confusion matrix\n",
    "\n",
    "cm = confusion_matrix(ytest, ypred)\n",
    "print(cm)"
   ]
  },
  {
   "cell_type": "code",
   "execution_count": null,
   "id": "fff7b814",
   "metadata": {},
   "outputs": [],
   "source": []
  },
  {
   "cell_type": "code",
   "execution_count": 21,
   "id": "50e3276e",
   "metadata": {},
   "outputs": [
    {
     "name": "stdout",
     "output_type": "stream",
     "text": [
      "              precision    recall  f1-score   support\n",
      "\n",
      "           0       1.00      1.00      1.00         5\n",
      "           1       1.00      1.00      1.00         7\n",
      "           2       1.00      1.00      1.00        11\n",
      "\n",
      "    accuracy                           1.00        23\n",
      "   macro avg       1.00      1.00      1.00        23\n",
      "weighted avg       1.00      1.00      1.00        23\n",
      "\n"
     ]
    }
   ],
   "source": [
    "#Generate and print classification report\n",
    "\n",
    "cr = classification_report(ytest, ypred)\n",
    "print(cr) "
   ]
  },
  {
   "cell_type": "code",
   "execution_count": null,
   "id": "c41a7b5c",
   "metadata": {},
   "outputs": [],
   "source": []
  },
  {
   "cell_type": "code",
   "execution_count": null,
   "id": "e00b5355",
   "metadata": {},
   "outputs": [],
   "source": []
  },
  {
   "cell_type": "code",
   "execution_count": null,
   "id": "a4c350a3",
   "metadata": {},
   "outputs": [],
   "source": []
  },
  {
   "cell_type": "code",
   "execution_count": null,
   "id": "05ab0648",
   "metadata": {},
   "outputs": [],
   "source": [
    "#The cell below combines all the code above for Example 2"
   ]
  },
  {
   "cell_type": "code",
   "execution_count": null,
   "id": "279e0057",
   "metadata": {},
   "outputs": [],
   "source": [
    "# Iris dataset classification\n",
    "print(\"Iris dataset classification with SVC\")\n",
    "iris = load_iris()\n",
    "x, y = iris.data, iris.target\n",
    "xtrain, xtest, ytrain, ytest=train_test_split(x, y, test_size=0.15)\n",
    "\n",
    "svc = SVC()\n",
    "print(svc)\n",
    "\n",
    "svc.fit(xtrain, ytrain)\n",
    "score = svc.score(xtrain, ytrain)\n",
    "print(\"Score: \", score)\n",
    "\n",
    "cv_scores = cross_val_score(svc, xtrain, ytrain, cv=10)\n",
    "print(\"CV average score: %.2f\" % cv_scores.mean())\n",
    "\n",
    "ypred = svc.predict(xtest)\n",
    "\n",
    "cm = confusion_matrix(ytest, ypred)\n",
    "print(cm)\n",
    "\n",
    "cr = classification_report(ytest, ypred)\n",
    "print(cr) "
   ]
  },
  {
   "cell_type": "code",
   "execution_count": null,
   "id": "5de5edd7",
   "metadata": {},
   "outputs": [],
   "source": []
  },
  {
   "cell_type": "code",
   "execution_count": null,
   "id": "043a4b1e",
   "metadata": {},
   "outputs": [],
   "source": []
  },
  {
   "cell_type": "code",
   "execution_count": null,
   "id": "4715cf5e",
   "metadata": {},
   "outputs": [],
   "source": []
  },
  {
   "cell_type": "code",
   "execution_count": null,
   "id": "dc69e2d1",
   "metadata": {},
   "outputs": [],
   "source": []
  },
  {
   "cell_type": "code",
   "execution_count": null,
   "id": "7d41f259",
   "metadata": {},
   "outputs": [],
   "source": []
  },
  {
   "cell_type": "code",
   "execution_count": null,
   "id": "4dfd0acf",
   "metadata": {},
   "outputs": [],
   "source": []
  },
  {
   "cell_type": "code",
   "execution_count": 1,
   "id": "b7033d51",
   "metadata": {},
   "outputs": [
    {
     "name": "stdout",
     "output_type": "stream",
     "text": [
      "SVC()\n",
      "Score:  0.9061176470588236\n",
      "CV average score: 0.89\n",
      "[[224  12  11]\n",
      " [ 28 229   1]\n",
      " [  0  17 228]]\n",
      "              precision    recall  f1-score   support\n",
      "\n",
      "           0       0.89      0.91      0.90       247\n",
      "           1       0.89      0.89      0.89       258\n",
      "           2       0.95      0.93      0.94       245\n",
      "\n",
      "    accuracy                           0.91       750\n",
      "   macro avg       0.91      0.91      0.91       750\n",
      "weighted avg       0.91      0.91      0.91       750\n",
      "\n",
      "Iris dataset classification with SVC\n",
      "SVC()\n",
      "Score:  0.9763779527559056\n",
      "CV average score: 0.95\n",
      "[[6 0 0]\n",
      " [0 8 0]\n",
      " [0 0 9]]\n",
      "              precision    recall  f1-score   support\n",
      "\n",
      "           0       1.00      1.00      1.00         6\n",
      "           1       1.00      1.00      1.00         8\n",
      "           2       1.00      1.00      1.00         9\n",
      "\n",
      "    accuracy                           1.00        23\n",
      "   macro avg       1.00      1.00      1.00        23\n",
      "weighted avg       1.00      1.00      1.00        23\n",
      "\n"
     ]
    }
   ],
   "source": [
    "from sklearn.svm import SVC\n",
    "from sklearn.datasets import load_iris\n",
    "from sklearn.datasets import make_classification\n",
    "from sklearn.model_selection import train_test_split\n",
    "from sklearn.model_selection import cross_val_score\n",
    "from sklearn.metrics import confusion_matrix\n",
    "from sklearn.metrics import classification_report\n",
    "\n",
    "x, y = make_classification(n_samples=5000, n_features=10, \n",
    "                           n_classes=3, \n",
    "                           n_clusters_per_class=1)\n",
    "\n",
    "xtrain, xtest, ytrain, ytest=train_test_split(x, y, test_size=0.15)\n",
    "\n",
    "svc = SVC()\n",
    "print(svc)\n",
    "\n",
    "svc.fit(xtrain, ytrain)\n",
    "score = svc.score(xtrain, ytrain)\n",
    "print(\"Score: \", score)\n",
    "\n",
    "cv_scores = cross_val_score(svc, xtrain, ytrain, cv=10)\n",
    "print(\"CV average score: %.2f\" % cv_scores.mean())\n",
    "\n",
    "ypred = svc.predict(xtest)\n",
    "\n",
    "cm = confusion_matrix(ytest, ypred)\n",
    "print(cm)\n",
    "\n",
    "cr = classification_report(ytest, ypred)\n",
    "print(cr) \n",
    "\n",
    "\n",
    "# Iris dataset classification\n",
    "print(\"Iris dataset classification with SVC\")\n",
    "iris = load_iris()\n",
    "x, y = iris.data, iris.target\n",
    "xtrain, xtest, ytrain, ytest=train_test_split(x, y, test_size=0.15)\n",
    "\n",
    "svc = SVC()\n",
    "print(svc)\n",
    "\n",
    "svc.fit(xtrain, ytrain)\n",
    "score = svc.score(xtrain, ytrain)\n",
    "print(\"Score: \", score)\n",
    "\n",
    "cv_scores = cross_val_score(svc, xtrain, ytrain, cv=10)\n",
    "print(\"CV average score: %.2f\" % cv_scores.mean())\n",
    "\n",
    "ypred = svc.predict(xtest)\n",
    "\n",
    "cm = confusion_matrix(ytest, ypred)\n",
    "print(cm)\n",
    "\n",
    "cr = classification_report(ytest, ypred)\n",
    "print(cr) "
   ]
  },
  {
   "cell_type": "code",
   "execution_count": null,
   "id": "f13024ce",
   "metadata": {},
   "outputs": [],
   "source": []
  },
  {
   "cell_type": "code",
   "execution_count": null,
   "id": "ecda7e43",
   "metadata": {},
   "outputs": [],
   "source": []
  },
  {
   "cell_type": "code",
   "execution_count": null,
   "id": "532552fa",
   "metadata": {},
   "outputs": [],
   "source": []
  },
  {
   "cell_type": "code",
   "execution_count": null,
   "id": "4d97a36b",
   "metadata": {},
   "outputs": [],
   "source": []
  },
  {
   "cell_type": "code",
   "execution_count": null,
   "id": "447a865a",
   "metadata": {},
   "outputs": [],
   "source": []
  }
 ],
 "metadata": {
  "kernelspec": {
   "display_name": "Python 3 (ipykernel)",
   "language": "python",
   "name": "python3"
  },
  "language_info": {
   "codemirror_mode": {
    "name": "ipython",
    "version": 3
   },
   "file_extension": ".py",
   "mimetype": "text/x-python",
   "name": "python",
   "nbconvert_exporter": "python",
   "pygments_lexer": "ipython3",
   "version": "3.9.13"
  }
 },
 "nbformat": 4,
 "nbformat_minor": 5
}
