{
 "cells": [
  {
   "cell_type": "code",
   "execution_count": null,
   "id": "455cb5d1",
   "metadata": {},
   "outputs": [],
   "source": [
    "#Diagonal matrix\n",
    "\n",
    "#A diagonal matrix is one where the values outside the main diagonal\n",
    "# is taken from the top left of the matrix to the bottom right\n",
    "\n",
    "#Diagonal matrices consist of mostly zeros and have non-zero\n",
    "# entries only along the main diagonal\n",
    "\n",
    "#NumPy provides the function diag() that can create a diagonal\n",
    "#matrix ( or transform a given vector into a diagonal matrix)\n",
    "\n",
    "#The example below defines a 3 x 3 square matrix, extracts the \n",
    "#main diagonal as a vector, and then creates a diagonal\n",
    "#matrix from the extracted vector\n",
    "\n",
    "\n",
    "\n",
    "from numpy import array\n",
    "from numpy import diag\n",
    "# define square matrix\n",
    "M = array([\n",
    "[1, 2, 3],\n",
    "[1, 2, 3],\n",
    "[1, 2, 3]])\n",
    "print(M)\n",
    "# extract diagonal vector\n",
    "d = diag(M)\n",
    "print(d)\n",
    "# create diagonal matrix from vector\n",
    "D = diag(d)\n",
    "print(D)"
   ]
  },
  {
   "cell_type": "code",
   "execution_count": null,
   "id": "8db77846",
   "metadata": {},
   "outputs": [],
   "source": [
    "#A diagonal matrix (or an original matrix) does not have to be square.\n",
    "\n",
    "\n",
    "\n",
    "from numpy import array\n",
    "from numpy import diag\n",
    "# define square matrix\n",
    "G = array([\n",
    "[1, 2, 3],\n",
    "[1, 2, 3],\n",
    "[1, 2, 3],\n",
    "[6, 7, 2]])\n",
    "print(G)\n",
    "\n",
    "# extract diagonal vector\n",
    "d = diag(G)\n",
    "print(d)\n",
    "\n",
    "# create diagonal matrix from vector\n",
    "D = diag(d)\n",
    "print(D)"
   ]
  },
  {
   "cell_type": "markdown",
   "id": "dbe3f9ab",
   "metadata": {},
   "source": [
    "# Example: Using Python to solve a system of linear equations Ax = b"
   ]
  },
  {
   "cell_type": "code",
   "execution_count": 1,
   "id": "1bc97990",
   "metadata": {},
   "outputs": [
    {
     "name": "stdout",
     "output_type": "stream",
     "text": [
      "Solutions:\n",
      " [  6.  15. -23.]\n"
     ]
    }
   ],
   "source": [
    "import numpy as np\n",
    "# define matrix A using Numpy arrays\n",
    "A = np.array([[2, 1, 1],\n",
    " [1, 3, 2],\n",
    " [1, 0, 0]]) \n",
    "\n",
    "#define matrix B\n",
    "B = np.array([4, 5, 6]) \n",
    "\n",
    "# linalg.solve is the function of NumPy to solve a system of linear scalar equations\n",
    "print (\"Solutions:\\n\",np.linalg.solve(A, B ))\n"
   ]
  },
  {
   "cell_type": "markdown",
   "id": "48feddde",
   "metadata": {},
   "source": [
    "# Example: LU Decomposition"
   ]
  },
  {
   "cell_type": "code",
   "execution_count": 2,
   "id": "f9a6eb03",
   "metadata": {},
   "outputs": [
    {
     "name": "stdout",
     "output_type": "stream",
     "text": [
      "[[1 2 3]\n",
      " [4 5 6]\n",
      " [7 8 9]]\n"
     ]
    }
   ],
   "source": [
    "# LU decomposition\n",
    "from numpy import array\n",
    "from scipy.linalg import lu #remember to load this\n",
    "# define a square matrix\n",
    "A = array([\n",
    "[1, 2, 3],\n",
    "[4, 5, 6],\n",
    "[7, 8, 9]])\n",
    "\n",
    "\n",
    "print(A)\n",
    "\n"
   ]
  },
  {
   "cell_type": "code",
   "execution_count": 3,
   "id": "7fe63a67",
   "metadata": {},
   "outputs": [],
   "source": [
    "# factorize matrix\n",
    "P, L, U = lu(A)"
   ]
  },
  {
   "cell_type": "code",
   "execution_count": 4,
   "id": "2f1cb8c9",
   "metadata": {},
   "outputs": [
    {
     "name": "stdout",
     "output_type": "stream",
     "text": [
      "[[0. 1. 0.]\n",
      " [0. 0. 1.]\n",
      " [1. 0. 0.]]\n"
     ]
    }
   ],
   "source": [
    "print(P)"
   ]
  },
  {
   "cell_type": "code",
   "execution_count": 5,
   "id": "bbb15297",
   "metadata": {},
   "outputs": [
    {
     "name": "stdout",
     "output_type": "stream",
     "text": [
      "[[1.         0.         0.        ]\n",
      " [0.14285714 1.         0.        ]\n",
      " [0.57142857 0.5        1.        ]]\n"
     ]
    }
   ],
   "source": [
    "print(L)"
   ]
  },
  {
   "cell_type": "code",
   "execution_count": 6,
   "id": "550681eb",
   "metadata": {},
   "outputs": [
    {
     "name": "stdout",
     "output_type": "stream",
     "text": [
      "[[ 7.00000000e+00  8.00000000e+00  9.00000000e+00]\n",
      " [ 0.00000000e+00  8.57142857e-01  1.71428571e+00]\n",
      " [ 0.00000000e+00  0.00000000e+00 -1.58603289e-16]]\n"
     ]
    }
   ],
   "source": [
    "print(U)"
   ]
  },
  {
   "cell_type": "code",
   "execution_count": 7,
   "id": "1cd9de26",
   "metadata": {},
   "outputs": [
    {
     "name": "stdout",
     "output_type": "stream",
     "text": [
      "[[1. 2. 3.]\n",
      " [4. 5. 6.]\n",
      " [7. 8. 9.]]\n"
     ]
    }
   ],
   "source": [
    "# reconstruct original matrix \n",
    "B = P.dot(L).dot(U)\n",
    "print(B)\n"
   ]
  },
  {
   "cell_type": "markdown",
   "id": "98c83424",
   "metadata": {},
   "source": [
    "# Example: QR decomposition"
   ]
  },
  {
   "cell_type": "code",
   "execution_count": 8,
   "id": "60f5a847",
   "metadata": {},
   "outputs": [
    {
     "name": "stdout",
     "output_type": "stream",
     "text": [
      "[[1 2]\n",
      " [3 4]\n",
      " [5 6]]\n"
     ]
    }
   ],
   "source": [
    "#Example: QR decomposition\n",
    "\n",
    "from numpy import array\n",
    "from numpy.linalg import qr\n",
    "# define rectangular matrix\n",
    "A = array([\n",
    "[1, 2],\n",
    "[3, 4],\n",
    "[5, 6]])\n",
    "\n",
    "print(A)\n"
   ]
  },
  {
   "cell_type": "code",
   "execution_count": 9,
   "id": "72b39ca1",
   "metadata": {},
   "outputs": [],
   "source": [
    "# factorize original matrix\n",
    "Q, R = qr(A, 'complete')"
   ]
  },
  {
   "cell_type": "code",
   "execution_count": 10,
   "id": "2ba597d7",
   "metadata": {},
   "outputs": [
    {
     "name": "stdout",
     "output_type": "stream",
     "text": [
      "[[-0.16903085  0.89708523  0.40824829]\n",
      " [-0.50709255  0.27602622 -0.81649658]\n",
      " [-0.84515425 -0.34503278  0.40824829]]\n"
     ]
    }
   ],
   "source": [
    "print(Q)"
   ]
  },
  {
   "cell_type": "code",
   "execution_count": 11,
   "id": "4ede471d",
   "metadata": {},
   "outputs": [
    {
     "name": "stdout",
     "output_type": "stream",
     "text": [
      "[[-5.91607978 -7.43735744]\n",
      " [ 0.          0.82807867]\n",
      " [ 0.          0.        ]]\n"
     ]
    }
   ],
   "source": [
    "print(R)"
   ]
  },
  {
   "cell_type": "code",
   "execution_count": 12,
   "id": "3d27bdce",
   "metadata": {},
   "outputs": [],
   "source": [
    "# reconstruct original matrix from factors Q and R\n",
    "B = Q.dot(R)"
   ]
  },
  {
   "cell_type": "code",
   "execution_count": 13,
   "id": "fe705ff8",
   "metadata": {},
   "outputs": [
    {
     "name": "stdout",
     "output_type": "stream",
     "text": [
      "[[1. 2.]\n",
      " [3. 4.]\n",
      " [5. 6.]]\n"
     ]
    }
   ],
   "source": [
    "print(B)"
   ]
  },
  {
   "cell_type": "markdown",
   "id": "ea5156a4",
   "metadata": {},
   "source": [
    "# Example: Cholesky Decomposition"
   ]
  },
  {
   "cell_type": "code",
   "execution_count": null,
   "id": "d243e246",
   "metadata": {},
   "outputs": [],
   "source": []
  },
  {
   "cell_type": "code",
   "execution_count": 14,
   "id": "d27bb697",
   "metadata": {},
   "outputs": [
    {
     "name": "stdout",
     "output_type": "stream",
     "text": [
      "[[2 1 1]\n",
      " [1 2 1]\n",
      " [1 1 2]]\n"
     ]
    }
   ],
   "source": [
    "#Cholesky decomposition\n",
    "from numpy import array\n",
    "from numpy.linalg import cholesky\n",
    "\n",
    "# define symmetrical matrix\n",
    "A = array([\n",
    "[2, 1, 1],\n",
    "[1, 2, 1],\n",
    "[1, 1, 2]])\n",
    "print(A)\n"
   ]
  },
  {
   "cell_type": "code",
   "execution_count": 15,
   "id": "ce53ad0e",
   "metadata": {},
   "outputs": [],
   "source": [
    "# factorize original matrix\n",
    "L = cholesky(A)\n"
   ]
  },
  {
   "cell_type": "code",
   "execution_count": 16,
   "id": "7b68bbac",
   "metadata": {},
   "outputs": [
    {
     "name": "stdout",
     "output_type": "stream",
     "text": [
      "[[1.41421356 0.         0.        ]\n",
      " [0.70710678 1.22474487 0.        ]\n",
      " [0.70710678 0.40824829 1.15470054]]\n"
     ]
    }
   ],
   "source": [
    "print(L)"
   ]
  },
  {
   "cell_type": "code",
   "execution_count": 17,
   "id": "590b9710",
   "metadata": {},
   "outputs": [],
   "source": [
    "# reconstruct original matrix from factors\n",
    "B = L.dot(L.T)\n"
   ]
  },
  {
   "cell_type": "code",
   "execution_count": 18,
   "id": "d79ec68c",
   "metadata": {},
   "outputs": [
    {
     "name": "stdout",
     "output_type": "stream",
     "text": [
      "[[2. 1. 1.]\n",
      " [1. 2. 1.]\n",
      " [1. 1. 2.]]\n"
     ]
    }
   ],
   "source": [
    "print(B)"
   ]
  },
  {
   "cell_type": "code",
   "execution_count": null,
   "id": "ccc42cf6",
   "metadata": {},
   "outputs": [],
   "source": []
  },
  {
   "cell_type": "markdown",
   "id": "0e3af119",
   "metadata": {},
   "source": [
    "# Example - Eigendecomposition"
   ]
  },
  {
   "cell_type": "code",
   "execution_count": 19,
   "id": "5088149a",
   "metadata": {},
   "outputs": [
    {
     "name": "stdout",
     "output_type": "stream",
     "text": [
      "[[1 2 3]\n",
      " [4 5 6]\n",
      " [7 8 9]]\n"
     ]
    }
   ],
   "source": [
    "#eigendecomposition\n",
    "from numpy import array\n",
    "from numpy.linalg import eig\n",
    "# define matrix\n",
    "A = array([\n",
    "[1, 2, 3],\n",
    "[4, 5, 6],\n",
    "[7, 8, 9]])\n",
    "print(A)"
   ]
  },
  {
   "cell_type": "code",
   "execution_count": 20,
   "id": "4eea38c8",
   "metadata": {},
   "outputs": [],
   "source": [
    "# factorize original matrix into eigenvalues and eigenvectors\n",
    "values, vectors = eig(A)\n"
   ]
  },
  {
   "cell_type": "code",
   "execution_count": 21,
   "id": "519fcce0",
   "metadata": {},
   "outputs": [
    {
     "name": "stdout",
     "output_type": "stream",
     "text": [
      "[ 1.61168440e+01 -1.11684397e+00 -3.38433605e-16]\n"
     ]
    }
   ],
   "source": [
    "print(values)"
   ]
  },
  {
   "cell_type": "code",
   "execution_count": 22,
   "id": "11348a59",
   "metadata": {},
   "outputs": [
    {
     "name": "stdout",
     "output_type": "stream",
     "text": [
      "[[-0.23197069 -0.78583024  0.40824829]\n",
      " [-0.52532209 -0.08675134 -0.81649658]\n",
      " [-0.8186735   0.61232756  0.40824829]]\n"
     ]
    }
   ],
   "source": [
    "print(vectors)"
   ]
  },
  {
   "cell_type": "code",
   "execution_count": null,
   "id": "433437e3",
   "metadata": {},
   "outputs": [],
   "source": [
    "#Confirming an Eigenvector and Eigenvalue"
   ]
  },
  {
   "cell_type": "code",
   "execution_count": null,
   "id": "eae4bf93",
   "metadata": {},
   "outputs": [],
   "source": [
    "#We can confirm that a vector is an eigenvector of a matrix\n",
    "\n",
    "#We do this by multiplying the candidate eigenvector by the\n",
    "#value vector and compare the result with the eigenvalue\n"
   ]
  },
  {
   "cell_type": "code",
   "execution_count": 23,
   "id": "511ef310",
   "metadata": {},
   "outputs": [],
   "source": [
    "# confirm eigenvector\n",
    "from numpy import array\n",
    "from numpy.linalg import eig\n",
    "\n",
    "\n",
    "#Step 1: define matrix\n",
    "A = array([\n",
    "[1, 2, 3],\n",
    "[4, 5, 6],\n",
    "[7, 8, 9]])\n"
   ]
  },
  {
   "cell_type": "code",
   "execution_count": 24,
   "id": "7371c713",
   "metadata": {},
   "outputs": [],
   "source": [
    "#Step 2: factorize matrix to obtain eigenvalues and eigenvectors\n",
    "values, vectors = eig(A)\n"
   ]
  },
  {
   "cell_type": "code",
   "execution_count": 25,
   "id": "ff0192d7",
   "metadata": {},
   "outputs": [
    {
     "name": "stdout",
     "output_type": "stream",
     "text": [
      "[ 1.61168440e+01 -1.11684397e+00 -3.38433605e-16]\n"
     ]
    }
   ],
   "source": [
    "print(values) #print eigenvalues"
   ]
  },
  {
   "cell_type": "code",
   "execution_count": 26,
   "id": "4d85a785",
   "metadata": {},
   "outputs": [
    {
     "name": "stdout",
     "output_type": "stream",
     "text": [
      "[[-0.23197069 -0.78583024  0.40824829]\n",
      " [-0.52532209 -0.08675134 -0.81649658]\n",
      " [-0.8186735   0.61232756  0.40824829]]\n"
     ]
    }
   ],
   "source": [
    "print(vectors)#print eigenvectors"
   ]
  },
  {
   "cell_type": "code",
   "execution_count": 28,
   "id": "6f403af9",
   "metadata": {},
   "outputs": [
    {
     "name": "stdout",
     "output_type": "stream",
     "text": [
      "[-0.23197069 -0.52532209 -0.8186735 ]\n"
     ]
    }
   ],
   "source": [
    "print(vectors[:,0]) #print first eigenvector"
   ]
  },
  {
   "cell_type": "code",
   "execution_count": 27,
   "id": "a8cbd2d3",
   "metadata": {},
   "outputs": [
    {
     "name": "stdout",
     "output_type": "stream",
     "text": [
      "[ -3.73863537  -8.46653421 -13.19443305]\n"
     ]
    }
   ],
   "source": [
    "#Step 3: confirm first eigenvector\n",
    "B = A.dot(vectors[:, 0])\n",
    "print(B)\n"
   ]
  },
  {
   "cell_type": "code",
   "execution_count": 29,
   "id": "d087318b",
   "metadata": {},
   "outputs": [
    {
     "name": "stdout",
     "output_type": "stream",
     "text": [
      "[ -3.73863537  -8.46653421 -13.19443305]\n"
     ]
    }
   ],
   "source": [
    "C = vectors[:, 0] * values[0]\n",
    "print(C)"
   ]
  },
  {
   "cell_type": "code",
   "execution_count": null,
   "id": "7c06e4d1",
   "metadata": {},
   "outputs": [],
   "source": [
    "#The example above multiplies the original matrix with\n",
    "# the first eigenvector and compares it to the first\n",
    "# eigenvector multiplied by the first eigenvalue\n",
    "\n",
    "#Running the example prints the results of these two\n",
    "#multiplications - and we see that they are equal"
   ]
  },
  {
   "cell_type": "code",
   "execution_count": null,
   "id": "3ce2ee0b",
   "metadata": {},
   "outputs": [],
   "source": [
    "#Reconstruct original matrix\n",
    "\n",
    "#We can reverse the process and reconstruct the original matrix\n",
    "#given only the eigenvectors and eigenvalues"
   ]
  },
  {
   "cell_type": "code",
   "execution_count": 30,
   "id": "daf538a3",
   "metadata": {},
   "outputs": [
    {
     "name": "stdout",
     "output_type": "stream",
     "text": [
      "[[1 2 3]\n",
      " [4 5 6]\n",
      " [7 8 9]]\n"
     ]
    }
   ],
   "source": [
    "#reconstruct matrix\n",
    "from numpy import diag\n",
    "from numpy.linalg import inv\n",
    "from numpy import array\n",
    "from numpy.linalg import eig\n",
    "\n",
    "# define matrix\n",
    "A = array([\n",
    "[1, 2, 3],\n",
    "[4, 5, 6],\n",
    "[7, 8, 9]])\n",
    "print(A)"
   ]
  },
  {
   "cell_type": "code",
   "execution_count": 31,
   "id": "4222326a",
   "metadata": {},
   "outputs": [],
   "source": [
    "# factorize original matrix\n",
    "values, vectors = eig(A)\n"
   ]
  },
  {
   "cell_type": "code",
   "execution_count": 32,
   "id": "cb26896d",
   "metadata": {},
   "outputs": [],
   "source": [
    "# create matrix from eigenvectors\n",
    "Q = vectors\n"
   ]
  },
  {
   "cell_type": "code",
   "execution_count": 33,
   "id": "4a719d9a",
   "metadata": {},
   "outputs": [],
   "source": [
    "# create inverse of eigenvectors matrix\n",
    "R = inv(Q)\n"
   ]
  },
  {
   "cell_type": "code",
   "execution_count": 34,
   "id": "8428ce7d",
   "metadata": {},
   "outputs": [],
   "source": [
    "# create diagonal matrix from eigenvalues\n",
    "L = diag(values)\n"
   ]
  },
  {
   "cell_type": "code",
   "execution_count": 35,
   "id": "b6eaa195",
   "metadata": {},
   "outputs": [],
   "source": [
    "# reconstruct the original matrix\n",
    "B = Q.dot(L).dot(R)\n"
   ]
  },
  {
   "cell_type": "code",
   "execution_count": 36,
   "id": "ed16e7f4",
   "metadata": {},
   "outputs": [
    {
     "name": "stdout",
     "output_type": "stream",
     "text": [
      "[[1. 2. 3.]\n",
      " [4. 5. 6.]\n",
      " [7. 8. 9.]]\n"
     ]
    }
   ],
   "source": [
    "print(B)\n"
   ]
  },
  {
   "cell_type": "markdown",
   "id": "b09267da",
   "metadata": {},
   "source": [
    "# Singular-Value Decomposition"
   ]
  },
  {
   "cell_type": "code",
   "execution_count": 37,
   "id": "3a57f9f5",
   "metadata": {},
   "outputs": [
    {
     "name": "stdout",
     "output_type": "stream",
     "text": [
      "[[1 2]\n",
      " [3 4]\n",
      " [5 6]]\n"
     ]
    }
   ],
   "source": [
    "#singular-value decomposition\n",
    "from numpy import array\n",
    "from scipy.linalg import svd\n",
    "\n",
    "# define a matrix\n",
    "A = array([\n",
    "[1, 2],\n",
    "[3, 4],\n",
    "[5, 6]])\n",
    "\n",
    "print(A)\n"
   ]
  },
  {
   "cell_type": "code",
   "execution_count": 38,
   "id": "7377e22e",
   "metadata": {},
   "outputs": [],
   "source": [
    "# factorize original matrix using svd()\n",
    "U, s, V = svd(A)\n"
   ]
  },
  {
   "cell_type": "code",
   "execution_count": 39,
   "id": "2f260197",
   "metadata": {},
   "outputs": [
    {
     "name": "stdout",
     "output_type": "stream",
     "text": [
      "[[-0.2298477   0.88346102  0.40824829]\n",
      " [-0.52474482  0.24078249 -0.81649658]\n",
      " [-0.81964194 -0.40189603  0.40824829]]\n"
     ]
    }
   ],
   "source": [
    "print(U)"
   ]
  },
  {
   "cell_type": "code",
   "execution_count": 40,
   "id": "27eb8392",
   "metadata": {},
   "outputs": [
    {
     "name": "stdout",
     "output_type": "stream",
     "text": [
      "[9.52551809 0.51430058]\n"
     ]
    }
   ],
   "source": [
    "print(s)"
   ]
  },
  {
   "cell_type": "code",
   "execution_count": 41,
   "id": "d135d535",
   "metadata": {},
   "outputs": [
    {
     "name": "stdout",
     "output_type": "stream",
     "text": [
      "[[-0.61962948 -0.78489445]\n",
      " [-0.78489445  0.61962948]]\n"
     ]
    }
   ],
   "source": [
    "print(V)"
   ]
  },
  {
   "cell_type": "code",
   "execution_count": null,
   "id": "a185b132",
   "metadata": {},
   "outputs": [],
   "source": []
  },
  {
   "cell_type": "code",
   "execution_count": null,
   "id": "9c8e0594",
   "metadata": {},
   "outputs": [],
   "source": [
    "#Reconstruct original matrix from factors"
   ]
  },
  {
   "cell_type": "code",
   "execution_count": null,
   "id": "8cc84e61",
   "metadata": {},
   "outputs": [],
   "source": [
    "#reconstruct rectangular matrix from svd\n",
    "from numpy import array\n",
    "from numpy import diag\n",
    "from numpy import zeros\n",
    "from scipy.linalg import svd\n",
    "\n",
    "# define matrix\n",
    "A = array([\n",
    "[1, 2],\n",
    "[3, 4],\n",
    "[5, 6]])\n",
    "\n",
    "print(A)"
   ]
  },
  {
   "cell_type": "code",
   "execution_count": null,
   "id": "bc185f38",
   "metadata": {},
   "outputs": [],
   "source": [
    "# factorize original matrix\n",
    "U, s, V = svd(A)\n"
   ]
  },
  {
   "cell_type": "code",
   "execution_count": null,
   "id": "a06b5a46",
   "metadata": {},
   "outputs": [],
   "source": [
    "# create m x n Sigma matrix\n",
    "Sigma = zeros((A.shape[0], A.shape[1]))\n"
   ]
  },
  {
   "cell_type": "code",
   "execution_count": null,
   "id": "3243c128",
   "metadata": {},
   "outputs": [],
   "source": [
    "# populate Sigma with n x n diagonal matrix\n",
    "Sigma[:A.shape[1], :A.shape[1]] = diag(s)\n"
   ]
  },
  {
   "cell_type": "code",
   "execution_count": null,
   "id": "2239426f",
   "metadata": {},
   "outputs": [],
   "source": [
    "# reconstruct matrix\n",
    "B = U.dot(Sigma.dot(V))\n",
    "print(B)\n"
   ]
  },
  {
   "cell_type": "code",
   "execution_count": null,
   "id": "d2e0fcbe",
   "metadata": {},
   "outputs": [],
   "source": [
    "#The U, s and V elements from svd() cannot be multiplied directly to \n",
    "# reconstruct the original matrix\n",
    "\n",
    "#The s vector must be converted into a diagonal matrix using the\n",
    "#diag() function. By default, diag() creates a square matrix that is n x n\n",
    "# relative to the original matrix\n",
    "\n",
    "#Recall A is a 3 x 2 matrix\n",
    "#U is a 3 x 3 matrix\n",
    "#Sigma = diag(s) is ???\n",
    "#V.T is a 2 x 2 matrix\n",
    "\n",
    "#All this implies that Sigma has to be a 3 x 2 matrix in order to reconstruct a 3 x 2 matrix (A)\n",
    "\n",
    "\n",
    "#After creating the square diagonal matrix, the sizes of the matrices\n",
    "# are relative to the original \n",
    "\n"
   ]
  },
  {
   "cell_type": "code",
   "execution_count": null,
   "id": "bedc4e9f",
   "metadata": {},
   "outputs": [],
   "source": []
  },
  {
   "cell_type": "code",
   "execution_count": null,
   "id": "045453fe",
   "metadata": {},
   "outputs": [],
   "source": []
  },
  {
   "cell_type": "code",
   "execution_count": null,
   "id": "bb091fcc",
   "metadata": {},
   "outputs": [],
   "source": []
  },
  {
   "cell_type": "code",
   "execution_count": null,
   "id": "fd6e31b1",
   "metadata": {},
   "outputs": [],
   "source": []
  },
  {
   "cell_type": "code",
   "execution_count": null,
   "id": "bf81ae26",
   "metadata": {},
   "outputs": [],
   "source": []
  },
  {
   "cell_type": "code",
   "execution_count": null,
   "id": "8461bc54",
   "metadata": {},
   "outputs": [],
   "source": []
  },
  {
   "cell_type": "code",
   "execution_count": null,
   "id": "be282ac8",
   "metadata": {},
   "outputs": [],
   "source": []
  },
  {
   "cell_type": "code",
   "execution_count": null,
   "id": "17311379",
   "metadata": {},
   "outputs": [],
   "source": []
  },
  {
   "cell_type": "code",
   "execution_count": null,
   "id": "84146401",
   "metadata": {},
   "outputs": [],
   "source": []
  },
  {
   "cell_type": "code",
   "execution_count": null,
   "id": "94c910ba",
   "metadata": {},
   "outputs": [],
   "source": []
  },
  {
   "cell_type": "code",
   "execution_count": null,
   "id": "cbe45551",
   "metadata": {},
   "outputs": [],
   "source": []
  },
  {
   "cell_type": "code",
   "execution_count": null,
   "id": "c5c22318",
   "metadata": {},
   "outputs": [],
   "source": []
  }
 ],
 "metadata": {
  "kernelspec": {
   "display_name": "Python 3 (ipykernel)",
   "language": "python",
   "name": "python3"
  },
  "language_info": {
   "codemirror_mode": {
    "name": "ipython",
    "version": 3
   },
   "file_extension": ".py",
   "mimetype": "text/x-python",
   "name": "python",
   "nbconvert_exporter": "python",
   "pygments_lexer": "ipython3",
   "version": "3.9.7"
  }
 },
 "nbformat": 4,
 "nbformat_minor": 5
}
