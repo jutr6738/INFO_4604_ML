{
 "cells": [
  {
   "cell_type": "code",
   "execution_count": null,
   "id": "ca97ea99",
   "metadata": {},
   "outputs": [],
   "source": []
  },
  {
   "cell_type": "markdown",
   "id": "2c39570c",
   "metadata": {},
   "source": [
    "# Implementation of Gaussian Naive Bayes classifier using scikit-learn"
   ]
  },
  {
   "cell_type": "code",
   "execution_count": null,
   "id": "df03d58e",
   "metadata": {},
   "outputs": [],
   "source": []
  },
  {
   "cell_type": "markdown",
   "id": "9dbc5669",
   "metadata": {},
   "source": [
    "# Example 1: Gaussian Naive Bayes with Synthetic Dataset"
   ]
  },
  {
   "cell_type": "code",
   "execution_count": null,
   "id": "19ea0599",
   "metadata": {},
   "outputs": [],
   "source": [
    "#Classifier Building in Scikit-learn\n",
    "\n",
    "#In the first example, we will generate synthetic data using scikit-learn and train and evaluate \n",
    "#the Gaussian Naive Bayes algorithm. \n",
    "\n"
   ]
  },
  {
   "cell_type": "code",
   "execution_count": null,
   "id": "b9c30366",
   "metadata": {},
   "outputs": [],
   "source": [
    "#Generating the Dataset\n",
    "#Scikit-learn provides us with a machine learning ecosystem so that you can generate the dataset and \n",
    "#evaluate various machine learning algorithms. \n",
    "\n",
    "#In this example we create a dataset with six features, three classes, and 800 samples (observations) \n",
    "#using the `make_classification` function. "
   ]
  },
  {
   "cell_type": "code",
   "execution_count": 1,
   "id": "0df27244",
   "metadata": {},
   "outputs": [],
   "source": [
    "from sklearn.datasets import make_classification\n",
    "\n",
    "X, y = make_classification(\n",
    "    n_features=6,\n",
    "    n_classes=3,\n",
    "    n_samples=800,\n",
    "    n_informative=2,\n",
    "    random_state=1,\n",
    "    n_clusters_per_class=1,\n",
    ")"
   ]
  },
  {
   "cell_type": "code",
   "execution_count": 2,
   "id": "d0401692",
   "metadata": {},
   "outputs": [
    {
     "data": {
      "text/plain": [
       "array([1, 0, 2, 0, 1, 1, 2, 2, 1, 0, 1, 2, 1, 0, 0, 0, 0, 1, 1, 2, 0, 0,\n",
       "       0, 1, 1, 2, 1, 0, 0, 0, 2, 2, 2, 2, 1, 0, 2, 2, 0, 1, 2, 0, 0, 0,\n",
       "       2, 1, 2, 1, 1, 0, 2, 2, 2, 1, 2, 2, 1, 2, 0, 0, 1, 2, 1, 2, 0, 2,\n",
       "       2, 2, 0, 0, 1, 1, 1, 1, 2, 2, 1, 1, 2, 1, 1, 2, 1, 2, 0, 1, 2, 1,\n",
       "       2, 0, 0, 1, 0, 1, 1, 0, 0, 2, 0, 1, 2, 2, 1, 0, 0, 1, 2, 1, 1, 0,\n",
       "       0, 1, 0, 0, 0, 1, 2, 0, 1, 2, 1, 2, 0, 2, 1, 0, 0, 1, 2, 2, 0, 2,\n",
       "       1, 0, 2, 1, 1, 1, 0, 0, 2, 2, 1, 2, 2, 0, 0, 1, 1, 0, 0, 1, 0, 0,\n",
       "       1, 2, 0, 1, 0, 2, 1, 0, 0, 0, 1, 1, 2, 2, 1, 0, 2, 1, 0, 2, 2, 0,\n",
       "       2, 2, 1, 0, 1, 1, 1, 0, 2, 0, 2, 0, 1, 1, 2, 2, 2, 2, 1, 0, 1, 1,\n",
       "       0, 1, 1, 1, 0, 0, 0, 2, 2, 1, 2, 0, 1, 0, 2, 2, 0, 1, 2, 2, 0, 1,\n",
       "       0, 1, 1, 2, 2, 0, 1, 1, 0, 2, 1, 0, 1, 2, 1, 1, 1, 1, 0, 0, 2, 2,\n",
       "       1, 2, 2, 2, 0, 2, 1, 1, 0, 1, 2, 1, 0, 0, 1, 2, 0, 2, 1, 1, 1, 1,\n",
       "       1, 2, 1, 0, 2, 1, 1, 1, 2, 0, 0, 2, 2, 0, 0, 1, 1, 2, 0, 0, 1, 0,\n",
       "       0, 0, 0, 2, 1, 2, 2, 0, 0, 0, 2, 1, 2, 2, 1, 0, 0, 1, 2, 1, 0, 2,\n",
       "       2, 0, 0, 1, 1, 0, 2, 0, 1, 2, 0, 0, 1, 1, 0, 0, 2, 0, 1, 1, 0, 2,\n",
       "       2, 2, 2, 0, 0, 2, 2, 2, 2, 0, 2, 0, 1, 0, 2, 2, 2, 0, 2, 2, 2, 2,\n",
       "       2, 2, 2, 2, 2, 2, 1, 1, 1, 2, 0, 0, 1, 2, 2, 1, 0, 2, 1, 2, 1, 0,\n",
       "       0, 1, 1, 0, 0, 0, 1, 0, 1, 1, 2, 1, 0, 2, 0, 1, 2, 1, 1, 1, 0, 2,\n",
       "       1, 0, 1, 2, 2, 0, 1, 2, 2, 2, 2, 1, 0, 0, 0, 2, 0, 0, 0, 1, 1, 0,\n",
       "       0, 1, 2, 2, 2, 1, 1, 1, 1, 2, 2, 0, 2, 2, 1, 0, 2, 2, 2, 1, 1, 2,\n",
       "       2, 0, 2, 2, 2, 0, 0, 0, 0, 1, 2, 0, 0, 1, 1, 2, 1, 0, 1, 1, 0, 2,\n",
       "       0, 2, 0, 2, 0, 1, 1, 0, 0, 2, 1, 0, 2, 2, 0, 1, 2, 2, 1, 0, 2, 0,\n",
       "       1, 1, 0, 2, 1, 1, 1, 1, 1, 2, 1, 1, 0, 1, 1, 1, 0, 2, 0, 1, 2, 0,\n",
       "       1, 1, 2, 2, 2, 2, 1, 0, 1, 2, 1, 2, 1, 1, 2, 1, 1, 0, 0, 2, 2, 1,\n",
       "       0, 0, 2, 2, 0, 1, 1, 0, 1, 1, 2, 0, 1, 2, 2, 1, 2, 1, 2, 2, 0, 1,\n",
       "       2, 2, 2, 1, 1, 2, 2, 1, 0, 0, 0, 2, 1, 1, 2, 0, 0, 2, 0, 1, 0, 2,\n",
       "       1, 0, 2, 2, 2, 1, 0, 1, 0, 2, 2, 2, 2, 1, 0, 1, 1, 1, 2, 1, 1, 1,\n",
       "       1, 0, 0, 0, 0, 2, 1, 2, 2, 0, 2, 0, 0, 1, 0, 2, 0, 0, 1, 1, 0, 0,\n",
       "       1, 0, 0, 0, 1, 1, 2, 2, 0, 1, 0, 2, 0, 1, 1, 2, 0, 0, 2, 0, 0, 2,\n",
       "       2, 1, 2, 1, 0, 1, 1, 2, 1, 0, 2, 2, 2, 2, 2, 1, 0, 1, 0, 1, 0, 2,\n",
       "       0, 1, 0, 0, 0, 1, 0, 0, 2, 2, 1, 2, 1, 2, 1, 0, 0, 1, 0, 1, 1, 1,\n",
       "       2, 2, 1, 1, 1, 0, 2, 0, 2, 2, 2, 0, 2, 2, 0, 1, 1, 2, 1, 0, 1, 1,\n",
       "       2, 1, 1, 0, 0, 0, 0, 0, 0, 0, 2, 2, 1, 1, 0, 0, 0, 0, 0, 1, 1, 2,\n",
       "       1, 2, 1, 0, 0, 2, 1, 0, 0, 1, 1, 0, 1, 0, 2, 2, 0, 2, 2, 1, 0, 1,\n",
       "       2, 2, 0, 1, 1, 1, 0, 0, 2, 0, 2, 2, 2, 2, 1, 0, 0, 0, 1, 0, 2, 1,\n",
       "       1, 0, 0, 2, 2, 0, 0, 2, 0, 1, 0, 2, 2, 1, 0, 0, 2, 1, 1, 0, 1, 0,\n",
       "       2, 2, 2, 2, 0, 1, 2, 0])"
      ]
     },
     "execution_count": 2,
     "metadata": {},
     "output_type": "execute_result"
    }
   ],
   "source": [
    "y"
   ]
  },
  {
   "cell_type": "code",
   "execution_count": null,
   "id": "84ce266a",
   "metadata": {},
   "outputs": [],
   "source": [
    "# Test Split\n",
    "#Before we start the training process, we need to split the dataset into training and testing for model evaluation. "
   ]
  },
  {
   "cell_type": "code",
   "execution_count": 3,
   "id": "6ca30fbf",
   "metadata": {},
   "outputs": [],
   "source": [
    "\n",
    "\n",
    "from sklearn.model_selection import train_test_split\n",
    "\n",
    "X_train, X_test, y_train, y_test = train_test_split(X, y, test_size=0.33, random_state=125)\n"
   ]
  },
  {
   "cell_type": "code",
   "execution_count": null,
   "id": "dbbb71d5",
   "metadata": {},
   "outputs": [],
   "source": []
  },
  {
   "cell_type": "code",
   "execution_count": null,
   "id": "b1ef2abb",
   "metadata": {},
   "outputs": [],
   "source": [
    "#Model Building and Training \n",
    "#Build a generic Gaussian Naive Bayes and train it on a training dataset. \n",
    "#After that, feed a random test sample to the model to get a predicted value."
   ]
  },
  {
   "cell_type": "code",
   "execution_count": null,
   "id": "4b402c2d",
   "metadata": {},
   "outputs": [],
   "source": []
  },
  {
   "cell_type": "code",
   "execution_count": 8,
   "id": "24cdfe69",
   "metadata": {},
   "outputs": [
    {
     "name": "stdout",
     "output_type": "stream",
     "text": [
      "Actual Value: 0\n",
      "Predicted Value: 0\n"
     ]
    }
   ],
   "source": [
    "from sklearn.naive_bayes import GaussianNB\n",
    "\n",
    "# Build a Gaussian Classifier\n",
    "model = GaussianNB()\n",
    "\n",
    "# Model training\n",
    "model.fit(X_train, y_train)\n",
    "\n",
    "# Predict Output\n",
    "predicted = model.predict([X_test[6]])\n",
    "\n",
    "print(\"Actual Value:\", y_test[6])\n",
    "print(\"Predicted Value:\", predicted[0])"
   ]
  },
  {
   "cell_type": "code",
   "execution_count": null,
   "id": "686fd483",
   "metadata": {},
   "outputs": [],
   "source": []
  },
  {
   "cell_type": "code",
   "execution_count": null,
   "id": "58044f84",
   "metadata": {},
   "outputs": [],
   "source": [
    "#Both actual and predicted values are the same. "
   ]
  },
  {
   "cell_type": "code",
   "execution_count": null,
   "id": "3276902f",
   "metadata": {},
   "outputs": [],
   "source": []
  },
  {
   "cell_type": "code",
   "execution_count": 5,
   "id": "73c1f6d8",
   "metadata": {},
   "outputs": [
    {
     "name": "stdout",
     "output_type": "stream",
     "text": [
      "Accuracy: 0.8484848484848485\n",
      "F1 Score: 0.8491119695890328\n"
     ]
    }
   ],
   "source": [
    "#Model Evaluation\n",
    "\n",
    "from sklearn.metrics import (\n",
    "    accuracy_score,\n",
    "    confusion_matrix,\n",
    "    ConfusionMatrixDisplay,\n",
    "    f1_score,\n",
    ")\n",
    "\n",
    "y_pred = model.predict(X_test)\n",
    "accuray = accuracy_score(y_pred, y_test)\n",
    "f1 = f1_score(y_pred, y_test, average=\"weighted\")\n",
    "\n",
    "print(\"Accuracy:\", accuray)\n",
    "print(\"F1 Score:\", f1)"
   ]
  },
  {
   "cell_type": "code",
   "execution_count": null,
   "id": "abfe2f4e",
   "metadata": {},
   "outputs": [],
   "source": []
  },
  {
   "cell_type": "code",
   "execution_count": null,
   "id": "431a3c09",
   "metadata": {},
   "outputs": [],
   "source": [
    "#Our model performs fairly well with default hyperparameters. "
   ]
  },
  {
   "cell_type": "code",
   "execution_count": null,
   "id": "7d521dcf",
   "metadata": {},
   "outputs": [],
   "source": []
  },
  {
   "cell_type": "code",
   "execution_count": null,
   "id": "41014d77",
   "metadata": {},
   "outputs": [],
   "source": [
    "#To visualize the Confusion matrix, we will use `confusion_matrix` to calculate the \n",
    "#true positives and true negatives and `ConfusionMatrixDisplay` to display the confusion matrix with the labels."
   ]
  },
  {
   "cell_type": "code",
   "execution_count": null,
   "id": "31c4ce21",
   "metadata": {},
   "outputs": [],
   "source": []
  },
  {
   "cell_type": "code",
   "execution_count": null,
   "id": "babec9a0",
   "metadata": {},
   "outputs": [],
   "source": [
    "labels = [0,1,2]\n",
    "cm = confusion_matrix(y_test, y_pred, labels=labels)\n",
    "disp = ConfusionMatrixDisplay(confusion_matrix=cm, display_labels=labels)\n",
    "disp.plot();"
   ]
  },
  {
   "cell_type": "code",
   "execution_count": null,
   "id": "cff80500",
   "metadata": {},
   "outputs": [],
   "source": []
  },
  {
   "cell_type": "code",
   "execution_count": null,
   "id": "a07ff378",
   "metadata": {},
   "outputs": [],
   "source": [
    "#Our model has performed quite well, and we can improve model performance by scaling, preprocessing cross-validations, and hyperparameter optimization. "
   ]
  },
  {
   "cell_type": "code",
   "execution_count": null,
   "id": "b8bc4421",
   "metadata": {},
   "outputs": [],
   "source": []
  },
  {
   "cell_type": "code",
   "execution_count": null,
   "id": "eb2c1c04",
   "metadata": {},
   "outputs": [],
   "source": []
  },
  {
   "cell_type": "code",
   "execution_count": null,
   "id": "5f25ff17",
   "metadata": {},
   "outputs": [],
   "source": []
  },
  {
   "cell_type": "markdown",
   "id": "914f4982",
   "metadata": {},
   "source": [
    "# Example 2: Naive Bayes Using Iris Dataset"
   ]
  },
  {
   "cell_type": "code",
   "execution_count": null,
   "id": "866f570a",
   "metadata": {},
   "outputs": [],
   "source": []
  },
  {
   "cell_type": "code",
   "execution_count": 9,
   "id": "5b1d036f",
   "metadata": {},
   "outputs": [],
   "source": [
    "# load the iris dataset\n",
    "from sklearn.datasets import load_iris\n",
    "iris = load_iris()\n",
    "  "
   ]
  },
  {
   "cell_type": "code",
   "execution_count": null,
   "id": "0ecb9cdd",
   "metadata": {},
   "outputs": [],
   "source": []
  },
  {
   "cell_type": "code",
   "execution_count": 10,
   "id": "afcce09a",
   "metadata": {},
   "outputs": [],
   "source": [
    "# store the feature matrix (X) and response vector (y)\n",
    "X = iris.data\n",
    "y = iris.target"
   ]
  },
  {
   "cell_type": "code",
   "execution_count": null,
   "id": "9ee81b03",
   "metadata": {},
   "outputs": [],
   "source": []
  },
  {
   "cell_type": "code",
   "execution_count": 11,
   "id": "316fde42",
   "metadata": {},
   "outputs": [],
   "source": [
    "# splitting X and y into training and testing sets\n",
    "from sklearn.model_selection import train_test_split\n",
    "X_train, X_test, y_train, y_test = train_test_split(X, y, test_size=0.4, random_state=1)"
   ]
  },
  {
   "cell_type": "code",
   "execution_count": null,
   "id": "657a98bf",
   "metadata": {},
   "outputs": [],
   "source": []
  },
  {
   "cell_type": "code",
   "execution_count": 12,
   "id": "23acd420",
   "metadata": {},
   "outputs": [
    {
     "data": {
      "text/plain": [
       "GaussianNB()"
      ]
     },
     "execution_count": 12,
     "metadata": {},
     "output_type": "execute_result"
    }
   ],
   "source": [
    "# training the model on training set\n",
    "from sklearn.naive_bayes import GaussianNB\n",
    "gnb = GaussianNB()\n",
    "gnb.fit(X_train, y_train)"
   ]
  },
  {
   "cell_type": "code",
   "execution_count": null,
   "id": "ecb2e547",
   "metadata": {},
   "outputs": [],
   "source": []
  },
  {
   "cell_type": "code",
   "execution_count": 13,
   "id": "1b2c2cea",
   "metadata": {},
   "outputs": [],
   "source": [
    "# making predictions on the testing set\n",
    "y_pred = gnb.predict(X_test)"
   ]
  },
  {
   "cell_type": "code",
   "execution_count": null,
   "id": "76986bec",
   "metadata": {},
   "outputs": [],
   "source": []
  },
  {
   "cell_type": "code",
   "execution_count": 14,
   "id": "39168ed3",
   "metadata": {},
   "outputs": [
    {
     "name": "stdout",
     "output_type": "stream",
     "text": [
      "Gaussian Naive Bayes model accuracy(in %): 95.0\n"
     ]
    }
   ],
   "source": [
    "# comparing actual response values (y_test) with predicted response values (y_pred)\n",
    "from sklearn import metrics\n",
    "print(\"Gaussian Naive Bayes model accuracy(in %):\", metrics.accuracy_score(y_test, y_pred)*100)"
   ]
  },
  {
   "cell_type": "code",
   "execution_count": null,
   "id": "5e57b85a",
   "metadata": {},
   "outputs": [],
   "source": []
  },
  {
   "cell_type": "code",
   "execution_count": null,
   "id": "fe420802",
   "metadata": {},
   "outputs": [],
   "source": []
  },
  {
   "cell_type": "code",
   "execution_count": null,
   "id": "844815f2",
   "metadata": {},
   "outputs": [],
   "source": []
  },
  {
   "cell_type": "code",
   "execution_count": null,
   "id": "26372bdc",
   "metadata": {},
   "outputs": [],
   "source": []
  },
  {
   "cell_type": "code",
   "execution_count": null,
   "id": "aede666f",
   "metadata": {},
   "outputs": [],
   "source": []
  },
  {
   "cell_type": "code",
   "execution_count": null,
   "id": "bda12508",
   "metadata": {},
   "outputs": [],
   "source": []
  },
  {
   "cell_type": "code",
   "execution_count": null,
   "id": "697878e1",
   "metadata": {},
   "outputs": [],
   "source": []
  },
  {
   "cell_type": "code",
   "execution_count": null,
   "id": "d0a8f9fb",
   "metadata": {},
   "outputs": [],
   "source": []
  },
  {
   "cell_type": "code",
   "execution_count": null,
   "id": "2806dbf4",
   "metadata": {},
   "outputs": [],
   "source": []
  },
  {
   "cell_type": "code",
   "execution_count": null,
   "id": "804b7f35",
   "metadata": {},
   "outputs": [],
   "source": [
    "# load the iris dataset\n",
    "from sklearn.datasets import load_iris\n",
    "iris = load_iris()\n",
    "  \n",
    "# store the feature matrix (X) and response vector (y)\n",
    "X = iris.data\n",
    "y = iris.target\n",
    "  \n",
    "# splitting X and y into training and testing sets\n",
    "from sklearn.model_selection import train_test_split\n",
    "X_train, X_test, y_train, y_test = train_test_split(X, y, test_size=0.4, random_state=1)\n",
    "  \n",
    "# training the model on training set\n",
    "from sklearn.naive_bayes import GaussianNB\n",
    "gnb = GaussianNB()\n",
    "gnb.fit(X_train, y_train)\n",
    "  \n",
    "# making predictions on the testing set\n",
    "y_pred = gnb.predict(X_test)\n",
    "  \n",
    "# comparing actual response values (y_test) with predicted response values (y_pred)\n",
    "from sklearn import metrics\n",
    "print(\"Gaussian Naive Bayes model accuracy(in %):\", metrics.accuracy_score(y_test, y_pred)*100)\n"
   ]
  },
  {
   "cell_type": "code",
   "execution_count": null,
   "id": "c22bc7c0",
   "metadata": {},
   "outputs": [],
   "source": []
  },
  {
   "cell_type": "code",
   "execution_count": null,
   "id": "b44909a7",
   "metadata": {},
   "outputs": [],
   "source": []
  },
  {
   "cell_type": "code",
   "execution_count": null,
   "id": "cffb5312",
   "metadata": {},
   "outputs": [],
   "source": []
  },
  {
   "cell_type": "code",
   "execution_count": null,
   "id": "70f52e9b",
   "metadata": {},
   "outputs": [],
   "source": []
  }
 ],
 "metadata": {
  "kernelspec": {
   "display_name": "Python 3 (ipykernel)",
   "language": "python",
   "name": "python3"
  },
  "language_info": {
   "codemirror_mode": {
    "name": "ipython",
    "version": 3
   },
   "file_extension": ".py",
   "mimetype": "text/x-python",
   "name": "python",
   "nbconvert_exporter": "python",
   "pygments_lexer": "ipython3",
   "version": "3.9.13"
  }
 },
 "nbformat": 4,
 "nbformat_minor": 5
}
