{
 "cells": [
  {
   "cell_type": "code",
   "execution_count": null,
   "id": "45e1ea76",
   "metadata": {},
   "outputs": [],
   "source": []
  },
  {
   "cell_type": "code",
   "execution_count": null,
   "id": "17e94dd1",
   "metadata": {},
   "outputs": [],
   "source": []
  },
  {
   "cell_type": "code",
   "execution_count": null,
   "id": "d82cc41c",
   "metadata": {},
   "outputs": [],
   "source": []
  },
  {
   "cell_type": "markdown",
   "id": "75c015e6",
   "metadata": {},
   "source": [
    "# Example Basic Vector Math in Python"
   ]
  },
  {
   "cell_type": "code",
   "execution_count": 1,
   "id": "4b43eddc",
   "metadata": {},
   "outputs": [
    {
     "name": "stdout",
     "output_type": "stream",
     "text": [
      "[1 2 3]\n"
     ]
    }
   ],
   "source": [
    "# create a vector\n",
    "from numpy import array\n",
    "# define vector\n",
    "v = array([1, 2, 3])\n",
    "print(v)"
   ]
  },
  {
   "cell_type": "code",
   "execution_count": 2,
   "id": "cb4ad3f5",
   "metadata": {},
   "outputs": [
    {
     "name": "stdout",
     "output_type": "stream",
     "text": [
      "[1 2 3]\n"
     ]
    }
   ],
   "source": [
    "# vector addition\n",
    "from numpy import array\n",
    "# define first vector\n",
    "a = array([1, 2, 3])\n",
    "print(a)\n",
    "\n",
    "\n"
   ]
  },
  {
   "cell_type": "code",
   "execution_count": 3,
   "id": "77f4b270",
   "metadata": {},
   "outputs": [
    {
     "name": "stdout",
     "output_type": "stream",
     "text": [
      "[1 2 3]\n"
     ]
    }
   ],
   "source": [
    "# define second vector\n",
    "b = array([1, 2, 3])\n",
    "print(b)"
   ]
  },
  {
   "cell_type": "code",
   "execution_count": 4,
   "id": "d6c1b335",
   "metadata": {},
   "outputs": [
    {
     "name": "stdout",
     "output_type": "stream",
     "text": [
      "[2 4 6]\n"
     ]
    }
   ],
   "source": [
    "# add vectors\n",
    "c = a + b\n",
    "print(c)"
   ]
  },
  {
   "cell_type": "code",
   "execution_count": null,
   "id": "cf31fb4d",
   "metadata": {},
   "outputs": [],
   "source": []
  },
  {
   "cell_type": "code",
   "execution_count": 5,
   "id": "ed4dd04b",
   "metadata": {},
   "outputs": [
    {
     "name": "stdout",
     "output_type": "stream",
     "text": [
      "[1 2 3]\n",
      "[0.5 0.5 0.5]\n"
     ]
    }
   ],
   "source": [
    "# vector subtraction\n",
    "\n",
    "from numpy import array\n",
    "# define first vector\n",
    "a = array([1, 2, 3])\n",
    "print(a)\n",
    "# define second vector\n",
    "b = array([0.5, 0.5, 0.5])\n",
    "print(b)\n",
    "# subtract vectors\n",
    "c = a - b\n"
   ]
  },
  {
   "cell_type": "code",
   "execution_count": null,
   "id": "8765ccd1",
   "metadata": {},
   "outputs": [],
   "source": []
  },
  {
   "cell_type": "code",
   "execution_count": 6,
   "id": "bdd9813f",
   "metadata": {},
   "outputs": [
    {
     "name": "stdout",
     "output_type": "stream",
     "text": [
      "[1 2 3]\n",
      "[1 2 3]\n",
      "[1 4 9]\n"
     ]
    }
   ],
   "source": [
    "# vector multiplication\n",
    "\n",
    "from numpy import array\n",
    "# define first vector\n",
    "a = array([1, 2, 3])\n",
    "print(a)\n",
    "# define second vector\n",
    "b = array([1, 2, 3])\n",
    "print(b)\n",
    "# multiply vectors\n",
    "c = a * b\n",
    "print(c)\n"
   ]
  },
  {
   "cell_type": "code",
   "execution_count": null,
   "id": "bc1b2527",
   "metadata": {},
   "outputs": [],
   "source": []
  },
  {
   "cell_type": "code",
   "execution_count": 7,
   "id": "a3bfcfae",
   "metadata": {},
   "outputs": [
    {
     "name": "stdout",
     "output_type": "stream",
     "text": [
      "[1 2 3]\n",
      "[1 2 3]\n",
      "[1. 1. 1.]\n"
     ]
    }
   ],
   "source": [
    "# vector element-wise division in Python\n",
    "\n",
    "\n",
    "from numpy import array\n",
    "# define first vector\n",
    "a = array([1, 2, 3])\n",
    "print(a)\n",
    "# define second vector\n",
    "b = array([1, 2, 3])\n",
    "print(b)\n",
    "# divide vectors\n",
    "c = a / b\n",
    "print(c)\n"
   ]
  },
  {
   "cell_type": "code",
   "execution_count": null,
   "id": "b8616811",
   "metadata": {},
   "outputs": [],
   "source": []
  },
  {
   "cell_type": "code",
   "execution_count": 8,
   "id": "e1e292c3",
   "metadata": {},
   "outputs": [
    {
     "name": "stdout",
     "output_type": "stream",
     "text": [
      "[1 2 3]\n",
      "[5 7 9]\n",
      "46\n"
     ]
    }
   ],
   "source": [
    "# vector dot product in Python\n",
    "\n",
    "from numpy import array\n",
    "# define first vector\n",
    "a = array([1, 2, 3])\n",
    "print(a)\n",
    "# define second vector\n",
    "b = array([5, 7, 9])\n",
    "print(b)\n",
    "# multiply vectors\n",
    "c = a.dot(b)\n",
    "print(c)\n",
    "\n",
    "#this is a dot b= (1*5)+(2*7)+(3*9)=5+14+27=46\n",
    "\n",
    "\n",
    "#dot product always give you a single number! "
   ]
  },
  {
   "cell_type": "code",
   "execution_count": null,
   "id": "f14c702d",
   "metadata": {},
   "outputs": [],
   "source": []
  },
  {
   "cell_type": "code",
   "execution_count": 9,
   "id": "87c7400e",
   "metadata": {},
   "outputs": [
    {
     "name": "stdout",
     "output_type": "stream",
     "text": [
      "[1 2 3]\n",
      "0.5\n",
      "[0.5 1.  1.5]\n"
     ]
    }
   ],
   "source": [
    "# vector-scalar multiplication in Python\n",
    "\n",
    "from numpy import array\n",
    "# define vector\n",
    "a = array([1, 2, 3])\n",
    "print(a)\n",
    "# define scalar\n",
    "s = 0.5\n",
    "print(s)\n",
    "# multiplication\n",
    "c = s * a\n",
    "print(c)"
   ]
  },
  {
   "cell_type": "code",
   "execution_count": 10,
   "id": "5fe453bd",
   "metadata": {},
   "outputs": [],
   "source": [
    "#Example - Computing Norms in Python:\n",
    "\n",
    "#"
   ]
  },
  {
   "cell_type": "code",
   "execution_count": null,
   "id": "94646c7e",
   "metadata": {},
   "outputs": [],
   "source": []
  },
  {
   "cell_type": "code",
   "execution_count": null,
   "id": "af2e28f5",
   "metadata": {},
   "outputs": [],
   "source": []
  },
  {
   "cell_type": "code",
   "execution_count": 11,
   "id": "af2135df",
   "metadata": {},
   "outputs": [
    {
     "name": "stdout",
     "output_type": "stream",
     "text": [
      "[1 2 3]\n"
     ]
    }
   ],
   "source": [
    "# Case 1: vector L1 norm\n",
    "\n",
    "from numpy import array\n",
    "from numpy.linalg import norm\n",
    "# define vector\n",
    "a = array([1, 2, 3])\n",
    "print(a)\n",
    "# calculate norm\n",
    "l1 = norm(a,1)  ## 1 indicates L1 norm since default is always L2 norm  "
   ]
  },
  {
   "cell_type": "code",
   "execution_count": 12,
   "id": "36ce1d31",
   "metadata": {},
   "outputs": [
    {
     "data": {
      "text/plain": [
       "6.0"
      ]
     },
     "execution_count": 12,
     "metadata": {},
     "output_type": "execute_result"
    }
   ],
   "source": [
    "#Print L1 norm of vector a\n",
    "\n",
    "l1"
   ]
  },
  {
   "cell_type": "code",
   "execution_count": 13,
   "id": "5565664f",
   "metadata": {},
   "outputs": [],
   "source": [
    "#Code to normalize vector a with its L1 norm\n",
    "\n",
    "Normalised_a = a/l1 ##to normalize a vector yoy divide the vector by its L1 norm"
   ]
  },
  {
   "cell_type": "code",
   "execution_count": 14,
   "id": "5263e8aa",
   "metadata": {},
   "outputs": [
    {
     "name": "stdout",
     "output_type": "stream",
     "text": [
      "[0.16666667 0.33333333 0.5       ]\n"
     ]
    }
   ],
   "source": [
    "#Print L1 normalized a\n",
    "\n",
    "print(Normalised_a)"
   ]
  },
  {
   "cell_type": "code",
   "execution_count": null,
   "id": "bd1d9744",
   "metadata": {},
   "outputs": [],
   "source": []
  },
  {
   "cell_type": "code",
   "execution_count": null,
   "id": "ec0f0bf0",
   "metadata": {},
   "outputs": [],
   "source": []
  },
  {
   "cell_type": "code",
   "execution_count": null,
   "id": "e6bc4889",
   "metadata": {},
   "outputs": [],
   "source": []
  },
  {
   "cell_type": "code",
   "execution_count": null,
   "id": "154b52d0",
   "metadata": {},
   "outputs": [],
   "source": []
  },
  {
   "cell_type": "code",
   "execution_count": 15,
   "id": "cd34b146",
   "metadata": {},
   "outputs": [
    {
     "name": "stdout",
     "output_type": "stream",
     "text": [
      "[1 2 3]\n",
      "3.7416573867739413\n"
     ]
    }
   ],
   "source": [
    "#Case 2: Computing vector L2 norm (also known as Euclidean Norm) as it is \n",
    "# calculated as the Euclidean distance from the origin\n",
    "\n",
    "\n",
    "from numpy import array\n",
    "from numpy.linalg import norm\n",
    "# define vector\n",
    "a = array([1, 2, 3])\n",
    "print(a)\n",
    "# calculate norm\n",
    "l2 = norm(a)   ##L2 norm is default so no parameter automatically does L2 norm\n",
    "print(l2)\n"
   ]
  },
  {
   "cell_type": "code",
   "execution_count": null,
   "id": "e62648b4",
   "metadata": {},
   "outputs": [],
   "source": []
  },
  {
   "cell_type": "code",
   "execution_count": 16,
   "id": "2bef8944",
   "metadata": {},
   "outputs": [
    {
     "name": "stdout",
     "output_type": "stream",
     "text": [
      "[1 2 3]\n",
      "3.0\n"
     ]
    }
   ],
   "source": [
    "#Case 3: Computing vector max norm in Python\n",
    "\n",
    "from math import inf\n",
    "from numpy import array\n",
    "from numpy.linalg import norm\n",
    "# define vector\n",
    "a = array([1, 2, 3])\n",
    "print(a)\n",
    "# calculate norm\n",
    "maxnorm = norm(a, inf)\n",
    "print(maxnorm)\n",
    "\n",
    "\n",
    "#Max norm is also used as a regularization in machine learning, such as on neural network\n",
    "# weights, called max norm regularization"
   ]
  },
  {
   "cell_type": "code",
   "execution_count": null,
   "id": "9c4844aa",
   "metadata": {},
   "outputs": [],
   "source": []
  },
  {
   "cell_type": "code",
   "execution_count": null,
   "id": "5abcb68c",
   "metadata": {},
   "outputs": [],
   "source": []
  },
  {
   "cell_type": "markdown",
   "id": "7e265db3",
   "metadata": {},
   "source": [
    "# Working with a Matrix and Matrices in Python"
   ]
  },
  {
   "cell_type": "code",
   "execution_count": 17,
   "id": "e4606f06",
   "metadata": {},
   "outputs": [],
   "source": [
    "#We can represent a matrix in Python using a two-dimensional NumPy array"
   ]
  },
  {
   "cell_type": "code",
   "execution_count": 18,
   "id": "848c8a1e",
   "metadata": {},
   "outputs": [
    {
     "name": "stdout",
     "output_type": "stream",
     "text": [
      "[[1 2 3]\n",
      " [4 5 6]]\n"
     ]
    }
   ],
   "source": [
    "# create matrix\n",
    "from numpy import array\n",
    "A = array([[1, 2, 3], [4, 5, 6]])\n",
    "print(A)\n",
    "\n",
    "#matrix is a 2D array of numbers \n",
    "\n",
    "#matrix are with capital letters, vectors are lowercase "
   ]
  },
  {
   "cell_type": "code",
   "execution_count": 19,
   "id": "1285902c",
   "metadata": {},
   "outputs": [],
   "source": [
    "#Matrix Arithmetic"
   ]
  },
  {
   "cell_type": "code",
   "execution_count": 20,
   "id": "60926f28",
   "metadata": {},
   "outputs": [
    {
     "name": "stdout",
     "output_type": "stream",
     "text": [
      "[[1 2 3]\n",
      " [4 5 6]]\n",
      "[[1 2 3]\n",
      " [4 5 6]]\n",
      "[[ 2  4  6]\n",
      " [ 8 10 12]]\n"
     ]
    }
   ],
   "source": [
    "# matrix addition in Python\n",
    "from numpy import array\n",
    "# define first matrix\n",
    "A = array([\n",
    "[1, 2, 3],\n",
    "[4, 5, 6]])\n",
    "print(A)\n",
    "# define second matrix\n",
    "B = array([\n",
    "[1, 2, 3],\n",
    "[4, 5, 6]])\n",
    "print(B)\n",
    "# add matrices\n",
    "C = A + B\n",
    "print(C)\n"
   ]
  },
  {
   "cell_type": "code",
   "execution_count": null,
   "id": "5c0ce867",
   "metadata": {},
   "outputs": [],
   "source": []
  },
  {
   "cell_type": "code",
   "execution_count": 21,
   "id": "5fc053e2",
   "metadata": {},
   "outputs": [
    {
     "name": "stdout",
     "output_type": "stream",
     "text": [
      "[[1 2 3]\n",
      " [4 5 6]]\n",
      "[[0.5 0.5 0.5]\n",
      " [0.5 0.5 0.5]]\n",
      "[[0.5 1.5 2.5]\n",
      " [3.5 4.5 5.5]]\n"
     ]
    }
   ],
   "source": [
    "# matrix subtraction in Python\n",
    "from numpy import array\n",
    "# define first matrix\n",
    "A = array([\n",
    "[1, 2, 3],\n",
    "[4, 5, 6]])\n",
    "print(A)\n",
    "# define second matrix\n",
    "B = array([\n",
    "[0.5, 0.5, 0.5],\n",
    "[0.5, 0.5, 0.5]])\n",
    "print(B)\n",
    "# subtract matrices\n",
    "C = A - B\n",
    "print(C)\n"
   ]
  },
  {
   "cell_type": "code",
   "execution_count": null,
   "id": "44e7e511",
   "metadata": {},
   "outputs": [],
   "source": []
  },
  {
   "cell_type": "code",
   "execution_count": 22,
   "id": "b11d9d30",
   "metadata": {},
   "outputs": [
    {
     "name": "stdout",
     "output_type": "stream",
     "text": [
      "[[1 2 3]\n",
      " [4 5 6]]\n",
      "[[1 2 3]\n",
      " [4 5 6]]\n"
     ]
    }
   ],
   "source": [
    "#Two matrices with the same size can be multiplied together, and this is often called element-wise\n",
    "#matrix multiplication or the Hadamard product\n",
    "\n",
    "\n",
    "# matrix-matrix Hadamard product\n",
    "#element-wise product\n",
    "\n",
    "from numpy import array\n",
    "# define first matrix\n",
    "A = array([\n",
    "[1, 2, 3],\n",
    "[4, 5, 6]])\n",
    "print(A)\n",
    "# define second matrix\n",
    "B = array([\n",
    "[1, 2, 3],\n",
    "[4, 5, 6]])\n",
    "print(B)\n"
   ]
  },
  {
   "cell_type": "code",
   "execution_count": 23,
   "id": "9950ec85",
   "metadata": {},
   "outputs": [
    {
     "name": "stdout",
     "output_type": "stream",
     "text": [
      "[[ 1  4  9]\n",
      " [16 25 36]]\n"
     ]
    }
   ],
   "source": [
    "# multiply matrices to obtain Hadamard product\n",
    "C = A * B\n",
    "print(C)"
   ]
  },
  {
   "cell_type": "code",
   "execution_count": null,
   "id": "c916afe4",
   "metadata": {},
   "outputs": [],
   "source": []
  },
  {
   "cell_type": "code",
   "execution_count": null,
   "id": "b6da5069",
   "metadata": {},
   "outputs": [],
   "source": []
  },
  {
   "cell_type": "code",
   "execution_count": null,
   "id": "a81ab9e8",
   "metadata": {},
   "outputs": [],
   "source": []
  },
  {
   "cell_type": "code",
   "execution_count": null,
   "id": "fc786efc",
   "metadata": {},
   "outputs": [],
   "source": []
  },
  {
   "cell_type": "code",
   "execution_count": 24,
   "id": "67cf8fd6",
   "metadata": {},
   "outputs": [
    {
     "name": "stdout",
     "output_type": "stream",
     "text": [
      "[[1 2]\n",
      " [3 4]\n",
      " [5 6]]\n",
      "[[1 2]\n",
      " [3 4]]\n"
     ]
    }
   ],
   "source": [
    "# matrix-matrix dot product in Python\n",
    "\n",
    "#dot product matrices musthave same dimensions\n",
    "from numpy import array\n",
    "# define first matrix\n",
    "A = array([\n",
    "[1, 2],\n",
    "[3, 4],\n",
    "[5, 6]])\n",
    "print(A)\n",
    "# define second matrix\n",
    "B = array([\n",
    "[1, 2],\n",
    "[3, 4]])\n",
    "print(B)\n"
   ]
  },
  {
   "cell_type": "code",
   "execution_count": 25,
   "id": "ca532872",
   "metadata": {},
   "outputs": [
    {
     "name": "stdout",
     "output_type": "stream",
     "text": [
      "[[ 7 10]\n",
      " [15 22]\n",
      " [23 34]]\n"
     ]
    }
   ],
   "source": [
    "# multiply matrices\n",
    "C = A.dot(B)\n",
    "print(C)"
   ]
  },
  {
   "cell_type": "code",
   "execution_count": 26,
   "id": "fc5789f5",
   "metadata": {},
   "outputs": [
    {
     "name": "stdout",
     "output_type": "stream",
     "text": [
      "[[ 7 10]\n",
      " [15 22]\n",
      " [23 34]]\n"
     ]
    }
   ],
   "source": [
    "# multiply matrices with @ operator\n",
    "D = A @ B\n",
    "print(D)"
   ]
  },
  {
   "cell_type": "code",
   "execution_count": null,
   "id": "96441dd7",
   "metadata": {},
   "outputs": [],
   "source": []
  },
  {
   "cell_type": "code",
   "execution_count": 27,
   "id": "34ee3bb5",
   "metadata": {},
   "outputs": [
    {
     "name": "stdout",
     "output_type": "stream",
     "text": [
      "[[1 2]\n",
      " [3 4]\n",
      " [5 6]]\n",
      "[0.5 0.5]\n"
     ]
    }
   ],
   "source": [
    "# matrix-vector multiplication\n",
    "from numpy import array\n",
    "# define matrix\n",
    "A = array([\n",
    "[1, 2],\n",
    "[3, 4],\n",
    "[5, 6]])\n",
    "print(A)\n",
    "# define vector\n",
    "B = array([0.5, 0.5])\n",
    "print(B)\n",
    "\n"
   ]
  },
  {
   "cell_type": "code",
   "execution_count": 28,
   "id": "2d151cec",
   "metadata": {},
   "outputs": [
    {
     "name": "stdout",
     "output_type": "stream",
     "text": [
      "[1.5 3.5 5.5]\n"
     ]
    }
   ],
   "source": [
    "# multiply to obtain matrix-vector product \n",
    "C = A.dot(B)\n",
    "print(C)"
   ]
  },
  {
   "cell_type": "code",
   "execution_count": null,
   "id": "3bf3ab07",
   "metadata": {},
   "outputs": [],
   "source": []
  },
  {
   "cell_type": "code",
   "execution_count": 29,
   "id": "85f84d47",
   "metadata": {},
   "outputs": [
    {
     "name": "stdout",
     "output_type": "stream",
     "text": [
      "[[1 2]\n",
      " [3 4]\n",
      " [5 6]]\n",
      "0.5\n"
     ]
    }
   ],
   "source": [
    "# matrix-scalar multiplication\n",
    "from numpy import array\n",
    "# define matrix\n",
    "A = array([[1, 2], [3, 4], [5, 6]])\n",
    "print(A)\n",
    "\n",
    "# define scalar\n",
    "b = 0.5\n",
    "print(b)\n"
   ]
  },
  {
   "cell_type": "code",
   "execution_count": 30,
   "id": "4333becb",
   "metadata": {},
   "outputs": [
    {
     "name": "stdout",
     "output_type": "stream",
     "text": [
      "[[0.5 1. ]\n",
      " [1.5 2. ]\n",
      " [2.5 3. ]]\n"
     ]
    }
   ],
   "source": [
    "# multiply to obtain matrix-scalar multiplication\n",
    "C = A * b\n",
    "print(C)"
   ]
  },
  {
   "cell_type": "code",
   "execution_count": null,
   "id": "abb4e0fe",
   "metadata": {},
   "outputs": [],
   "source": []
  },
  {
   "cell_type": "code",
   "execution_count": null,
   "id": "52c35eee",
   "metadata": {},
   "outputs": [],
   "source": []
  },
  {
   "cell_type": "code",
   "execution_count": null,
   "id": "6c13b16a",
   "metadata": {},
   "outputs": [],
   "source": []
  },
  {
   "cell_type": "code",
   "execution_count": null,
   "id": "79b9cb6c",
   "metadata": {},
   "outputs": [],
   "source": []
  },
  {
   "cell_type": "code",
   "execution_count": 31,
   "id": "a8846584",
   "metadata": {},
   "outputs": [
    {
     "name": "stdout",
     "output_type": "stream",
     "text": [
      "[[1 2 3]\n",
      " [4 5 6]]\n",
      "[[1 2 3]\n",
      " [4 5 6]]\n",
      "[[1. 1. 1.]\n",
      " [1. 1. 1.]]\n"
     ]
    }
   ],
   "source": [
    "# matrix element-wise division in Python\n",
    "\n",
    "from numpy import array\n",
    "# define first matrix\n",
    "A = array([\n",
    "[1, 2, 3],\n",
    "[4, 5, 6]])\n",
    "print(A)\n",
    "# define second matrix\n",
    "B = array([\n",
    "[1, 2, 3],\n",
    "[4, 5, 6]])\n",
    "print(B)\n",
    "# divide matrices\n",
    "C = A / B\n",
    "print(C)"
   ]
  },
  {
   "cell_type": "code",
   "execution_count": null,
   "id": "a31d5747",
   "metadata": {},
   "outputs": [],
   "source": []
  },
  {
   "cell_type": "code",
   "execution_count": 32,
   "id": "c4f5ef09",
   "metadata": {},
   "outputs": [
    {
     "name": "stdout",
     "output_type": "stream",
     "text": [
      "[[1 2]\n",
      " [3 4]\n",
      " [5 6]]\n"
     ]
    }
   ],
   "source": [
    "# Transpose matrix of a matrix in Python\n",
    "from numpy import array\n",
    "# define matrix A\n",
    "A = array([\n",
    "[1, 2],\n",
    "[3, 4],\n",
    "[5, 6]])\n",
    "print(A)\n",
    "\n"
   ]
  },
  {
   "cell_type": "code",
   "execution_count": 33,
   "id": "2c653519",
   "metadata": {},
   "outputs": [
    {
     "name": "stdout",
     "output_type": "stream",
     "text": [
      "[[1 3 5]\n",
      " [2 4 6]]\n"
     ]
    }
   ],
   "source": [
    "# Calculate transpose of Matrix A\n",
    "# Use the T attribute to compute the transpose of A\n",
    "\n",
    "C = A.T\n",
    "print(C)"
   ]
  },
  {
   "cell_type": "code",
   "execution_count": null,
   "id": "5b6eaba9",
   "metadata": {},
   "outputs": [],
   "source": []
  },
  {
   "cell_type": "code",
   "execution_count": null,
   "id": "ded01d69",
   "metadata": {},
   "outputs": [],
   "source": []
  },
  {
   "cell_type": "code",
   "execution_count": null,
   "id": "f4db4bda",
   "metadata": {},
   "outputs": [],
   "source": []
  },
  {
   "cell_type": "code",
   "execution_count": null,
   "id": "51a2d54d",
   "metadata": {},
   "outputs": [],
   "source": []
  },
  {
   "cell_type": "code",
   "execution_count": null,
   "id": "90a0a051",
   "metadata": {},
   "outputs": [],
   "source": []
  },
  {
   "cell_type": "markdown",
   "id": "a10329ba",
   "metadata": {},
   "source": [
    "#### Quiz 2 Questions\n",
    "\n",
    "1. Divide the Euclidean norm of vector [1, 2, 5, 10] by the sum of its max norm and L1 norm."
   ]
  },
  {
   "cell_type": "code",
   "execution_count": 34,
   "id": "24d74df4",
   "metadata": {},
   "outputs": [
    {
     "name": "stdout",
     "output_type": "stream",
     "text": [
      "[ 1  2  5 10]\n",
      "10.0\n",
      "18.0\n"
     ]
    },
    {
     "data": {
      "text/plain": [
       "0.40720550896397784"
      ]
     },
     "execution_count": 34,
     "metadata": {},
     "output_type": "execute_result"
    }
   ],
   "source": [
    "## Divide the Euclidean norm of vector [1, 2, 5, 10] by the sum of its max norm and L1 norm.\n",
    "\n",
    "from math import inf\n",
    "from numpy import array\n",
    "from numpy.linalg import norm\n",
    "# define vector\n",
    "a = array([1, 2, 5, 10])\n",
    "print(a)\n",
    "#euclidean norm\n",
    "eucnorm=norm(a,2)\n",
    "# calculate norm\n",
    "maxnorm = norm(a, inf)\n",
    "print(maxnorm)\n",
    "l1norm = norm(a,1)\n",
    "print(l1norm)\n",
    "\n",
    "\n",
    "ans=eucnorm/(maxnorm+l1norm)\n",
    "ans"
   ]
  },
  {
   "cell_type": "markdown",
   "id": "1ce27db0",
   "metadata": {},
   "source": [
    "2. What is the difference between the max norm of [-90,-104,60, 23,56] and the L1 norm of the vector resulting from the element-wise product of the vectors [1,5,-3] and [1,2,4]."
   ]
  },
  {
   "cell_type": "code",
   "execution_count": 35,
   "id": "6b083de4",
   "metadata": {},
   "outputs": [
    {
     "name": "stdout",
     "output_type": "stream",
     "text": [
      "[  1  10 -12]\n",
      "23.0\n",
      "104.0\n"
     ]
    },
    {
     "data": {
      "text/plain": [
       "81.0"
      ]
     },
     "execution_count": 35,
     "metadata": {},
     "output_type": "execute_result"
    }
   ],
   "source": [
    "b= array([-90,-104,60, 23,56])\n",
    "\n",
    "c=array([1,5,-3])\n",
    "d=array([1,2,4])\n",
    "\n",
    "eleprod=c*d\n",
    "print(eleprod)\n",
    "\n",
    "l1res=norm(eleprod,1)\n",
    "print(l1res)\n",
    "\n",
    "maxnormb= norm(b, inf)\n",
    "print(maxnormb)\n",
    "\n",
    "maxnormb-l1res"
   ]
  },
  {
   "cell_type": "code",
   "execution_count": null,
   "id": "2c38c9ae",
   "metadata": {},
   "outputs": [],
   "source": []
  },
  {
   "cell_type": "markdown",
   "id": "084d3238",
   "metadata": {},
   "source": [
    "## In class activity 2/7"
   ]
  },
  {
   "cell_type": "markdown",
   "id": "a79124c1",
   "metadata": {},
   "source": [
    "3. Find the L2 euclidean norm of following\n",
    "    - [-3,6,7]\n",
    "    - [3,2,1]\n",
    "4. Normalize with their l2 norm --> so do vector/l2norm\n",
    "    - [-1,4,8]\n",
    "    - [3,5,1]\n",
    "5. Find l1 norm of \n",
    "    - [2,3,-5]\n",
    "    - [1,6,9]\n",
    "6. normalize with their l1 norms\n",
    "7. find the max norm of all above\n",
    "    - 7\n",
    "    - 3\n",
    "    - 8\n",
    "    - 5\n",
    "    - 3\n",
    "    - 9"
   ]
  },
  {
   "cell_type": "code",
   "execution_count": 6,
   "id": "b2c8704f",
   "metadata": {},
   "outputs": [
    {
     "name": "stdout",
     "output_type": "stream",
     "text": [
      "9.695359714832659\n",
      "3.7416573867739413\n"
     ]
    }
   ],
   "source": [
    "## 3. Find the L2 euclidean norm of following\n",
    "\n",
    "a= array([-3,6,7])\n",
    "b= array([3,2,1])\n",
    "\n",
    "anorm=norm(a,2)\n",
    "print(anorm)\n",
    "bnorm=norm(b,2)\n",
    "print(bnorm)"
   ]
  },
  {
   "cell_type": "code",
   "execution_count": null,
   "id": "6d8a6fd1",
   "metadata": {},
   "outputs": [],
   "source": []
  },
  {
   "cell_type": "code",
   "execution_count": 14,
   "id": "e2233236",
   "metadata": {},
   "outputs": [
    {
     "name": "stdout",
     "output_type": "stream",
     "text": [
      "[-0.11111111  0.44444444  0.88888889]\n",
      "[0.50709255 0.84515425 0.16903085]\n"
     ]
    }
   ],
   "source": [
    "## 4.Normalize with their l2 norm --> so do vector/l2norm\n",
    "\n",
    "c=array([-1,4,8])\n",
    "d=array([3,5,1])\n",
    "\n",
    "cnorm=norm(c,2)\n",
    "print(c/cnorm) ##vector divided by l2 norm == normalize with their l2 norm\n",
    "dnorm=norm(d,2)\n",
    "print(d/dnorm)"
   ]
  },
  {
   "cell_type": "code",
   "execution_count": null,
   "id": "8963deb5",
   "metadata": {},
   "outputs": [],
   "source": []
  },
  {
   "cell_type": "code",
   "execution_count": 19,
   "id": "159cf184",
   "metadata": {},
   "outputs": [
    {
     "name": "stdout",
     "output_type": "stream",
     "text": [
      "9.0\n",
      "16.0\n"
     ]
    }
   ],
   "source": [
    "## 5. Find l1 norm \n",
    "\n",
    "\n",
    "e= array([2,3,-5])\n",
    "f=array([1,6,9])\n",
    "\n",
    "enorm=norm(d,1)\n",
    "print(enorm)\n",
    "fnorm=norm(f,1)\n",
    "print(fnorm)"
   ]
  },
  {
   "cell_type": "code",
   "execution_count": 18,
   "id": "3c42fd31",
   "metadata": {},
   "outputs": [
    {
     "name": "stdout",
     "output_type": "stream",
     "text": [
      "a [-0.1875  0.375   0.4375]\n",
      "b [0.5        0.33333333 0.16666667]\n",
      "c [-0.07692308  0.30769231  0.61538462]\n",
      "d [0.33333333 0.55555556 0.11111111]\n",
      "e [ 0.2  0.3 -0.5]\n",
      "f [0.0625 0.375  0.5625]\n"
     ]
    }
   ],
   "source": [
    "## 6. normalize with their l1 norms\n",
    "\n",
    "print(\"a\", a/norm(a,1))\n",
    "print(\"b\", b/norm(b,1))\n",
    "print(\"c\", c/norm(c,1))\n",
    "print(\"d\", d/norm(d,1))\n",
    "print(\"e\", e/norm(e,1))\n",
    "print(\"f\", f/norm(f,1))"
   ]
  },
  {
   "cell_type": "code",
   "execution_count": null,
   "id": "d36ccce4",
   "metadata": {},
   "outputs": [],
   "source": []
  },
  {
   "cell_type": "code",
   "execution_count": null,
   "id": "1cef00e9",
   "metadata": {},
   "outputs": [],
   "source": []
  },
  {
   "cell_type": "code",
   "execution_count": 9,
   "id": "2c6a18c4",
   "metadata": {},
   "outputs": [],
   "source": []
  },
  {
   "cell_type": "markdown",
   "id": "4da7eeb5",
   "metadata": {},
   "source": [
    "7. Find Euclidean distance between A and B :\n",
    "- A(1,2) B(3,2)\n",
    "- A(3,5) B(2,6)"
   ]
  },
  {
   "cell_type": "code",
   "execution_count": 20,
   "id": "2216c768",
   "metadata": {},
   "outputs": [
    {
     "data": {
      "text/plain": [
       "2.0"
      ]
     },
     "execution_count": 20,
     "metadata": {},
     "output_type": "execute_result"
    }
   ],
   "source": [
    "import numpy as np\n",
    "np.sqrt((1-3)**2+ (2-2)**2)"
   ]
  },
  {
   "cell_type": "code",
   "execution_count": 21,
   "id": "ac55bc0e",
   "metadata": {},
   "outputs": [
    {
     "data": {
      "text/plain": [
       "1.4142135623730951"
      ]
     },
     "execution_count": 21,
     "metadata": {},
     "output_type": "execute_result"
    }
   ],
   "source": [
    "np.sqrt((3-2)**2+ (5-6)**2)"
   ]
  },
  {
   "cell_type": "code",
   "execution_count": null,
   "id": "19d1ebbc",
   "metadata": {},
   "outputs": [],
   "source": []
  },
  {
   "cell_type": "code",
   "execution_count": null,
   "id": "154e7a8a",
   "metadata": {},
   "outputs": [],
   "source": []
  },
  {
   "cell_type": "markdown",
   "id": "da9d4cf3",
   "metadata": {},
   "source": [
    "8. Given following points as part of k means clustering exercise, fine an estimate of the coordinates of a resulting centroid:\n",
    "\n",
    "- A(1,2)\n",
    "- B(-3,1)\n",
    "- C(3,7)\n",
    "- D(-2,5)"
   ]
  },
  {
   "cell_type": "code",
   "execution_count": 24,
   "id": "5127330d",
   "metadata": {},
   "outputs": [
    {
     "name": "stdout",
     "output_type": "stream",
     "text": [
      "-0.25 3.75\n"
     ]
    }
   ],
   "source": [
    "xcoord= (1+-3+3+-2)/4\n",
    "ycoord=(2+1+7+5)/4\n",
    "print(xcoord,ycoord) #(-0.25,3.75)"
   ]
  },
  {
   "cell_type": "code",
   "execution_count": null,
   "id": "0b1c39d0",
   "metadata": {},
   "outputs": [],
   "source": []
  },
  {
   "cell_type": "code",
   "execution_count": null,
   "id": "16023503",
   "metadata": {},
   "outputs": [],
   "source": []
  },
  {
   "cell_type": "markdown",
   "id": "453ba5d7",
   "metadata": {},
   "source": [
    "9. (Manual) Standardization of a feature (Standard Scaler) (5 mins):\n",
    "    - If a feature Age has the following entries, standardize them using StandardScaler\n",
    "    - Age = (41, 25, 20)"
   ]
  },
  {
   "cell_type": "code",
   "execution_count": 25,
   "id": "07dcfa53",
   "metadata": {},
   "outputs": [],
   "source": [
    "from sklearn.preprocessing import StandardScaler"
   ]
  },
  {
   "cell_type": "code",
   "execution_count": 36,
   "id": "10439a91",
   "metadata": {},
   "outputs": [
    {
     "name": "stdout",
     "output_type": "stream",
     "text": [
      "[ 1.37699742 -0.40937761 -0.96761981]\n"
     ]
    }
   ],
   "source": [
    "age= array([41, 25, 20])\n",
    "mu=np.mean(age)\n",
    "sigma=np.std(age)\n",
    "\n",
    "standardizedage= (age-mu)/sigma #x-mean/stdev\n",
    "print(standardizedage)"
   ]
  },
  {
   "cell_type": "markdown",
   "id": "fa5688a3",
   "metadata": {},
   "source": [
    "10. (Manual) Normalization of a feature (Min-Max Values) (5 mins):\n",
    "    - If a feature Age has the following entries, normalize them using Min-Max Values\n",
    "    - Age = (41,25,20)"
   ]
  },
  {
   "cell_type": "code",
   "execution_count": 39,
   "id": "09070183",
   "metadata": {},
   "outputs": [
    {
     "data": {
      "text/plain": [
       "array([-1.0952381 , -0.66666667, -0.61904762])"
      ]
     },
     "execution_count": 39,
     "metadata": {},
     "output_type": "execute_result"
    }
   ],
   "source": [
    "age= array([41, 25, 20])\n",
    "(a-20)/(41-20) ##x-minx/(maxx-minx)"
   ]
  },
  {
   "cell_type": "code",
   "execution_count": null,
   "id": "fcfc9dd0",
   "metadata": {},
   "outputs": [],
   "source": []
  },
  {
   "cell_type": "code",
   "execution_count": null,
   "id": "0ddccc61",
   "metadata": {},
   "outputs": [],
   "source": []
  },
  {
   "cell_type": "code",
   "execution_count": null,
   "id": "5e872479",
   "metadata": {},
   "outputs": [],
   "source": []
  },
  {
   "cell_type": "markdown",
   "id": "b2faf853",
   "metadata": {},
   "source": [
    "### Exam 1 "
   ]
  },
  {
   "cell_type": "code",
   "execution_count": 38,
   "id": "3facbbb8",
   "metadata": {},
   "outputs": [
    {
     "data": {
      "text/plain": [
       "array([24., 26.,  5.])"
      ]
     },
     "execution_count": 38,
     "metadata": {},
     "output_type": "execute_result"
    }
   ],
   "source": [
    "#If you scale vector p = [2.4, 2.6, 0.5] with the max norm of vector j = [2, 5, 10] what is the z-axis coordinate of the new (scaled) vector?\n",
    "p = array([2.4, 2.6, 0.5])\n",
    "p*10"
   ]
  },
  {
   "cell_type": "code",
   "execution_count": 39,
   "id": "55bf7619",
   "metadata": {},
   "outputs": [
    {
     "data": {
      "text/plain": [
       "array([0.92307692, 1.        , 0.19230769])"
      ]
     },
     "execution_count": 39,
     "metadata": {},
     "output_type": "execute_result"
    }
   ],
   "source": [
    "#If you normalize the vector p = [2.4, 2.6, 0.5] by its max norm, what is the z-axis coordinate of the new (normalized) vector\n",
    "p/2.6"
   ]
  },
  {
   "cell_type": "code",
   "execution_count": 40,
   "id": "6c858bc0",
   "metadata": {},
   "outputs": [
    {
     "data": {
      "text/plain": [
       "array([1., 2., 2.])"
      ]
     },
     "execution_count": 40,
     "metadata": {},
     "output_type": "execute_result"
    }
   ],
   "source": [
    "#Perform element-wise division of vector d = [2 , 4, 8] by vector f = [2, 2, 4]and find the sum of all the x, y and z-axis coordinates of the new vector.\n",
    "d = array([2 , 4, 8])\n",
    "f = array([2, 2, 4])\n",
    "d/f"
   ]
  },
  {
   "cell_type": "code",
   "execution_count": 41,
   "id": "38b1afd6",
   "metadata": {},
   "outputs": [
    {
     "data": {
      "text/plain": [
       "16.916079783099615"
      ]
     },
     "execution_count": 41,
     "metadata": {},
     "output_type": "execute_result"
    }
   ],
   "source": [
    "#Add the Euclidean norm of vector h = [1, 3, 5] to the L1 norm of vector c = [-2, -3, 6].\n",
    "h =array( [1, 3, 5])\n",
    "c=array([-2, -3, 6])\n",
    "\n",
    "eu=norm(h,2)\n",
    "l1=norm(c,1)\n",
    "eu+l1"
   ]
  },
  {
   "cell_type": "code",
   "execution_count": 42,
   "id": "6cbf4bb9",
   "metadata": {},
   "outputs": [
    {
     "data": {
      "text/plain": [
       "array([ 6,  4, 16])"
      ]
     },
     "execution_count": 42,
     "metadata": {},
     "output_type": "execute_result"
    }
   ],
   "source": [
    "#Given vector f = [1,4,8], vector b = [2,3,4] and vector y = [3,-3, 4] in 3 what is the sum of the values/coordinates of the vector resulting from the sum of f, b and y?\n",
    "f= array([1,4,8])\n",
    "b=array( [2,3,4])\n",
    "y=array([3,-3, 4])\n",
    "f+b+y"
   ]
  },
  {
   "cell_type": "code",
   "execution_count": 43,
   "id": "6427585d",
   "metadata": {},
   "outputs": [
    {
     "data": {
      "text/plain": [
       "26"
      ]
     },
     "execution_count": 43,
     "metadata": {},
     "output_type": "execute_result"
    }
   ],
   "source": [
    "6+4+16"
   ]
  },
  {
   "cell_type": "code",
   "execution_count": 44,
   "id": "dde088bb",
   "metadata": {},
   "outputs": [
    {
     "data": {
      "text/plain": [
       "0.76696548669862"
      ]
     },
     "execution_count": 44,
     "metadata": {},
     "output_type": "execute_result"
    }
   ],
   "source": [
    "3.16228/4.123106"
   ]
  },
  {
   "cell_type": "code",
   "execution_count": 57,
   "id": "2f338fb5",
   "metadata": {},
   "outputs": [
    {
     "data": {
      "text/plain": [
       "array([1.        , 0.66666667, 1.        , 0.        ])"
      ]
     },
     "execution_count": 57,
     "metadata": {},
     "output_type": "execute_result"
    }
   ],
   "source": [
    "\n",
    "\n",
    "a= array([6,5,6,3])\n",
    "n=(a-3)/(6-3) ##x-minx/(maxx-minx)\n",
    "n\n"
   ]
  },
  {
   "cell_type": "code",
   "execution_count": 56,
   "id": "cb425a8c",
   "metadata": {},
   "outputs": [
    {
     "data": {
      "text/plain": [
       "array([0.73333333, 1.        , 0.33333333, 0.        ])"
      ]
     },
     "execution_count": 56,
     "metadata": {},
     "output_type": "execute_result"
    }
   ],
   "source": [
    "a= array([27,35,15,5])\n",
    "n=(a-5)/(35-5) ##x-minx/(maxx-minx)\n",
    "n"
   ]
  },
  {
   "cell_type": "code",
   "execution_count": 58,
   "id": "b0c5511c",
   "metadata": {},
   "outputs": [
    {
     "data": {
      "text/plain": [
       "array([0.82857143, 1.        , 0.34285714, 0.        ])"
      ]
     },
     "execution_count": 58,
     "metadata": {},
     "output_type": "execute_result"
    }
   ],
   "source": [
    "a= array([29,35,12,0])\n",
    "n=(a-0)/(35-0) ##x-minx/(maxx-minx)\n",
    "n\n"
   ]
  },
  {
   "cell_type": "code",
   "execution_count": null,
   "id": "f3469ca6",
   "metadata": {},
   "outputs": [],
   "source": []
  }
 ],
 "metadata": {
  "kernelspec": {
   "display_name": "Python 3 (ipykernel)",
   "language": "python",
   "name": "python3"
  },
  "language_info": {
   "codemirror_mode": {
    "name": "ipython",
    "version": 3
   },
   "file_extension": ".py",
   "mimetype": "text/x-python",
   "name": "python",
   "nbconvert_exporter": "python",
   "pygments_lexer": "ipython3",
   "version": "3.9.7"
  }
 },
 "nbformat": 4,
 "nbformat_minor": 5
}
