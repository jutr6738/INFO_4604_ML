{
 "cells": [
  {
   "cell_type": "markdown",
   "id": "f1149cce",
   "metadata": {},
   "source": [
    "# Example: Using scipy.linalg.solve() to solve SLEs"
   ]
  },
  {
   "cell_type": "code",
   "execution_count": 2,
   "id": "cdef203b",
   "metadata": {},
   "outputs": [],
   "source": [
    "#import NumPy as np, along with linalg from scipy\n",
    "\n",
    "import numpy as np\n",
    "from scipy import linalg"
   ]
  },
  {
   "cell_type": "code",
   "execution_count": 3,
   "id": "39a918ff",
   "metadata": {},
   "outputs": [],
   "source": [
    "#create the coefficients matrix as a NumPy array and call it A\n",
    "\n",
    "A = np.array([[3, 2],[2, -1],])\n",
    "   "
   ]
  },
  {
   "cell_type": "code",
   "execution_count": 6,
   "id": "3ebfcc96",
   "metadata": {},
   "outputs": [
    {
     "data": {
      "text/plain": [
       "array([[ 3,  2],\n",
       "       [ 2, -1]])"
      ]
     },
     "execution_count": 6,
     "metadata": {},
     "output_type": "execute_result"
    }
   ],
   "source": [
    "#Display A\n",
    "\n",
    "A"
   ]
  },
  {
   "cell_type": "code",
   "execution_count": 8,
   "id": "86166927",
   "metadata": {},
   "outputs": [],
   "source": [
    "#create the independent terms vector using a NumPy array called b. To make it a column vector with two \n",
    "# lines, you use .reshape((2, 1))\n",
    "\n",
    "b = np.array([12, 1]).reshape((2, 1))"
   ]
  },
  {
   "cell_type": "code",
   "execution_count": 9,
   "id": "ec3fa987",
   "metadata": {},
   "outputs": [
    {
     "data": {
      "text/plain": [
       "array([[12],\n",
       "       [ 1]])"
      ]
     },
     "execution_count": 9,
     "metadata": {},
     "output_type": "execute_result"
    }
   ],
   "source": [
    "#Display b\n",
    "\n",
    "b"
   ]
  },
  {
   "cell_type": "code",
   "execution_count": 10,
   "id": "cff13893",
   "metadata": {},
   "outputs": [],
   "source": [
    "#call linalg.solve() to solve the linear system \n",
    "#characterized by A and b, with the result \n",
    "#stored in x, which is printed. \n",
    "#Note that solve() returns the solution with floating-point components, even though all the elements of the original arrays are integers\n",
    "\n",
    "x = linalg.solve(A, b)"
   ]
  },
  {
   "cell_type": "code",
   "execution_count": 11,
   "id": "0b1a7ff8",
   "metadata": {},
   "outputs": [
    {
     "data": {
      "text/plain": [
       "array([[2.],\n",
       "       [3.]])"
      ]
     },
     "execution_count": 11,
     "metadata": {},
     "output_type": "execute_result"
    }
   ],
   "source": [
    "#Print x\n",
    "x"
   ]
  },
  {
   "cell_type": "code",
   "execution_count": null,
   "id": "9a2a6e09",
   "metadata": {},
   "outputs": [],
   "source": []
  },
  {
   "cell_type": "markdown",
   "id": "d9a889e4",
   "metadata": {},
   "source": [
    "# Example: Using a Model to Solve a SLE involving a Meal Plan"
   ]
  },
  {
   "cell_type": "code",
   "execution_count": null,
   "id": "5c7a6192",
   "metadata": {},
   "outputs": [],
   "source": [
    "import numpy as np\n",
    "from scipy import linalg"
   ]
  },
  {
   "cell_type": "code",
   "execution_count": null,
   "id": "c0fd7670",
   "metadata": {},
   "outputs": [],
   "source": [
    "A = np.array([[1, 9, 2, 1, 1],[10, 1, 2, 1, 1],\n",
    "[1, 0, 5, 1, 1],[2, 1, 1, 2, 9],[2, 1, 2, 13, 2],])"
   ]
  },
  {
   "cell_type": "code",
   "execution_count": null,
   "id": "176512cd",
   "metadata": {},
   "outputs": [],
   "source": [
    "#Create an array and reshape as a 5 by 1 vector\n",
    "\n",
    "b = np.array([170, 180, 140, 180, 350]).reshape((5, 1))"
   ]
  },
  {
   "cell_type": "code",
   "execution_count": null,
   "id": "5a678ffe",
   "metadata": {},
   "outputs": [],
   "source": [
    "x = linalg.solve(A, b)"
   ]
  },
  {
   "cell_type": "code",
   "execution_count": null,
   "id": "ea675473",
   "metadata": {},
   "outputs": [],
   "source": [
    "x"
   ]
  },
  {
   "cell_type": "code",
   "execution_count": null,
   "id": "96966234",
   "metadata": {},
   "outputs": [],
   "source": [
    "#The solution above indicates that a balanced diet should include \n",
    "# 10 units of food 1, 10 units of food 2, 20 units of food 3, \n",
    "# 20 units of food 4, and 10 units of food 5"
   ]
  },
  {
   "cell_type": "markdown",
   "id": "a99a2c99",
   "metadata": {},
   "source": [
    "# How to find the inverse of a given matrix in Python"
   ]
  },
  {
   "cell_type": "code",
   "execution_count": null,
   "id": "8ce943a3",
   "metadata": {},
   "outputs": [],
   "source": [
    "# invert matrix\n",
    "from numpy import array\n",
    "from numpy.linalg import inv\n",
    "# define matrix\n",
    "A = array([\n",
    "[1.0, 2.0],\n",
    "[3.0, 4.0]])\n",
    "print(A)"
   ]
  },
  {
   "cell_type": "code",
   "execution_count": null,
   "id": "5047d0b4",
   "metadata": {},
   "outputs": [],
   "source": [
    "# invert matrix A and store in object B\n",
    "B = inv(A)\n",
    "print(B)\n"
   ]
  },
  {
   "cell_type": "code",
   "execution_count": null,
   "id": "174587cf",
   "metadata": {},
   "outputs": [],
   "source": [
    "# dot multiply A and B (the inverse of A)\n",
    "I = A.dot(B)\n",
    "print(I)"
   ]
  },
  {
   "cell_type": "code",
   "execution_count": null,
   "id": "9e03c48f",
   "metadata": {},
   "outputs": [],
   "source": [
    "#The dot multiplication above produces an identity matrix (or the equivalent of 1 in matrix world)"
   ]
  },
  {
   "cell_type": "code",
   "execution_count": null,
   "id": "5932f381",
   "metadata": {},
   "outputs": [],
   "source": []
  },
  {
   "cell_type": "markdown",
   "id": "593137a9",
   "metadata": {},
   "source": [
    "# How to find the determinant of a matrix with Python"
   ]
  },
  {
   "cell_type": "code",
   "execution_count": null,
   "id": "9938e9f3",
   "metadata": {},
   "outputs": [],
   "source": [
    "#The determinant of a square matrix A, written as det(A) is a scalar representation of the volume of the matrix\n",
    "\n",
    "#The determinant describes the relative geometry of the vectors that make up the\n",
    "#rows of the matrix. More specifically, the determinant of a matrix A tells you the\n",
    "#volume of a box with sides given by rows of A.\n",
    "\n",
    "# import relevant libraries including det from numpy.linalg\n",
    "from numpy import array\n",
    "from numpy.linalg import det\n",
    "\n",
    "# define matrix\n",
    "A = array([\n",
    "[1, 2, 3],\n",
    "[4, 5, 6],\n",
    "[7, 8, 9]])\n",
    "\n",
    "print(A)\n",
    "\n"
   ]
  },
  {
   "cell_type": "code",
   "execution_count": null,
   "id": "502758f5",
   "metadata": {},
   "outputs": [],
   "source": [
    "# calculate determinant of A and assign to object B\n",
    "B = det(A)\n",
    "print(B)"
   ]
  },
  {
   "cell_type": "code",
   "execution_count": null,
   "id": "9122cf4c",
   "metadata": {},
   "outputs": [],
   "source": [
    "#The determinant is typically defined for square matrices and it is a single number"
   ]
  },
  {
   "cell_type": "markdown",
   "id": "6fc1c305",
   "metadata": {},
   "source": [
    "# Example: Using Matrix Inverse to Solve Ax = b"
   ]
  },
  {
   "cell_type": "code",
   "execution_count": null,
   "id": "d68f1a36",
   "metadata": {},
   "outputs": [],
   "source": []
  },
  {
   "cell_type": "code",
   "execution_count": null,
   "id": "0ae8b57e",
   "metadata": {},
   "outputs": [],
   "source": [
    "import numpy as np\n",
    "from scipy import linalg"
   ]
  },
  {
   "cell_type": "code",
   "execution_count": null,
   "id": "97b8a31d",
   "metadata": {},
   "outputs": [],
   "source": [
    "A = np.array([[1, 9, 2, 1, 1],[10, 1, 2, 1, 1],\n",
    "[1, 0, 5, 1, 1],[2, 1, 1, 2, 9],[2, 1, 2, 13, 2],])"
   ]
  },
  {
   "cell_type": "code",
   "execution_count": null,
   "id": "97c537fa",
   "metadata": {},
   "outputs": [],
   "source": [
    "#Create an array and reshape as a 5 by 1 vector\n",
    "\n",
    "b = np.array([170, 180, 140, 180, 350]).reshape((5, 1))"
   ]
  },
  {
   "cell_type": "code",
   "execution_count": null,
   "id": "a97c2b5f",
   "metadata": {},
   "outputs": [],
   "source": [
    "#Create the inverse of A\n",
    "\n",
    "A_inv = linalg.inv(A)"
   ]
  },
  {
   "cell_type": "code",
   "execution_count": null,
   "id": "16e6afa6",
   "metadata": {},
   "outputs": [],
   "source": [
    "#Display A_inv (the inverse of A)\n",
    "\n",
    "A_inv"
   ]
  },
  {
   "cell_type": "code",
   "execution_count": null,
   "id": "dd8286ad",
   "metadata": {},
   "outputs": [],
   "source": [
    "#A_inv is a 5X5 matrix/system so it can dot multiply b (a 5X1 vector) to produce a 5X1 vector x\n",
    "\n",
    "x = A_inv.dot(b)"
   ]
  },
  {
   "cell_type": "code",
   "execution_count": null,
   "id": "0e1743d8",
   "metadata": {},
   "outputs": [],
   "source": [
    "x"
   ]
  },
  {
   "cell_type": "code",
   "execution_count": null,
   "id": "39d548a6",
   "metadata": {},
   "outputs": [],
   "source": []
  },
  {
   "cell_type": "code",
   "execution_count": null,
   "id": "1f3425c5",
   "metadata": {},
   "outputs": [],
   "source": [
    "#Find the dot product of the inverse of A and vector b\n",
    "\n",
    "y = A_inv @ b"
   ]
  },
  {
   "cell_type": "code",
   "execution_count": null,
   "id": "59916993",
   "metadata": {},
   "outputs": [],
   "source": [
    "y"
   ]
  },
  {
   "cell_type": "markdown",
   "id": "6e65af3c",
   "metadata": {},
   "source": [
    "# Example: Solving SLEs Using QR Decomposition"
   ]
  },
  {
   "cell_type": "code",
   "execution_count": 12,
   "id": "dc72166a",
   "metadata": {},
   "outputs": [],
   "source": [
    "\"\"\" QR decomposition with scipy \"\"\" \n",
    "import scipy.linalg as linalg \n",
    "import numpy as np # same matrix A and B as in LU decomposition \n"
   ]
  },
  {
   "cell_type": "code",
   "execution_count": 13,
   "id": "057e4735",
   "metadata": {},
   "outputs": [],
   "source": [
    "A = np.array([ [2., 1., 1.], [1., 3., 2.], [1., 0., 0]]) \n"
   ]
  },
  {
   "cell_type": "code",
   "execution_count": 14,
   "id": "7ba9eb34",
   "metadata": {},
   "outputs": [],
   "source": [
    "B = np.array([4., 5., 6.]) \n"
   ]
  },
  {
   "cell_type": "code",
   "execution_count": 15,
   "id": "04d923c6",
   "metadata": {},
   "outputs": [
    {
     "data": {
      "text/plain": [
       "array([[-0.81649658,  0.27602622, -0.50709255],\n",
       "       [-0.40824829, -0.89708523,  0.16903085],\n",
       "       [-0.40824829,  0.34503278,  0.84515425]])"
      ]
     },
     "execution_count": 15,
     "metadata": {},
     "output_type": "execute_result"
    }
   ],
   "source": [
    "Q, R = linalg.qr(A) # QR decomposition with qr function \n",
    "Q"
   ]
  },
  {
   "cell_type": "code",
   "execution_count": 19,
   "id": "a74e940e",
   "metadata": {},
   "outputs": [],
   "source": [
    "y = np.dot(Q.T, B) # Let y=Q'.B using matrix multiplication \n"
   ]
  },
  {
   "cell_type": "code",
   "execution_count": null,
   "id": "1648e91f",
   "metadata": {},
   "outputs": [],
   "source": [
    "x = linalg.solve(R, y) # Solve Rx=y \n"
   ]
  },
  {
   "cell_type": "code",
   "execution_count": null,
   "id": "48f362f0",
   "metadata": {},
   "outputs": [],
   "source": [
    "print x"
   ]
  },
  {
   "cell_type": "code",
   "execution_count": null,
   "id": "2f286516",
   "metadata": {},
   "outputs": [],
   "source": []
  },
  {
   "cell_type": "code",
   "execution_count": null,
   "id": "0b9e8edf",
   "metadata": {},
   "outputs": [],
   "source": [
    "#How to find the pseudoinverse of a non-square matrix using Python"
   ]
  },
  {
   "cell_type": "code",
   "execution_count": null,
   "id": "bcdb4fe7",
   "metadata": {},
   "outputs": [],
   "source": [
    "#Import relevant libraries and pinv from numpy.linalg\n",
    "\n",
    "#pseudoinverse\n",
    "from numpy import array\n",
    "from numpy.linalg import pinv\n",
    "# define matrix\n",
    "A = array([\n",
    "[0.1, 0.2],\n",
    "[0.3, 0.4],\n",
    "[0.5, 0.6],\n",
    "[0.7, 0.8]])\n",
    "print(A)\n"
   ]
  },
  {
   "cell_type": "code",
   "execution_count": null,
   "id": "876fb6c3",
   "metadata": {},
   "outputs": [],
   "source": [
    "# calculate pseudoinverse of non-square matrix A and assign to object B\n",
    "B = pinv(A)\n",
    "print(B)"
   ]
  },
  {
   "cell_type": "code",
   "execution_count": null,
   "id": "cd3c18f3",
   "metadata": {},
   "outputs": [],
   "source": []
  },
  {
   "cell_type": "code",
   "execution_count": null,
   "id": "d0e10ee8",
   "metadata": {},
   "outputs": [],
   "source": []
  },
  {
   "cell_type": "code",
   "execution_count": null,
   "id": "f2d033d6",
   "metadata": {},
   "outputs": [],
   "source": []
  },
  {
   "cell_type": "code",
   "execution_count": null,
   "id": "2dc698b1",
   "metadata": {},
   "outputs": [],
   "source": []
  },
  {
   "cell_type": "markdown",
   "id": "59bdbb38",
   "metadata": {},
   "source": [
    "# Example: Solving SLEs with SVD + Pseudoinverse"
   ]
  },
  {
   "cell_type": "code",
   "execution_count": null,
   "id": "b2b3e389",
   "metadata": {},
   "outputs": [],
   "source": [
    "#We can use SVD to find approximate solutions for real-world problems. \n",
    "#In this example, we use the Boston house-prices dataset. \n",
    "\n",
    "#The house-prices data matrix A contains 506 rows (representing individual houses), \n",
    "# and 13 columns (each describing a different characteristic of the houses). \n",
    "\n",
    "#So A is a 506 X 13 matrix/ system\n",
    "\n",
    "#Some of these 13 features include:\n",
    "\n",
    "#Per capita crime rate by town\n",
    "#The average number of rooms per dwelling\n",
    "#Weighted distances to five Boston employment centers"
   ]
  },
  {
   "cell_type": "code",
   "execution_count": null,
   "id": "549a8f0f",
   "metadata": {},
   "outputs": [],
   "source": [
    "#Import relevant libraries and datasets from sklearn\n",
    "\n",
    "from sklearn import datasets\n",
    "from sklearn.model_selection import train_test_split\n",
    "\n"
   ]
  },
  {
   "cell_type": "code",
   "execution_count": null,
   "id": "f6e7ba8b",
   "metadata": {},
   "outputs": [],
   "source": [
    "# load the boston house data\n",
    "\n",
    "data = datasets.load_boston()\n"
   ]
  },
  {
   "cell_type": "code",
   "execution_count": null,
   "id": "f78cb617",
   "metadata": {},
   "outputs": [],
   "source": [
    "data"
   ]
  },
  {
   "cell_type": "code",
   "execution_count": null,
   "id": "2d89ac23",
   "metadata": {},
   "outputs": [],
   "source": [
    "# extract the input data matrix and the target values\n",
    "A = data.data\n",
    "b = data.target"
   ]
  },
  {
   "cell_type": "code",
   "execution_count": null,
   "id": "70ee3f2a",
   "metadata": {},
   "outputs": [],
   "source": [
    "A"
   ]
  },
  {
   "cell_type": "code",
   "execution_count": null,
   "id": "c5d820cf",
   "metadata": {},
   "outputs": [],
   "source": [
    "# Step 1: append a columns of 1s (these are the biases)\n",
    "A = np.column_stack([np.ones(A.shape[0]), A])"
   ]
  },
  {
   "cell_type": "code",
   "execution_count": null,
   "id": "075a3c04",
   "metadata": {},
   "outputs": [],
   "source": [
    "A"
   ]
  },
  {
   "cell_type": "code",
   "execution_count": null,
   "id": "1f0364cc",
   "metadata": {},
   "outputs": [],
   "source": [
    "# Step 2: split the data into train and test sets\n",
    "X_train, X_test, y_train, y_test = train_test_split(A, b, test_size=0.50, random_state=42)"
   ]
  },
  {
   "cell_type": "code",
   "execution_count": null,
   "id": "8eb2215b",
   "metadata": {},
   "outputs": [],
   "source": [
    "# Step 3: calculate the economy SVD for the data matrix A\n",
    "U,S,Vt = np.linalg.svd(X_train, full_matrices=False)"
   ]
  },
  {
   "cell_type": "code",
   "execution_count": null,
   "id": "2f858f7e",
   "metadata": {},
   "outputs": [],
   "source": [
    "# Step 4: solve Ax = b for the best possible approximate solution in terms of least squares\n",
    "x_hat = Vt.T @ np.linalg.inv(np.diag(S)) @ U.T @ y_train"
   ]
  },
  {
   "cell_type": "code",
   "execution_count": null,
   "id": "782241f4",
   "metadata": {},
   "outputs": [],
   "source": [
    "#Step 5: print x_hat\n",
    "\n",
    "x_hat"
   ]
  },
  {
   "cell_type": "code",
   "execution_count": null,
   "id": "4ce3e1d3",
   "metadata": {},
   "outputs": [],
   "source": []
  },
  {
   "cell_type": "code",
   "execution_count": null,
   "id": "9e4d9312",
   "metadata": {},
   "outputs": [],
   "source": []
  },
  {
   "cell_type": "code",
   "execution_count": null,
   "id": "790eb630",
   "metadata": {},
   "outputs": [],
   "source": []
  },
  {
   "cell_type": "code",
   "execution_count": null,
   "id": "7db93fce",
   "metadata": {},
   "outputs": [],
   "source": []
  },
  {
   "cell_type": "code",
   "execution_count": null,
   "id": "3c582c25",
   "metadata": {},
   "outputs": [],
   "source": []
  },
  {
   "cell_type": "code",
   "execution_count": null,
   "id": "5b5b21a8",
   "metadata": {},
   "outputs": [],
   "source": []
  },
  {
   "cell_type": "code",
   "execution_count": null,
   "id": "1f200443",
   "metadata": {},
   "outputs": [],
   "source": []
  }
 ],
 "metadata": {
  "kernelspec": {
   "display_name": "Python 3 (ipykernel)",
   "language": "python",
   "name": "python3"
  },
  "language_info": {
   "codemirror_mode": {
    "name": "ipython",
    "version": 3
   },
   "file_extension": ".py",
   "mimetype": "text/x-python",
   "name": "python",
   "nbconvert_exporter": "python",
   "pygments_lexer": "ipython3",
   "version": "3.9.7"
  }
 },
 "nbformat": 4,
 "nbformat_minor": 5
}
