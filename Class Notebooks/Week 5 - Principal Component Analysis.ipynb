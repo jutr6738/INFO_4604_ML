{
 "cells": [
  {
   "cell_type": "markdown",
   "id": "b102ec09",
   "metadata": {},
   "source": [
    "# PCA in Python with Simulated Data"
   ]
  },
  {
   "cell_type": "code",
   "execution_count": null,
   "id": "18b25676",
   "metadata": {},
   "outputs": [],
   "source": []
  },
  {
   "cell_type": "code",
   "execution_count": null,
   "id": "a3205d74",
   "metadata": {},
   "outputs": [],
   "source": [
    "#1. Create some data you can apply PCA to\n",
    "\n",
    "#2. Use PCA() function  from sklearn to do PCA\n",
    "#to get PCA to suggest best components to \n",
    "\n",
    "#3. Determine how much variation each principal component accounts for\n",
    "\n",
    "#4. How to draw a PCA graph using matplotlib\n",
    "\n",
    "#5. How to examine the loading scores to determine what\n",
    "# variables have the largest effect on the graph\n",
    "\n",
    "\n",
    "#Remember PCA is used for dimensionality reduction\n",
    "# so you can extract relevant features that help cluster data so you can classify data points\n",
    "\n",
    "#Key Steps to Remember include:\n",
    "\n",
    "#1. Get data\n",
    "#2. Draw Scree plot\n",
    "#3. Develop PCA chart/plot\n",
    "#4. Interpretation or classification"
   ]
  },
  {
   "cell_type": "code",
   "execution_count": null,
   "id": "75d1631f",
   "metadata": {},
   "outputs": [],
   "source": []
  },
  {
   "cell_type": "code",
   "execution_count": 63,
   "id": "0722fafc",
   "metadata": {},
   "outputs": [],
   "source": [
    "#Import relevant functions and packages\n",
    "\n",
    "import pandas as pd\n",
    "import numpy as np\n",
    "import random as rd #random package used to simulate data. If you have real data, you won't need this package\n",
    "from sklearn.decomposition import PCA #import PCA() function from sklearn\n",
    "from sklearn import preprocessing #preprocessing gives functions for scaling data before performing PCA\n",
    "import matplotlib.pyplot as plt # to draw graphs\n"
   ]
  },
  {
   "cell_type": "markdown",
   "id": "d504ac65",
   "metadata": {},
   "source": [
    "# Step 1: Create simulated dataset"
   ]
  },
  {
   "cell_type": "code",
   "execution_count": null,
   "id": "3547f4bb",
   "metadata": {},
   "outputs": [],
   "source": [
    "#NOTE that this Example shows you how to use PCA when your original variables/ features are in ROWS\n",
    "# and your observations are in COLUMNS"
   ]
  },
  {
   "cell_type": "code",
   "execution_count": 49,
   "id": "8d09a5db",
   "metadata": {},
   "outputs": [],
   "source": [
    "#Generate sample dataset\n",
    "\n",
    "#Generate an array of 100 gene names (features/original variables)\n",
    "\n",
    "genes = ['gene' + str(i) for i in range(1,101)]\n",
    "\n"
   ]
  },
  {
   "cell_type": "code",
   "execution_count": 50,
   "id": "55c27884",
   "metadata": {},
   "outputs": [],
   "source": [
    "#Creat arrays of sample names (i.e. observations)\n",
    "#Create 5 \"wild type\" or \"wt\" samples and\n",
    "# 5 \"knock out\" or \"ko\" samples\n",
    "\n",
    "wt = ['wt' + str(i) for i in range(1,6)]\n",
    "ko = ['ko' + str(i) for i in range(1,6)]\n",
    "      "
   ]
  },
  {
   "cell_type": "code",
   "execution_count": 51,
   "id": "30b1b9c3",
   "metadata": {},
   "outputs": [],
   "source": [
    "#Create Pandas dataframe to store the simulated data\n",
    "\n",
    "data = pd.DataFrame(columns = [*wt, *ko], index = genes)\n",
    "#the * unpack the \"wt\" and \"ko\" arrays - so that the column\n",
    "#names are a single array \n",
    "#without the stars we would create an array of two arrays\n",
    "#and not the 12 columns we want"
   ]
  },
  {
   "cell_type": "code",
   "execution_count": null,
   "id": "01b7d046",
   "metadata": {},
   "outputs": [],
   "source": [
    "#The gene names are the equivalent of row names\n",
    "\n",
    "#The columns (features/variables) ar the *wt and *ko\n",
    "\n"
   ]
  },
  {
   "cell_type": "code",
   "execution_count": 52,
   "id": "84b17577",
   "metadata": {},
   "outputs": [],
   "source": [
    "#Create the random data\n",
    "#Lets assume the features have a Poisson distribution. This is sometimes not the case for gene data...\n",
    "\n",
    "#For each gene in the index (i.e. gene1, gene2, ...gene100),\n",
    "#we create 5 values for the \"wt\" samples and 5 values for the\n",
    "#\"ko\" samples\n",
    "\n",
    "for gene in data.index:\n",
    "    data.loc[gene, 'wt1':'wt5'] = np.random.poisson(lam = rd.randrange(10,1000), size=5)\n",
    "    data.loc[gene, 'ko1':'ko5' ] = np.random.poisson(lam = rd.randrange(10,1000), size=5)"
   ]
  },
  {
   "cell_type": "code",
   "execution_count": null,
   "id": "ea8b36ad",
   "metadata": {},
   "outputs": [],
   "source": [
    "#We are assuming the simulated data comes from two Poisson distributions\n",
    "#means of each gene can vary between 10 and 100"
   ]
  },
  {
   "cell_type": "code",
   "execution_count": 53,
   "id": "ee14c9a5",
   "metadata": {},
   "outputs": [
    {
     "name": "stdout",
     "output_type": "stream",
     "text": [
      "       wt1  wt2  wt3  wt4  wt5  ko1  ko2  ko3  ko4  ko5\n",
      "gene1  461  442  447  426  445  692  599  598  588  562\n",
      "gene2  142  153  173  139  172  738  733  773  736  741\n",
      "gene3  609  657  604  648  630  147  148  155  159  145\n",
      "gene4  866  854  803  800  859   89   91   82  108  112\n",
      "gene5   56   53   76   59   55  247  282  297  298  266\n"
     ]
    }
   ],
   "source": [
    "print(data.head()) #displays the first 5 rows of data"
   ]
  },
  {
   "cell_type": "code",
   "execution_count": null,
   "id": "a16f2bbb",
   "metadata": {},
   "outputs": [],
   "source": [
    "#You can consider gene1, gene2, gene3 ...as the features/variables\n",
    "#You can consider wt1,wt...as observations"
   ]
  },
  {
   "cell_type": "code",
   "execution_count": 54,
   "id": "c0b262e5",
   "metadata": {},
   "outputs": [
    {
     "name": "stdout",
     "output_type": "stream",
     "text": [
      "(100, 10)\n"
     ]
    }
   ],
   "source": [
    "print(data.shape)# returns the dimensions of our data matrix"
   ]
  },
  {
   "cell_type": "code",
   "execution_count": null,
   "id": "4aa1f199",
   "metadata": {},
   "outputs": [],
   "source": [
    "#So we have 100 rows and 10 columns for our simulated data\n",
    "#Remember that in this example, the rows are original features and the columns are observations\n",
    "#We would typically want the columns to be original features and rows be observations"
   ]
  },
  {
   "cell_type": "markdown",
   "id": "62d47d65",
   "metadata": {},
   "source": [
    "# Step 2: Center and Scale Data"
   ]
  },
  {
   "cell_type": "code",
   "execution_count": null,
   "id": "4429bd63",
   "metadata": {},
   "outputs": [],
   "source": [
    "#Step 2: Center and scale simulated data such that the features (gene1, gene2 etc) have mean = 0 and standard deviation = 1\n",
    "\n",
    "#Before we do PCA, we have to center and scale the data\n",
    "\n",
    "#After centering the average value for each gene will be 0\n",
    "#After scaling, the standard deviation for the values of each gene will be 1\n"
   ]
  },
  {
   "cell_type": "code",
   "execution_count": 64,
   "id": "62940bea",
   "metadata": {},
   "outputs": [],
   "source": [
    "scaled_data = preprocessing.scale(data.T)"
   ]
  },
  {
   "cell_type": "code",
   "execution_count": null,
   "id": "93a13fbc",
   "metadata": {},
   "outputs": [],
   "source": [
    "#We pass in the transpose of our data because the scale() function\n",
    "# expects the samples (columns in our data) to be rows instead of columns\n",
    "\n",
    "\n",
    "#Note that you have to examine how your data is stored\n",
    "#If you have observations as columns (as this Example shows), you have to transpose it before analysis\n",
    "\n",
    "#If you have a dataset with original variables/ features as columns and observations as rows, you would use\n",
    "# scaled_data = preprocessing.scale(data). You would not need to transpose the data"
   ]
  },
  {
   "cell_type": "code",
   "execution_count": 55,
   "id": "01fa2994",
   "metadata": {},
   "outputs": [],
   "source": [
    "#We can also write the last line of code as below:\n",
    "\n",
    "from sklearn.preprocessing import StandardScaler\n",
    "\n",
    "scaled_data = StandardScaler().fit_transform(data.T)\n"
   ]
  },
  {
   "cell_type": "code",
   "execution_count": 65,
   "id": "05aeb421",
   "metadata": {},
   "outputs": [],
   "source": [
    "#Create a PCA object\n",
    "\n",
    "pca = PCA()"
   ]
  },
  {
   "cell_type": "code",
   "execution_count": 66,
   "id": "7a241056",
   "metadata": {},
   "outputs": [
    {
     "data": {
      "text/plain": [
       "PCA()"
      ]
     },
     "execution_count": 66,
     "metadata": {},
     "output_type": "execute_result"
    }
   ],
   "source": [
    "#Call fit method on the scaled data to do all the PCA math (i.e. calculate loading scores\n",
    "# and the variation of the data each principal component accounts for)\n",
    "\n",
    "pca.fit(scaled_data)"
   ]
  },
  {
   "cell_type": "code",
   "execution_count": 67,
   "id": "ce6f9316",
   "metadata": {},
   "outputs": [],
   "source": [
    "#Generate coordinates for a PCA graph based on the loading scores and\n",
    "# the scaled data\n",
    "\n",
    "#pca.transform() creates the coordinates for the points on the PCA plot\n",
    "\n",
    "pca_data = pca.transform(scaled_data)"
   ]
  },
  {
   "cell_type": "markdown",
   "id": "4b531877",
   "metadata": {},
   "source": [
    "# Step 3: Generate Scree Plot"
   ]
  },
  {
   "cell_type": "code",
   "execution_count": 59,
   "id": "463f48af",
   "metadata": {},
   "outputs": [],
   "source": [
    "#Draw a Scree Plot - to see how many principal components\n",
    "# should go into the final plot\n",
    "\n"
   ]
  },
  {
   "cell_type": "code",
   "execution_count": 68,
   "id": "407e7231",
   "metadata": {},
   "outputs": [],
   "source": [
    "#First, we calculate the percentage of variation that each principal \n",
    "# component accounts for\n",
    "\n",
    "per_var= np.round(pca.explained_variance_ratio_*100, decimals = 1)"
   ]
  },
  {
   "cell_type": "code",
   "execution_count": 69,
   "id": "c79482e1",
   "metadata": {},
   "outputs": [],
   "source": [
    "#Create labels for the Scree Plot. \n",
    "#These are \"PC1\", \"PC2\" etc (one label per principal component)\n",
    "\n",
    "labels = ['PC' + str(x) for x in range(1, len(per_var)+1)]"
   ]
  },
  {
   "cell_type": "code",
   "execution_count": 70,
   "id": "dedde7b1",
   "metadata": {},
   "outputs": [
    {
     "data": {
      "image/png": "[encoded data removed]",
      "text/plain": [
       "<Figure size 640x480 with 1 Axes>"
      ]
     },
     "metadata": {},
     "output_type": "display_data"
    }
   ],
   "source": [
    "#Use matplotlib to create a bar plot\n",
    "\n",
    "plt.bar(x=range(1,len(per_var)+1), height = per_var, tick_label=labels)\n",
    "plt.ylabel('Percentage of Explained Variance')\n",
    "plt.xlabel('Principal Component')\n",
    "plt.title('Scree Plot')\n",
    "plt.show()"
   ]
  },
  {
   "cell_type": "code",
   "execution_count": null,
   "id": "c7189b00",
   "metadata": {},
   "outputs": [],
   "source": [
    "#We see that almost all of the variation (in the original data)\n",
    "# is along the first PC, so a 2-D graph, using PC1 and PC2\n",
    "# should do a good job representing the original data"
   ]
  },
  {
   "cell_type": "markdown",
   "id": "20465527",
   "metadata": {},
   "source": [
    "# Step 4: Draw a PCA Plot"
   ]
  },
  {
   "cell_type": "code",
   "execution_count": null,
   "id": "0bd4cad2",
   "metadata": {},
   "outputs": [],
   "source": [
    "#Put the new coordinates, created by pca.transform(scaled.data)\n",
    "#into a matrix where the rows have feature/sample labels and the columns have principal components (PC) labels"
   ]
  },
  {
   "cell_type": "code",
   "execution_count": 71,
   "id": "7584e96c",
   "metadata": {},
   "outputs": [],
   "source": [
    "\n",
    "\n",
    "pca_df = pd.DataFrame(pca_data, index=[*wt, *ko], columns=labels)"
   ]
  },
  {
   "cell_type": "code",
   "execution_count": 72,
   "id": "082f9f20",
   "metadata": {},
   "outputs": [
    {
     "data": {
      "text/html": [
       "<div>\n",
       "<style scoped>\n",
       "    .dataframe tbody tr th:only-of-type {\n",
       "        vertical-align: middle;\n",
       "    }\n",
       "\n",
       "    .dataframe tbody tr th {\n",
       "        vertical-align: top;\n",
       "    }\n",
       "\n",
       "    .dataframe thead th {\n",
       "        text-align: right;\n",
       "    }\n",
       "</style>\n",
       "<table border=\"1\" class=\"dataframe\">\n",
       "  <thead>\n",
       "    <tr style=\"text-align: right;\">\n",
       "      <th></th>\n",
       "      <th>PC1</th>\n",
       "      <th>PC2</th>\n",
       "      <th>PC3</th>\n",
       "      <th>PC4</th>\n",
       "      <th>PC5</th>\n",
       "      <th>PC6</th>\n",
       "      <th>PC7</th>\n",
       "      <th>PC8</th>\n",
       "      <th>PC9</th>\n",
       "      <th>PC10</th>\n",
       "    </tr>\n",
       "  </thead>\n",
       "  <tbody>\n",
       "    <tr>\n",
       "      <th>wt1</th>\n",
       "      <td>-9.441448</td>\n",
       "      <td>1.276285</td>\n",
       "      <td>1.966036</td>\n",
       "      <td>-0.684507</td>\n",
       "      <td>-0.896569</td>\n",
       "      <td>-0.310531</td>\n",
       "      <td>-0.302483</td>\n",
       "      <td>-0.634466</td>\n",
       "      <td>1.073004</td>\n",
       "      <td>2.928213e-15</td>\n",
       "    </tr>\n",
       "    <tr>\n",
       "      <th>wt2</th>\n",
       "      <td>-9.497603</td>\n",
       "      <td>-2.191329</td>\n",
       "      <td>-1.458429</td>\n",
       "      <td>0.501043</td>\n",
       "      <td>1.154208</td>\n",
       "      <td>-0.671027</td>\n",
       "      <td>-1.374074</td>\n",
       "      <td>-0.661907</td>\n",
       "      <td>-0.093724</td>\n",
       "      <td>1.977585e-15</td>\n",
       "    </tr>\n",
       "    <tr>\n",
       "      <th>wt3</th>\n",
       "      <td>-9.244060</td>\n",
       "      <td>4.116804</td>\n",
       "      <td>-0.479725</td>\n",
       "      <td>0.138599</td>\n",
       "      <td>0.549893</td>\n",
       "      <td>0.194683</td>\n",
       "      <td>-0.231197</td>\n",
       "      <td>0.297181</td>\n",
       "      <td>-0.713450</td>\n",
       "      <td>-1.387779e-16</td>\n",
       "    </tr>\n",
       "    <tr>\n",
       "      <th>wt4</th>\n",
       "      <td>-9.405356</td>\n",
       "      <td>-1.005580</td>\n",
       "      <td>-0.742419</td>\n",
       "      <td>1.424632</td>\n",
       "      <td>0.415537</td>\n",
       "      <td>-0.409914</td>\n",
       "      <td>1.384692</td>\n",
       "      <td>1.085988</td>\n",
       "      <td>0.536093</td>\n",
       "      <td>1.804112e-15</td>\n",
       "    </tr>\n",
       "    <tr>\n",
       "      <th>wt5</th>\n",
       "      <td>-9.615678</td>\n",
       "      <td>-2.130780</td>\n",
       "      <td>0.763280</td>\n",
       "      <td>-1.218892</td>\n",
       "      <td>-1.265180</td>\n",
       "      <td>1.149156</td>\n",
       "      <td>0.511649</td>\n",
       "      <td>-0.087057</td>\n",
       "      <td>-0.821737</td>\n",
       "      <td>1.929013e-15</td>\n",
       "    </tr>\n",
       "    <tr>\n",
       "      <th>ko1</th>\n",
       "      <td>9.431308</td>\n",
       "      <td>0.390176</td>\n",
       "      <td>-2.262358</td>\n",
       "      <td>-1.360014</td>\n",
       "      <td>-1.339914</td>\n",
       "      <td>-1.681119</td>\n",
       "      <td>0.305923</td>\n",
       "      <td>-0.078162</td>\n",
       "      <td>-0.113982</td>\n",
       "      <td>-2.053913e-15</td>\n",
       "    </tr>\n",
       "    <tr>\n",
       "      <th>ko2</th>\n",
       "      <td>8.929192</td>\n",
       "      <td>-0.459109</td>\n",
       "      <td>0.367703</td>\n",
       "      <td>-2.361517</td>\n",
       "      <td>0.906129</td>\n",
       "      <td>0.751826</td>\n",
       "      <td>-0.823576</td>\n",
       "      <td>1.083794</td>\n",
       "      <td>0.343798</td>\n",
       "      <td>1.304512e-15</td>\n",
       "    </tr>\n",
       "    <tr>\n",
       "      <th>ko3</th>\n",
       "      <td>9.279045</td>\n",
       "      <td>0.503878</td>\n",
       "      <td>-1.809537</td>\n",
       "      <td>0.860360</td>\n",
       "      <td>0.160272</td>\n",
       "      <td>1.894493</td>\n",
       "      <td>0.518628</td>\n",
       "      <td>-0.863394</td>\n",
       "      <td>0.404473</td>\n",
       "      <td>-1.457168e-15</td>\n",
       "    </tr>\n",
       "    <tr>\n",
       "      <th>ko4</th>\n",
       "      <td>10.055206</td>\n",
       "      <td>-0.276785</td>\n",
       "      <td>1.312090</td>\n",
       "      <td>2.762024</td>\n",
       "      <td>-1.134379</td>\n",
       "      <td>-0.041129</td>\n",
       "      <td>-0.995116</td>\n",
       "      <td>0.492279</td>\n",
       "      <td>-0.217469</td>\n",
       "      <td>8.500145e-16</td>\n",
       "    </tr>\n",
       "    <tr>\n",
       "      <th>ko5</th>\n",
       "      <td>9.509394</td>\n",
       "      <td>-0.223559</td>\n",
       "      <td>2.343360</td>\n",
       "      <td>-0.061729</td>\n",
       "      <td>1.450002</td>\n",
       "      <td>-0.876438</td>\n",
       "      <td>1.005555</td>\n",
       "      <td>-0.634256</td>\n",
       "      <td>-0.397007</td>\n",
       "      <td>-2.997602e-15</td>\n",
       "    </tr>\n",
       "  </tbody>\n",
       "</table>\n",
       "</div>"
      ],
      "text/plain": [
       "           PC1       PC2       PC3       PC4       PC5       PC6       PC7  \\\n",
       "wt1  -9.441448  1.276285  1.966036 -0.684507 -0.896569 -0.310531 -0.302483   \n",
       "wt2  -9.497603 -2.191329 -1.458429  0.501043  1.154208 -0.671027 -1.374074   \n",
       "wt3  -9.244060  4.116804 -0.479725  0.138599  0.549893  0.194683 -0.231197   \n",
       "wt4  -9.405356 -1.005580 -0.742419  1.424632  0.415537 -0.409914  1.384692   \n",
       "wt5  -9.615678 -2.130780  0.763280 -1.218892 -1.265180  1.149156  0.511649   \n",
       "ko1   9.431308  0.390176 -2.262358 -1.360014 -1.339914 -1.681119  0.305923   \n",
       "ko2   8.929192 -0.459109  0.367703 -2.361517  0.906129  0.751826 -0.823576   \n",
       "ko3   9.279045  0.503878 -1.809537  0.860360  0.160272  1.894493  0.518628   \n",
       "ko4  10.055206 -0.276785  1.312090  2.762024 -1.134379 -0.041129 -0.995116   \n",
       "ko5   9.509394 -0.223559  2.343360 -0.061729  1.450002 -0.876438  1.005555   \n",
       "\n",
       "          PC8       PC9          PC10  \n",
       "wt1 -0.634466  1.073004  2.928213e-15  \n",
       "wt2 -0.661907 -0.093724  1.977585e-15  \n",
       "wt3  0.297181 -0.713450 -1.387779e-16  \n",
       "wt4  1.085988  0.536093  1.804112e-15  \n",
       "wt5 -0.087057 -0.821737  1.929013e-15  \n",
       "ko1 -0.078162 -0.113982 -2.053913e-15  \n",
       "ko2  1.083794  0.343798  1.304512e-15  \n",
       "ko3 -0.863394  0.404473 -1.457168e-15  \n",
       "ko4  0.492279 -0.217469  8.500145e-16  \n",
       "ko5 -0.634256 -0.397007 -2.997602e-15  "
      ]
     },
     "execution_count": 72,
     "metadata": {},
     "output_type": "execute_result"
    }
   ],
   "source": [
    "pca_df"
   ]
  },
  {
   "cell_type": "code",
   "execution_count": null,
   "id": "a3994e08",
   "metadata": {},
   "outputs": [],
   "source": [
    "#Note that, because we transposed our data, we now have the correct setup in rows and columns"
   ]
  },
  {
   "cell_type": "code",
   "execution_count": 73,
   "id": "348d0d31",
   "metadata": {},
   "outputs": [
    {
     "data": {
      "image/png": "[encoded data removed]",
      "text/plain": [
       "<Figure size 640x480 with 1 Axes>"
      ]
     },
     "metadata": {},
     "output_type": "display_data"
    }
   ],
   "source": [
    "#Draw scatter plot with a title and axis labels for pca_df data\n",
    "\n",
    "plt.scatter(pca_df.PC1, pca_df.PC2) #PC1 and PC2 are selected since we agreed they explain most variation in the data\n",
    "plt.title('My PCA Graph')\n",
    "plt.xlabel('PC1 - {0}%'.format(per_var[0]))\n",
    "plt.ylabel('PC2 - {0}%'.format(per_var[1]))\n",
    "\n",
    "#add text to (i.e. annotate) the scatter points\n",
    "\n",
    "# the loop below annotates the (points) on the PCA graph\n",
    "\n",
    "for sample in pca_df.index:\n",
    "    plt.annotate(sample, (pca_df.PC1.loc[sample], pca_df.PC2.loc[sample]))\n",
    "    \n",
    "plt.show()#displays the PCA graph"
   ]
  },
  {
   "cell_type": "code",
   "execution_count": null,
   "id": "8b0b24ed",
   "metadata": {},
   "outputs": [],
   "source": [
    "#NOTE the following insights:\n",
    "\n",
    "#1. The ko features cluster in the left hand corner - meaning they correlate with each other\n",
    "\n",
    "#2. The wt features cluster in the right hand corner - meaning they correlate with each other\n",
    "\n",
    "#3. The gap/separation of the two clusters along the x-axis/ PC1 - axis suggests that the ko features are\n",
    "# very different from the wt features\n"
   ]
  },
  {
   "cell_type": "markdown",
   "id": "b06307d2",
   "metadata": {},
   "source": [
    "# Step 4.1: Examine Loading Scores"
   ]
  },
  {
   "cell_type": "code",
   "execution_count": null,
   "id": "9a132af7",
   "metadata": {},
   "outputs": [],
   "source": [
    "#Lastly lets look at the loading scores for PC1 to determine which original variables/features (i.e. genes)\n",
    "# had the largest influence on separating the two clusters along the x-axis\n"
   ]
  },
  {
   "cell_type": "code",
   "execution_count": null,
   "id": "2b6a6cce",
   "metadata": {},
   "outputs": [],
   "source": [
    "#First, create a Pandas \"Series\" object with the loading scores in PC1\n",
    "#Note that the principal components are zero-indexed, so PC1 = 0\n",
    "\n",
    "loading_scores = pd.Series(pca.components_[0], index=genes)"
   ]
  },
  {
   "cell_type": "code",
   "execution_count": null,
   "id": "639e41c1",
   "metadata": {},
   "outputs": [],
   "source": [
    "#Second, we sort the loading scores based on their magnitude (absolute values)\n",
    "\n",
    "sorted_loading_scores = loading_scores.abs().sort_values(ascending =False)"
   ]
  },
  {
   "cell_type": "code",
   "execution_count": null,
   "id": "ec5328f0",
   "metadata": {},
   "outputs": [],
   "source": [
    "#Third, retrieve the names of the top 10 indexes/rows/gene names\n",
    "\n",
    "top_10_genes = sorted_loading_scores[0:10].index.values"
   ]
  },
  {
   "cell_type": "code",
   "execution_count": null,
   "id": "524f5c89",
   "metadata": {},
   "outputs": [],
   "source": [
    "#lastly, print the top gene names and their corresponding\n",
    "# loading scores\n",
    "\n",
    "print(loading_scores[top_10_genes])"
   ]
  },
  {
   "cell_type": "code",
   "execution_count": null,
   "id": "6c47f99f",
   "metadata": {},
   "outputs": [],
   "source": [
    "# We see that the values above are super similar, so a lot of genes played \n",
    "# a role in separating the features/samples/rather than just one or two"
   ]
  },
  {
   "cell_type": "code",
   "execution_count": null,
   "id": "175a3534",
   "metadata": {},
   "outputs": [],
   "source": []
  },
  {
   "cell_type": "code",
   "execution_count": null,
   "id": "d215fac8",
   "metadata": {},
   "outputs": [],
   "source": []
  },
  {
   "cell_type": "markdown",
   "id": "acb28488",
   "metadata": {},
   "source": [
    "# PCA with non-Simulated Data"
   ]
  },
  {
   "cell_type": "code",
   "execution_count": null,
   "id": "79253b63",
   "metadata": {},
   "outputs": [],
   "source": []
  },
  {
   "cell_type": "markdown",
   "id": "a317ae09",
   "metadata": {},
   "source": [
    "# Application 1: Using PCA for Data Vizualization (of the Iris Dataset)"
   ]
  },
  {
   "cell_type": "code",
   "execution_count": null,
   "id": "2fd77cd4",
   "metadata": {},
   "outputs": [],
   "source": [
    "#For many ML applications, it always helps to visualize \n",
    "# your data\n",
    "\n",
    "#Visualizing 2 or 3 dimensional data is not challenging but visualizing 4 or more dimensional data at once is impossible\n",
    "\n",
    "#The Iris dataset used here has 4 features (or is 4-dimensional)\n",
    "#You can use PCA to reduce that 4-dimensional data into 2 or 3 dimensions\n",
    "# so you can plot and hopefully understand the data better"
   ]
  },
  {
   "cell_type": "code",
   "execution_count": 74,
   "id": "19cce8e0",
   "metadata": {},
   "outputs": [],
   "source": [
    "#Load Iris dataset\n",
    "\n",
    "import pandas as pd\n",
    "\n",
    "import matplotlib as plt\n",
    "\n",
    "url = \"https://archive.ics.uci.edu/ml/machine-learning-databases/iris/iris.data\" #Obtaining data from the UCI ML Repository\n",
    "\n",
    "#load dataset into Pandas DataFrame\n",
    "\n",
    "df = pd.read_csv(url, names = ['sepal length', 'sepal width', 'petal length', 'petal width', 'target'])\n"
   ]
  },
  {
   "cell_type": "code",
   "execution_count": 75,
   "id": "d9a95313",
   "metadata": {},
   "outputs": [
    {
     "data": {
      "text/html": [
       "<div>\n",
       "<style scoped>\n",
       "    .dataframe tbody tr th:only-of-type {\n",
       "        vertical-align: middle;\n",
       "    }\n",
       "\n",
       "    .dataframe tbody tr th {\n",
       "        vertical-align: top;\n",
       "    }\n",
       "\n",
       "    .dataframe thead th {\n",
       "        text-align: right;\n",
       "    }\n",
       "</style>\n",
       "<table border=\"1\" class=\"dataframe\">\n",
       "  <thead>\n",
       "    <tr style=\"text-align: right;\">\n",
       "      <th></th>\n",
       "      <th>sepal length</th>\n",
       "      <th>sepal width</th>\n",
       "      <th>petal length</th>\n",
       "      <th>petal width</th>\n",
       "      <th>target</th>\n",
       "    </tr>\n",
       "  </thead>\n",
       "  <tbody>\n",
       "    <tr>\n",
       "      <th>0</th>\n",
       "      <td>5.1</td>\n",
       "      <td>3.5</td>\n",
       "      <td>1.4</td>\n",
       "      <td>0.2</td>\n",
       "      <td>Iris-setosa</td>\n",
       "    </tr>\n",
       "    <tr>\n",
       "      <th>1</th>\n",
       "      <td>4.9</td>\n",
       "      <td>3.0</td>\n",
       "      <td>1.4</td>\n",
       "      <td>0.2</td>\n",
       "      <td>Iris-setosa</td>\n",
       "    </tr>\n",
       "    <tr>\n",
       "      <th>2</th>\n",
       "      <td>4.7</td>\n",
       "      <td>3.2</td>\n",
       "      <td>1.3</td>\n",
       "      <td>0.2</td>\n",
       "      <td>Iris-setosa</td>\n",
       "    </tr>\n",
       "    <tr>\n",
       "      <th>3</th>\n",
       "      <td>4.6</td>\n",
       "      <td>3.1</td>\n",
       "      <td>1.5</td>\n",
       "      <td>0.2</td>\n",
       "      <td>Iris-setosa</td>\n",
       "    </tr>\n",
       "    <tr>\n",
       "      <th>4</th>\n",
       "      <td>5.0</td>\n",
       "      <td>3.6</td>\n",
       "      <td>1.4</td>\n",
       "      <td>0.2</td>\n",
       "      <td>Iris-setosa</td>\n",
       "    </tr>\n",
       "    <tr>\n",
       "      <th>...</th>\n",
       "      <td>...</td>\n",
       "      <td>...</td>\n",
       "      <td>...</td>\n",
       "      <td>...</td>\n",
       "      <td>...</td>\n",
       "    </tr>\n",
       "    <tr>\n",
       "      <th>145</th>\n",
       "      <td>6.7</td>\n",
       "      <td>3.0</td>\n",
       "      <td>5.2</td>\n",
       "      <td>2.3</td>\n",
       "      <td>Iris-virginica</td>\n",
       "    </tr>\n",
       "    <tr>\n",
       "      <th>146</th>\n",
       "      <td>6.3</td>\n",
       "      <td>2.5</td>\n",
       "      <td>5.0</td>\n",
       "      <td>1.9</td>\n",
       "      <td>Iris-virginica</td>\n",
       "    </tr>\n",
       "    <tr>\n",
       "      <th>147</th>\n",
       "      <td>6.5</td>\n",
       "      <td>3.0</td>\n",
       "      <td>5.2</td>\n",
       "      <td>2.0</td>\n",
       "      <td>Iris-virginica</td>\n",
       "    </tr>\n",
       "    <tr>\n",
       "      <th>148</th>\n",
       "      <td>6.2</td>\n",
       "      <td>3.4</td>\n",
       "      <td>5.4</td>\n",
       "      <td>2.3</td>\n",
       "      <td>Iris-virginica</td>\n",
       "    </tr>\n",
       "    <tr>\n",
       "      <th>149</th>\n",
       "      <td>5.9</td>\n",
       "      <td>3.0</td>\n",
       "      <td>5.1</td>\n",
       "      <td>1.8</td>\n",
       "      <td>Iris-virginica</td>\n",
       "    </tr>\n",
       "  </tbody>\n",
       "</table>\n",
       "<p>150 rows × 5 columns</p>\n",
       "</div>"
      ],
      "text/plain": [
       "     sepal length  sepal width  petal length  petal width          target\n",
       "0             5.1          3.5           1.4          0.2     Iris-setosa\n",
       "1             4.9          3.0           1.4          0.2     Iris-setosa\n",
       "2             4.7          3.2           1.3          0.2     Iris-setosa\n",
       "3             4.6          3.1           1.5          0.2     Iris-setosa\n",
       "4             5.0          3.6           1.4          0.2     Iris-setosa\n",
       "..            ...          ...           ...          ...             ...\n",
       "145           6.7          3.0           5.2          2.3  Iris-virginica\n",
       "146           6.3          2.5           5.0          1.9  Iris-virginica\n",
       "147           6.5          3.0           5.2          2.0  Iris-virginica\n",
       "148           6.2          3.4           5.4          2.3  Iris-virginica\n",
       "149           5.9          3.0           5.1          1.8  Iris-virginica\n",
       "\n",
       "[150 rows x 5 columns]"
      ]
     },
     "execution_count": 75,
     "metadata": {},
     "output_type": "execute_result"
    }
   ],
   "source": [
    "df"
   ]
  },
  {
   "cell_type": "code",
   "execution_count": null,
   "id": "67135f67",
   "metadata": {},
   "outputs": [],
   "source": [
    "#Notice the data is 4-dimensional: there are 4 features and 1 target variable\n",
    "\n",
    "#2-dimensional data can be visualized at once with a scatterplot.\n",
    "\n",
    "#Its hard to visualize 4-dimensional data. So we use PCA to \n",
    "#reduce our 4-dimensional data into 2-dimensions so we can\n",
    "#plot and use our data in other ML algorithms"
   ]
  },
  {
   "cell_type": "code",
   "execution_count": 76,
   "id": "e335c8da",
   "metadata": {},
   "outputs": [
    {
     "data": {
      "text/plain": [
       "<AxesSubplot:xlabel='sepal length', ylabel='sepal width'>"
      ]
     },
     "execution_count": 76,
     "metadata": {},
     "output_type": "execute_result"
    },
    {
     "data": {
      "image/png": "[encoded data removed]",
      "text/plain": [
       "<Figure size 640x480 with 1 Axes>"
      ]
     },
     "metadata": {},
     "output_type": "display_data"
    }
   ],
   "source": [
    "#How to visualize 2-Dimensional data at once using a scatterplot in Python (using Seaborn)\n",
    "\n",
    "import seaborn as sns\n",
    "\n",
    "sns.scatterplot(x = 'sepal length', y='sepal width', data = df)"
   ]
  },
  {
   "cell_type": "code",
   "execution_count": null,
   "id": "8d2a0c57",
   "metadata": {},
   "outputs": [],
   "source": [
    "#Step 1: import packages and isolate required features from dataset\n",
    "\n",
    "from sklearn.preprocessing import StandardScaler\n",
    "\n",
    "features = ['sepal length', 'sepal width', 'petal length', 'petal width']"
   ]
  },
  {
   "cell_type": "code",
   "execution_count": null,
   "id": "4255f648",
   "metadata": {},
   "outputs": [],
   "source": [
    "#Separating out the features\n",
    "\n",
    "x = df.loc[:, features].values"
   ]
  },
  {
   "cell_type": "code",
   "execution_count": null,
   "id": "e471d63f",
   "metadata": {},
   "outputs": [],
   "source": [
    "#Separating out the target\n",
    "\n",
    "y = df.loc[:, 'target'].values"
   ]
  },
  {
   "cell_type": "code",
   "execution_count": null,
   "id": "777ad76f",
   "metadata": {},
   "outputs": [],
   "source": [
    "#Step 2: Standardize/scale the values in each feature\n",
    "#Using StandardScaler() to standardize the values produces features\n",
    "# with mean = 0 and variance = 1, which helps optimal performance of \n",
    "#many ML algorithms"
   ]
  },
  {
   "cell_type": "code",
   "execution_count": null,
   "id": "b0d17218",
   "metadata": {},
   "outputs": [],
   "source": [
    "#Standardize the features\n",
    "\n",
    "#Note that it is customary to standardize the features and not the target\n",
    "\n",
    "x=StandardScaler().fit_transform(x)"
   ]
  },
  {
   "cell_type": "code",
   "execution_count": null,
   "id": "f7cd34b2",
   "metadata": {},
   "outputs": [],
   "source": [
    "#Step 3: Do a PCA Projection from 4D to 2D\n",
    "\n",
    "#The code below projects the original data from 4-dimensions to 2-dimensions"
   ]
  },
  {
   "cell_type": "code",
   "execution_count": null,
   "id": "3cbbb793",
   "metadata": {},
   "outputs": [],
   "source": [
    "from sklearn.decomposition import PCA\n",
    "\n",
    "#n_components = 2 specifies that you want to project to 2 -dimensions\n",
    "# i.e. you want to keep the top 2 principal components\n",
    "\n",
    "pca = PCA(n_components = 2)"
   ]
  },
  {
   "cell_type": "code",
   "execution_count": null,
   "id": "7d8c50a0",
   "metadata": {},
   "outputs": [],
   "source": [
    "#Fit and transform on x to extract principal components (PC1 and PC2)\n",
    "\n",
    "principalComponents = pca.fit_transform(x)"
   ]
  },
  {
   "cell_type": "code",
   "execution_count": null,
   "id": "2079ce9e",
   "metadata": {},
   "outputs": [],
   "source": [
    "#Place principal components in a data frame\n",
    "\n",
    "principalDf = pd.DataFrame(data = principalComponents,\n",
    "                        columns = ['principal component 1', 'principal component 2'])"
   ]
  },
  {
   "cell_type": "code",
   "execution_count": null,
   "id": "9a23c319",
   "metadata": {},
   "outputs": [],
   "source": [
    "#Concatenate principal components with target variable\n",
    "\n",
    "finalDf = pd.concat([principalDf, df['target']], axis = 1)"
   ]
  },
  {
   "cell_type": "code",
   "execution_count": null,
   "id": "3b6f7173",
   "metadata": {},
   "outputs": [],
   "source": [
    "finalDf"
   ]
  },
  {
   "cell_type": "code",
   "execution_count": null,
   "id": "dc5c10e7",
   "metadata": {},
   "outputs": [],
   "source": [
    "#Step 4: Visualize 2D Projection of original 4D data"
   ]
  },
  {
   "cell_type": "code",
   "execution_count": null,
   "id": "25c2c7e9",
   "metadata": {},
   "outputs": [],
   "source": [
    "import seaborn as sns\n",
    "\n",
    "sns.scatterplot(x = 'principal component 1', y = 'principal component 2', data = finalDf, hue = 'target')"
   ]
  },
  {
   "cell_type": "code",
   "execution_count": null,
   "id": "e39a7f11",
   "metadata": {},
   "outputs": [],
   "source": []
  },
  {
   "cell_type": "markdown",
   "id": "e65d1a11",
   "metadata": {},
   "source": [
    "# Application 2: Using PCA to Speed Up an ML Algorithm"
   ]
  },
  {
   "cell_type": "markdown",
   "id": "1fee8c75",
   "metadata": {},
   "source": [
    "# PCA + Logistic Regression using MNIST Dataset"
   ]
  },
  {
   "cell_type": "code",
   "execution_count": null,
   "id": "24781de1",
   "metadata": {},
   "outputs": [],
   "source": [
    "#One very important applications of PCA is for speeding up\n",
    "#ML algorithms\n",
    "\n",
    "#While you can speed up the fitting of a ML algorithm by changing the\n",
    "# optimization algorithm, PCA has become very popular for this goal\n",
    "\n",
    "#If your ML algorithm is too slow because the input dimension is too high\n",
    "#then using PCA to speed it up can be a resonable choice\n",
    "\n",
    "#Ingest data - > scale data - > apply PCA - > fit ML model by applying ML algorithm to PCA-transformed data\n",
    "\n",
    "#The MINST dataset is a large one that allows us demonstrate\n",
    "#how PCA can help speed up an ML algorithm (in this case Logistic Regression)"
   ]
  },
  {
   "cell_type": "code",
   "execution_count": null,
   "id": "a0e1e56a",
   "metadata": {},
   "outputs": [],
   "source": [
    "from sklearn.datasets import fetch_openml\n",
    "from sklearn.decomposition import PCA\n",
    "from sklearn.preprocessing import StandardScaler\n",
    "from sklearn import metrics\n",
    "from sklearn.model_selection import train_test_split\n",
    "\n",
    "\n",
    "\n",
    "mnist = fetch_openml('mnist_784')\n",
    "x, y = mnist['data'], mnist['target']\n",
    "digit = x[36001]"
   ]
  },
  {
   "cell_type": "code",
   "execution_count": null,
   "id": "95e88255",
   "metadata": {},
   "outputs": [],
   "source": [
    "#Display the dimensions of the MNIST dataset\n",
    "\n",
    "mnist.data.shape"
   ]
  },
  {
   "cell_type": "code",
   "execution_count": null,
   "id": "1bcaf7f7",
   "metadata": {},
   "outputs": [],
   "source": [
    "#MNIST has 70,000 observations and 784 features/columns\n",
    "# It also has a training set 60,000 examples and a test set of 10,000\n",
    "#examples\n",
    "\n",
    "#Can you plot 784 features all at once like you would 2 features at once?\n",
    "\n",
    "#The features are images and the target values are labels"
   ]
  },
  {
   "cell_type": "code",
   "execution_count": null,
   "id": "d3d6e90e",
   "metadata": {},
   "outputs": [],
   "source": [
    "train_img, test_img, train_lbl, test_lbl = train_test_split(mnist.data, mnist.target, test_size = 1/7.0, random_state = 0)"
   ]
  },
  {
   "cell_type": "code",
   "execution_count": null,
   "id": "cdba5003",
   "metadata": {},
   "outputs": [],
   "source": [
    "print(train_img.shape)"
   ]
  },
  {
   "cell_type": "code",
   "execution_count": null,
   "id": "738608cb",
   "metadata": {},
   "outputs": [],
   "source": [
    "print(test_img.shape)"
   ]
  },
  {
   "cell_type": "code",
   "execution_count": null,
   "id": "e4b7fb03",
   "metadata": {},
   "outputs": [],
   "source": [
    "#Standardize the data\n",
    "\n",
    "#You can standardise the data to have mean = 0 and variance = 1\n",
    "#This is a requirement for the optimal performance of many ML algorithms\n",
    "\n",
    "#StandardScaler (from sklearn.preprocessing) helps standardize the dataset features\n",
    "\n",
    "#Note that you fit on the training set and transform on the training and test set\n",
    "\n",
    "\n",
    "\n"
   ]
  },
  {
   "cell_type": "code",
   "execution_count": null,
   "id": "373db043",
   "metadata": {},
   "outputs": [],
   "source": [
    "from sklearn.preprocessing import StandardScaler\n",
    "scaler = StandardScaler()"
   ]
  },
  {
   "cell_type": "code",
   "execution_count": null,
   "id": "8fb37a1b",
   "metadata": {},
   "outputs": [],
   "source": [
    "#Fit on training set only\n",
    "scaler.fit(train_img)"
   ]
  },
  {
   "cell_type": "code",
   "execution_count": null,
   "id": "b6a66f44",
   "metadata": {},
   "outputs": [],
   "source": [
    "#Apply transform to both the training set and the test set\n",
    "\n",
    "train_img = scaler.transform(train_img)\n",
    "test_img = scaler.transform(test_img)"
   ]
  },
  {
   "cell_type": "code",
   "execution_count": null,
   "id": "61f543a1",
   "metadata": {},
   "outputs": [],
   "source": [
    "#Import and Apply PCA\n",
    "\n",
    "#Notice the code below has .95 for the number of components parameter\n",
    "#It means that scikit-learn will choose the minimum number\n",
    "# of principal components such that 95% of the variance is retained\n",
    "\n"
   ]
  },
  {
   "cell_type": "code",
   "execution_count": null,
   "id": "d4f03516",
   "metadata": {},
   "outputs": [],
   "source": [
    "from sklearn.decomposition import PCA\n",
    "\n",
    "#make an instance of PCA\n",
    "\n",
    "pca = PCA(.95)"
   ]
  },
  {
   "cell_type": "code",
   "execution_count": null,
   "id": "dad917f0",
   "metadata": {},
   "outputs": [],
   "source": []
  },
  {
   "cell_type": "code",
   "execution_count": null,
   "id": "0c8bd9ac",
   "metadata": {},
   "outputs": [],
   "source": [
    "#Fit PCA on training set\n",
    "#NOTE: You are fitting PCA on the training set only\n",
    "\n",
    "#Here you tell sklearn to choose the minimum number of\n",
    "#components such that 95% of the variance in the data is retained\n",
    "\n",
    "pca.fit(train_img)"
   ]
  },
  {
   "cell_type": "code",
   "execution_count": null,
   "id": "c6661b65",
   "metadata": {},
   "outputs": [],
   "source": [
    "#Retained variance is a criteria that can be used to choose the appropriate number of principle components. \n",
    "#The higher the value, the better the performance\n",
    "\n",
    "#It represents how much of the information was retained after PCA. The higher the value, the more information retained\n",
    "\n",
    "#Some criteria say that the total variance explained by all components should be between 70% to 80% variance"
   ]
  },
  {
   "cell_type": "code",
   "execution_count": null,
   "id": "b065b501",
   "metadata": {},
   "outputs": [],
   "source": [
    "#Check what the minimum is currently\n",
    "\n",
    "pca.n_components_"
   ]
  },
  {
   "cell_type": "code",
   "execution_count": null,
   "id": "5ba27ad6",
   "metadata": {},
   "outputs": [],
   "source": [
    "#Apply mapping (transform) to both the training set and\n",
    "# test set\n",
    "\n",
    "train_img = pca.transform(train_img)\n",
    "test_img = pca.transform(test_img)"
   ]
  },
  {
   "cell_type": "code",
   "execution_count": null,
   "id": "b58e2daf",
   "metadata": {},
   "outputs": [],
   "source": [
    "#Apply Logistic Regression to the Transformed MNIST Data"
   ]
  },
  {
   "cell_type": "code",
   "execution_count": null,
   "id": "06faad17",
   "metadata": {},
   "outputs": [],
   "source": [
    "#Step 1: Import the model you want to use\n",
    "\n",
    "from sklearn.linear_model import LogisticRegression"
   ]
  },
  {
   "cell_type": "code",
   "execution_count": null,
   "id": "b7861dd9",
   "metadata": {},
   "outputs": [],
   "source": [
    "#Step 2: Make an instance of the Model\n",
    "\n",
    "#all parameters not specified are set to their defaults\n",
    "LogisticRegr = LogisticRegression(solver = 'lbfgs')\n",
    "\n"
   ]
  },
  {
   "cell_type": "code",
   "execution_count": null,
   "id": "00be6592",
   "metadata": {},
   "outputs": [],
   "source": [
    "#Step 3: Train the model on the data storing the information learned from the data\n",
    "\n",
    "#Model learns the relationship between x(digits) and y (labels)\n",
    "\n",
    "LogisticRegr.fit(train_img, train_lbl)"
   ]
  },
  {
   "cell_type": "code",
   "execution_count": null,
   "id": "5418b456",
   "metadata": {},
   "outputs": [],
   "source": [
    "#Step 4: Predict the labels of new data (new images)\n",
    "\n",
    "#Predict labels for one image (returns a NumPy array)\n",
    "\n",
    "LogisticRegr.predict(test_img[0].reshape(1,-1))\n"
   ]
  },
  {
   "cell_type": "code",
   "execution_count": null,
   "id": "c8dded3c",
   "metadata": {},
   "outputs": [],
   "source": [
    "#Step 4 (continued): Predict the labels for several images\n",
    "\n",
    "LogisticRegr.predict(test_img[0:10])"
   ]
  },
  {
   "cell_type": "code",
   "execution_count": null,
   "id": "3957a3ce",
   "metadata": {},
   "outputs": [],
   "source": [
    "#Step 5: Measure Model Performance\n",
    "\n",
    "#While accuracy is not always the best metric for ML algorithms\n",
    "#(precision, recall, F1 Score etc would be better), we use accuracy for simplicity\n",
    "\n",
    "LogisticRegr.score(test_img, test_lbl)"
   ]
  },
  {
   "cell_type": "code",
   "execution_count": null,
   "id": "f980ea3b",
   "metadata": {},
   "outputs": [],
   "source": []
  },
  {
   "cell_type": "code",
   "execution_count": null,
   "id": "e8ecdee1",
   "metadata": {},
   "outputs": [],
   "source": []
  },
  {
   "cell_type": "code",
   "execution_count": null,
   "id": "ffef9bb5",
   "metadata": {},
   "outputs": [],
   "source": []
  },
  {
   "cell_type": "code",
   "execution_count": null,
   "id": "95c6bdd4",
   "metadata": {},
   "outputs": [],
   "source": []
  },
  {
   "cell_type": "code",
   "execution_count": null,
   "id": "86f4b666",
   "metadata": {},
   "outputs": [],
   "source": []
  },
  {
   "cell_type": "code",
   "execution_count": null,
   "id": "86c02107",
   "metadata": {},
   "outputs": [],
   "source": []
  },
  {
   "cell_type": "code",
   "execution_count": null,
   "id": "4503f7d8",
   "metadata": {},
   "outputs": [],
   "source": []
  },
  {
   "cell_type": "code",
   "execution_count": null,
   "id": "188922f8",
   "metadata": {},
   "outputs": [],
   "source": []
  },
  {
   "cell_type": "code",
   "execution_count": null,
   "id": "42989134",
   "metadata": {},
   "outputs": [],
   "source": []
  },
  {
   "cell_type": "code",
   "execution_count": null,
   "id": "81a667f0",
   "metadata": {},
   "outputs": [],
   "source": []
  },
  {
   "cell_type": "code",
   "execution_count": null,
   "id": "c1fb988d",
   "metadata": {},
   "outputs": [],
   "source": []
  },
  {
   "cell_type": "code",
   "execution_count": null,
   "id": "faa83cc5",
   "metadata": {},
   "outputs": [],
   "source": []
  },
  {
   "cell_type": "code",
   "execution_count": null,
   "id": "babf7221",
   "metadata": {},
   "outputs": [],
   "source": []
  }
 ],
 "metadata": {
  "kernelspec": {
   "display_name": "Python 3 (ipykernel)",
   "language": "python",
   "name": "python3"
  },
  "language_info": {
   "codemirror_mode": {
    "name": "ipython",
    "version": 3
   },
   "file_extension": ".py",
   "mimetype": "text/x-python",
   "name": "python",
   "nbconvert_exporter": "python",
   "pygments_lexer": "ipython3",
   "version": "3.9.13"
  }
 },
 "nbformat": 4,
 "nbformat_minor": 5
}
