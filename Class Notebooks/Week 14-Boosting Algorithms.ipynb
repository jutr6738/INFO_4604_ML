{
 "cells": [
  {
   "cell_type": "code",
   "execution_count": null,
   "id": "ef146567",
   "metadata": {},
   "outputs": [],
   "source": []
  },
  {
   "cell_type": "code",
   "execution_count": null,
   "id": "2b8fd750",
   "metadata": {},
   "outputs": [],
   "source": [
    "#Pip install XGBoost, CatBoost, LightGBM"
   ]
  },
  {
   "cell_type": "code",
   "execution_count": null,
   "id": "23fec851",
   "metadata": {},
   "outputs": [],
   "source": [
    "!pip install xgboost"
   ]
  },
  {
   "cell_type": "code",
   "execution_count": null,
   "id": "7df47f2a",
   "metadata": {},
   "outputs": [],
   "source": [
    "!pip install catboost"
   ]
  },
  {
   "cell_type": "code",
   "execution_count": null,
   "id": "4747363f",
   "metadata": {},
   "outputs": [],
   "source": [
    "!pip install lightgbm"
   ]
  },
  {
   "cell_type": "markdown",
   "id": "d1782c40",
   "metadata": {},
   "source": [
    "# Example 1: XGBoost with Iris Dataset"
   ]
  },
  {
   "cell_type": "code",
   "execution_count": 18,
   "id": "288edf33",
   "metadata": {},
   "outputs": [
    {
     "data": {
      "text/html": [
       "<div>\n",
       "<style scoped>\n",
       "    .dataframe tbody tr th:only-of-type {\n",
       "        vertical-align: middle;\n",
       "    }\n",
       "\n",
       "    .dataframe tbody tr th {\n",
       "        vertical-align: top;\n",
       "    }\n",
       "\n",
       "    .dataframe thead th {\n",
       "        text-align: right;\n",
       "    }\n",
       "</style>\n",
       "<table border=\"1\" class=\"dataframe\">\n",
       "  <thead>\n",
       "    <tr style=\"text-align: right;\">\n",
       "      <th></th>\n",
       "      <th>sepal length (cm)</th>\n",
       "      <th>sepal width (cm)</th>\n",
       "      <th>petal length (cm)</th>\n",
       "      <th>petal width (cm)</th>\n",
       "      <th>target</th>\n",
       "    </tr>\n",
       "  </thead>\n",
       "  <tbody>\n",
       "    <tr>\n",
       "      <th>8</th>\n",
       "      <td>4.4</td>\n",
       "      <td>2.9</td>\n",
       "      <td>1.4</td>\n",
       "      <td>0.2</td>\n",
       "      <td>0</td>\n",
       "    </tr>\n",
       "    <tr>\n",
       "      <th>0</th>\n",
       "      <td>5.1</td>\n",
       "      <td>3.5</td>\n",
       "      <td>1.4</td>\n",
       "      <td>0.2</td>\n",
       "      <td>0</td>\n",
       "    </tr>\n",
       "  </tbody>\n",
       "</table>\n",
       "</div>"
      ],
      "text/plain": [
       "   sepal length (cm)  sepal width (cm)  petal length (cm)  petal width (cm)  \\\n",
       "8                4.4               2.9                1.4               0.2   \n",
       "0                5.1               3.5                1.4               0.2   \n",
       "\n",
       "   target  \n",
       "8       0  \n",
       "0       0  "
      ]
     },
     "execution_count": 18,
     "metadata": {},
     "output_type": "execute_result"
    }
   ],
   "source": [
    "\n",
    "# Imports\n",
    "from sklearn.datasets import load_iris\n",
    "from xgboost import XGBClassifier\n",
    "import pandas as pd\n",
    "import numpy as np\n",
    "\n",
    "# Load Data\n",
    "iris = load_iris()\n",
    "\n",
    "# Create a dataframe\n",
    "df = pd.DataFrame(iris.data, columns = iris.feature_names)\n",
    "df['target'] = iris.target\n",
    "\n",
    "# Let's see a sample of created df\n",
    "df.sample(frac=0.01)"
   ]
  },
  {
   "cell_type": "code",
   "execution_count": null,
   "id": "7525eaee",
   "metadata": {},
   "outputs": [],
   "source": []
  },
  {
   "cell_type": "code",
   "execution_count": 19,
   "id": "c208131f",
   "metadata": {},
   "outputs": [
    {
     "name": "stdout",
     "output_type": "stream",
     "text": [
      "['setosa' 'versicolor' 'virginica']\n",
      "Prediction is: ['setosa']\n"
     ]
    }
   ],
   "source": [
    "# Let's see target names\n",
    "targets = iris.target_names\n",
    "print(targets)\n",
    "['setosa' 'versicolor' 'virginica']\n",
    "# Prepare training data for building the model\n",
    "X_train = df.drop(['target'], axis=1).values\n",
    "y_train = df['target']\n",
    "\n",
    "# Instantiate the model\n",
    "cls = XGBClassifier()\n",
    "\n",
    "# Train/Fit the model \n",
    "cls.fit(X_train, y_train)\n",
    "\n",
    "# Make prediction using the model\n",
    "X_pred = [5.1, 3.2, 1.5, 0.5]\n",
    "y_pred = cls.predict([X_pred])\n",
    "\n",
    "print(\"Prediction is: {}\".format(targets[y_pred]))"
   ]
  },
  {
   "cell_type": "code",
   "execution_count": null,
   "id": "1077fbe9",
   "metadata": {},
   "outputs": [],
   "source": []
  },
  {
   "cell_type": "markdown",
   "id": "e2c3c867",
   "metadata": {},
   "source": [
    "# Example 2: Implementing Other Boosting Algorithms Using Synthetic Data"
   ]
  },
  {
   "cell_type": "code",
   "execution_count": null,
   "id": "9b81d118",
   "metadata": {},
   "outputs": [],
   "source": [
    "#1. Gradient Boosting"
   ]
  },
  {
   "cell_type": "code",
   "execution_count": 20,
   "id": "e8ddfd56",
   "metadata": {},
   "outputs": [
    {
     "name": "stdout",
     "output_type": "stream",
     "text": [
      "Gradient Boosting - R2:  0.866636749631108\n"
     ]
    }
   ],
   "source": [
    "from sklearn.ensemble import GradientBoostingRegressor\n",
    "from sklearn.datasets import make_regression\n",
    "from sklearn.model_selection import train_test_split\n",
    "from sklearn.metrics import r2_score #(coefficient of determination) regression score function\n",
    "\n",
    "X, y = make_regression(n_samples=100,n_features=10,n_informative=5,n_targets=1,random_state=42)\n",
    "X_train, X_test,y_train, y_test = train_test_split(X, y,test_size=0.2)\n",
    "gbr = GradientBoostingRegressor()\n",
    "gbr.fit(X_train, y_train)\n",
    "y_pred1 = gbr.predict(X_test)\n",
    "print(\"Gradient Boosting - R2: \",r2_score(y_test, y_pred1))\n"
   ]
  },
  {
   "cell_type": "code",
   "execution_count": null,
   "id": "fcbc4db8",
   "metadata": {},
   "outputs": [],
   "source": []
  },
  {
   "cell_type": "code",
   "execution_count": null,
   "id": "d5595510",
   "metadata": {},
   "outputs": [],
   "source": [
    "#2. XGBoost"
   ]
  },
  {
   "cell_type": "code",
   "execution_count": 21,
   "id": "8e134dc4",
   "metadata": {},
   "outputs": [
    {
     "name": "stdout",
     "output_type": "stream",
     "text": [
      "XGBoost - R2:  0.7744789425936901\n"
     ]
    }
   ],
   "source": [
    "from xgboost import XGBRegressor\n",
    "xgr = XGBRegressor()\n",
    "xgr.fit(X_train, y_train)\n",
    "y_pred2 = xgr.predict(X_test)\n",
    "print(\"XGBoost - R2: \",r2_score(y_test, y_pred2))\n"
   ]
  },
  {
   "cell_type": "code",
   "execution_count": null,
   "id": "6182d695",
   "metadata": {},
   "outputs": [],
   "source": []
  },
  {
   "cell_type": "code",
   "execution_count": null,
   "id": "64237ce8",
   "metadata": {},
   "outputs": [],
   "source": [
    "#3. AdaBoost"
   ]
  },
  {
   "cell_type": "code",
   "execution_count": 22,
   "id": "7b9ce911",
   "metadata": {},
   "outputs": [
    {
     "name": "stdout",
     "output_type": "stream",
     "text": [
      "AdaBoost - R2:  0.7460450002346022\n"
     ]
    }
   ],
   "source": [
    "from sklearn.ensemble import AdaBoostRegressor\n",
    "adr = AdaBoostRegressor()\n",
    "adr.fit(X_train, y_train)\n",
    "y_pred3 = adr.predict(X_test)\n",
    "print(\"AdaBoost - R2: \",r2_score(y_test, y_pred3))\n"
   ]
  },
  {
   "cell_type": "code",
   "execution_count": null,
   "id": "6b0ddb56",
   "metadata": {},
   "outputs": [],
   "source": []
  },
  {
   "cell_type": "code",
   "execution_count": null,
   "id": "6295c381",
   "metadata": {},
   "outputs": [],
   "source": [
    "#4. CatBoost"
   ]
  },
  {
   "cell_type": "code",
   "execution_count": 23,
   "id": "6090bff5",
   "metadata": {},
   "outputs": [
    {
     "name": "stdout",
     "output_type": "stream",
     "text": [
      "CatBoost - R2:  0.42391567923792006\n"
     ]
    }
   ],
   "source": [
    "from catboost import CatBoostRegressor\n",
    "cbr = CatBoostRegressor(iterations=100,depth=5,learning_rate=0.01,loss_function='RMSE',verbose=0)\n",
    "cbr.fit(X_train, y_train)\n",
    "y_pred4 = cbr.predict(X_test)\n",
    "print(\"CatBoost - R2: \",r2_score(y_test, y_pred4))\n"
   ]
  },
  {
   "cell_type": "code",
   "execution_count": null,
   "id": "329b4328",
   "metadata": {},
   "outputs": [],
   "source": []
  },
  {
   "cell_type": "code",
   "execution_count": null,
   "id": "6e5ebe23",
   "metadata": {},
   "outputs": [],
   "source": [
    "#5. LightGBM"
   ]
  },
  {
   "cell_type": "code",
   "execution_count": 24,
   "id": "94367a99",
   "metadata": {},
   "outputs": [
    {
     "name": "stdout",
     "output_type": "stream",
     "text": [
      "LightGBM - R2:  0.7967087059956381\n"
     ]
    }
   ],
   "source": [
    "import lightgbm as lgb\n",
    "from lightgbm import LGBMRegressor\n",
    "lgr = LGBMRegressor()\n",
    "lgr.fit(X_train, y_train)\n",
    "y_pred5 = lgr.predict(X_test)\n",
    "print(\"LightGBM - R2: \",r2_score(y_test, y_pred5))\n"
   ]
  },
  {
   "cell_type": "code",
   "execution_count": null,
   "id": "a0c3a6df",
   "metadata": {},
   "outputs": [],
   "source": []
  },
  {
   "cell_type": "code",
   "execution_count": 25,
   "id": "f395c3af",
   "metadata": {},
   "outputs": [
    {
     "data": {
      "text/plain": [
       "Text(0, 0.5, 'y_pred')"
      ]
     },
     "execution_count": 25,
     "metadata": {},
     "output_type": "execute_result"
    },
    {
     "data": {
      "image/png": "[encoded data removed]",
      "text/plain": [
       "<Figure size 1100x500 with 1 Axes>"
      ]
     },
     "metadata": {},
     "output_type": "display_data"
    }
   ],
   "source": [
    "#Plot and compare performance curves\n",
    "\n",
    "import matplotlib.pyplot as plt\n",
    "import seaborn as sns\n",
    "fig, ax = plt.subplots(figsize=(11, 5))\n",
    "\n",
    "ax = sns.lineplot(x=y_test, y=y_pred1,label='GradientBoosting')\n",
    "ax1 = sns.lineplot(x=y_test, y=y_pred2,label='XGBoost')\n",
    "ax2 = sns.lineplot(x=y_test, y=y_pred3,label='AdaBoost')\n",
    "ax3 = sns.lineplot(x=y_test, y=y_pred4,label='CatBoost')\n",
    "ax4 = sns.lineplot(x=y_test, y=y_pred5,label='LightGBM')\n",
    "\n",
    "ax.set_xlabel('y_test', color='g')\n",
    "ax.set_ylabel('y_pred', color='g')\n"
   ]
  },
  {
   "cell_type": "code",
   "execution_count": null,
   "id": "02372271",
   "metadata": {},
   "outputs": [],
   "source": []
  },
  {
   "cell_type": "code",
   "execution_count": null,
   "id": "7129b199",
   "metadata": {},
   "outputs": [],
   "source": []
  },
  {
   "cell_type": "code",
   "execution_count": null,
   "id": "8fdb1080",
   "metadata": {},
   "outputs": [],
   "source": []
  },
  {
   "cell_type": "code",
   "execution_count": null,
   "id": "75fe0961",
   "metadata": {},
   "outputs": [],
   "source": []
  },
  {
   "cell_type": "code",
   "execution_count": null,
   "id": "0cbcef93",
   "metadata": {},
   "outputs": [],
   "source": []
  },
  {
   "cell_type": "code",
   "execution_count": null,
   "id": "c96c054b",
   "metadata": {},
   "outputs": [],
   "source": []
  },
  {
   "cell_type": "code",
   "execution_count": null,
   "id": "0e6546b2",
   "metadata": {},
   "outputs": [],
   "source": []
  },
  {
   "cell_type": "code",
   "execution_count": null,
   "id": "90c450c6",
   "metadata": {},
   "outputs": [],
   "source": []
  },
  {
   "cell_type": "code",
   "execution_count": null,
   "id": "4808b426",
   "metadata": {},
   "outputs": [],
   "source": []
  },
  {
   "cell_type": "code",
   "execution_count": null,
   "id": "9210041b",
   "metadata": {},
   "outputs": [],
   "source": []
  },
  {
   "cell_type": "code",
   "execution_count": null,
   "id": "932849c2",
   "metadata": {},
   "outputs": [],
   "source": []
  },
  {
   "cell_type": "code",
   "execution_count": null,
   "id": "6af05c7d",
   "metadata": {},
   "outputs": [],
   "source": []
  },
  {
   "cell_type": "code",
   "execution_count": null,
   "id": "922a384e",
   "metadata": {},
   "outputs": [],
   "source": []
  },
  {
   "cell_type": "code",
   "execution_count": null,
   "id": "dad45fe4",
   "metadata": {},
   "outputs": [],
   "source": []
  },
  {
   "cell_type": "code",
   "execution_count": null,
   "id": "65d88fce",
   "metadata": {},
   "outputs": [],
   "source": []
  }
 ],
 "metadata": {
  "kernelspec": {
   "display_name": "Python 3 (ipykernel)",
   "language": "python",
   "name": "python3"
  },
  "language_info": {
   "codemirror_mode": {
    "name": "ipython",
    "version": 3
   },
   "file_extension": ".py",
   "mimetype": "text/x-python",
   "name": "python",
   "nbconvert_exporter": "python",
   "pygments_lexer": "ipython3",
   "version": "3.9.13"
  }
 },
 "nbformat": 4,
 "nbformat_minor": 5
}
