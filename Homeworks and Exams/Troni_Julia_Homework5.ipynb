{
 "cells": [
  {
   "cell_type": "code",
   "execution_count": null,
   "id": "ebf2e055",
   "metadata": {},
   "outputs": [],
   "source": []
  },
  {
   "cell_type": "code",
   "execution_count": 1,
   "id": "c5530636",
   "metadata": {},
   "outputs": [],
   "source": [
    "                                      ###### Homework 5 - Part 3 ###########"
   ]
  },
  {
   "cell_type": "code",
   "execution_count": null,
   "id": "27838b40",
   "metadata": {},
   "outputs": [],
   "source": []
  },
  {
   "cell_type": "code",
   "execution_count": 2,
   "id": "e31152e0",
   "metadata": {},
   "outputs": [],
   "source": [
    "#Note the following:\n",
    "\n",
    "#1. Each question is worth 1 point\n",
    "#2. Write your name and student ID below\n",
    "#3. Remember to save your file and upload to Canvas\n",
    "#4. Add your name and ID below"
   ]
  },
  {
   "cell_type": "code",
   "execution_count": null,
   "id": "ac54e7e8",
   "metadata": {},
   "outputs": [],
   "source": []
  },
  {
   "cell_type": "code",
   "execution_count": 3,
   "id": "2147425f",
   "metadata": {},
   "outputs": [],
   "source": [
    "#Student Name: Julia Troni\n",
    "#Student ID: 109280095"
   ]
  },
  {
   "cell_type": "code",
   "execution_count": 4,
   "id": "aa91c34c",
   "metadata": {},
   "outputs": [],
   "source": [
    "#SETUP CELL - Make sure you run this cell first!\n",
    "\n",
    "\n",
    "\n",
    "import pandas as pd\n",
    "from sklearn.neighbors import KNeighborsClassifier\n",
    "import seaborn as sns #Import Python Seaborn\n",
    "from seaborn import load_dataset\n",
    "\n",
    "\n",
    "# Load and display the first rows of the penguins dataset\n",
    "\n",
    "df = load_dataset('penguins')\n",
    "\n",
    "\n",
    "#Splitting our DataFrame into features and target\n",
    "\n",
    "df = df.dropna()\n",
    "\n",
    "X = df[['bill_length_mm']]\n",
    "y = df['species']\n",
    "\n",
    "\n",
    "\n",
    "# Splitting data into training and testing data\n",
    "from sklearn.model_selection import train_test_split\n",
    "\n",
    "X_train, X_test, y_train, y_test = train_test_split(X, y, random_state = 100)"
   ]
  },
  {
   "cell_type": "code",
   "execution_count": null,
   "id": "d9f2cb6f",
   "metadata": {},
   "outputs": [],
   "source": []
  },
  {
   "cell_type": "code",
   "execution_count": 5,
   "id": "39d50398",
   "metadata": {},
   "outputs": [],
   "source": [
    "#Note that this Cell is called CELL X\n",
    "\n",
    "#You are not required to run this cell\n",
    "\n",
    "#The goal of the next set of questions is to see the effects of different configurations of\n",
    "#the KNeigborsClassifier() function on KNN model accuracy scores\n",
    "\n",
    "\n",
    "#Suppose you have the following initial configuration for KNeigborsClassifier():\n",
    "\n",
    "KNN = KNeighborsClassifier(\n",
    "    n_neighbors=5,          # The number of neighbours to consider\n",
    "    weights='uniform',      # How to weight distances (e.g uniform or distance)\n",
    "    algorithm='auto',       # Algorithm to compute the neighbors\n",
    "    leaf_size=30,           # The leaf size to speed up searches\n",
    "    p=2,                    # The power parameter for the Minkowski metric. 2 = Euclidean distance; p=1 is for Manhattan distance\n",
    "    metric='minkowski',     # The type of distance to use. This generalizes Euclidean and Manhattan distance\n",
    "    metric_params=None,     # Keyword arguments for the metric function\n",
    "    n_jobs=None             # How many parallel jobs to run\n",
    ")"
   ]
  },
  {
   "cell_type": "code",
   "execution_count": null,
   "id": "3ea55c64",
   "metadata": {},
   "outputs": [],
   "source": []
  },
  {
   "cell_type": "code",
   "execution_count": 6,
   "id": "14c363f8",
   "metadata": {},
   "outputs": [],
   "source": [
    "#Question 1\n",
    "\n",
    "#Copy and paste the code in CELL X above below in this cell and make the following configuration changes\n",
    "\n",
    "#Set n_neighbors = 5\n",
    "#Set p = 1\n",
    "#Set weights = uniform\n",
    "\n",
    "#Make sure to run this cell when you have made the configuration changes listed above\n",
    "\n",
    "#Write your answer below:\n",
    "\n",
    "KNN = KNeighborsClassifier(\n",
    "    n_neighbors=5,          # The number of neighbours to consider\n",
    "    weights='uniform',      # How to weight distances (e.g uniform or distance)\n",
    "    algorithm='auto',       # Algorithm to compute the neighbors\n",
    "    leaf_size=30,           # The leaf size to speed up searches\n",
    "    p=1,                    # The power parameter for the Minkowski metric. 2 = Euclidean distance; p=1 is for Manhattan distance\n",
    "    metric='minkowski',     # The type of distance to use. This generalizes Euclidean and Manhattan distance\n",
    "    metric_params=None,     # Keyword arguments for the metric function\n",
    "    n_jobs=None             # How many parallel jobs to run\n",
    ")"
   ]
  },
  {
   "cell_type": "code",
   "execution_count": null,
   "id": "b0b7d8e1",
   "metadata": {},
   "outputs": [],
   "source": []
  },
  {
   "cell_type": "code",
   "execution_count": 7,
   "id": "2ce25aa7",
   "metadata": {},
   "outputs": [],
   "source": [
    "#Question 2\n",
    "\n",
    "\n",
    "#Considering the objects used to hold the training data set in the SETUP CELL above,\n",
    "#Write Python code to fit a KNN model on X_train and y_train \n",
    "\n",
    "#Use the object KNN that is holding your current configuration for the .fit() function\n",
    "\n",
    "#Run this cell after writing your answer below.\n",
    "\n",
    "#Write your answer below:\n",
    "\n",
    "\n",
    "model= KNN.fit(X_train, y_train)"
   ]
  },
  {
   "cell_type": "code",
   "execution_count": 8,
   "id": "0bdf58e0",
   "metadata": {},
   "outputs": [
    {
     "name": "stdout",
     "output_type": "stream",
     "text": [
      "['Adelie' 'Gentoo' 'Chinstrap' 'Adelie' 'Gentoo' 'Gentoo' 'Gentoo'\n",
      " 'Chinstrap' 'Gentoo' 'Gentoo' 'Gentoo' 'Adelie' 'Adelie' 'Gentoo'\n",
      " 'Gentoo' 'Chinstrap' 'Chinstrap' 'Adelie' 'Gentoo' 'Gentoo' 'Adelie'\n",
      " 'Gentoo' 'Adelie' 'Adelie' 'Adelie' 'Adelie' 'Gentoo' 'Chinstrap'\n",
      " 'Adelie' 'Adelie' 'Adelie' 'Adelie' 'Gentoo' 'Adelie' 'Chinstrap'\n",
      " 'Gentoo' 'Adelie' 'Gentoo' 'Gentoo' 'Gentoo' 'Adelie' 'Gentoo' 'Adelie'\n",
      " 'Adelie' 'Chinstrap' 'Chinstrap' 'Chinstrap' 'Adelie' 'Gentoo' 'Gentoo'\n",
      " 'Gentoo' 'Gentoo' 'Adelie' 'Adelie' 'Gentoo' 'Gentoo' 'Adelie' 'Gentoo'\n",
      " 'Gentoo' 'Adelie' 'Gentoo' 'Gentoo' 'Gentoo' 'Adelie' 'Adelie' 'Adelie'\n",
      " 'Chinstrap' 'Adelie' 'Gentoo' 'Gentoo' 'Chinstrap' 'Chinstrap' 'Adelie'\n",
      " 'Chinstrap' 'Gentoo' 'Gentoo' 'Gentoo' 'Chinstrap' 'Adelie' 'Gentoo'\n",
      " 'Adelie' 'Adelie' 'Adelie' 'Chinstrap']\n"
     ]
    }
   ],
   "source": [
    "#Question 3\n",
    "\n",
    "#Using the object KNN that is holding your current configuration,\n",
    "#Write Python code to predict outcomes for X_test\n",
    "\n",
    "#Store/assign your code in/to an object called y_pred\n",
    "\n",
    "#Run this cell after writing your answer below.\n",
    "\n",
    "#Write your answer below:\n",
    "\n",
    "\n",
    "y_pred = model.predict(X_test)\n",
    "print(y_pred)"
   ]
  },
  {
   "cell_type": "code",
   "execution_count": null,
   "id": "92c6c4a0",
   "metadata": {},
   "outputs": [],
   "source": []
  },
  {
   "cell_type": "code",
   "execution_count": 9,
   "id": "02e65439",
   "metadata": {},
   "outputs": [
    {
     "name": "stdout",
     "output_type": "stream",
     "text": [
      "              precision    recall  f1-score   support\n",
      "\n",
      "      Adelie       0.91      0.88      0.90        34\n",
      "   Chinstrap       0.40      0.35      0.38        17\n",
      "      Gentoo       0.64      0.70      0.67        33\n",
      "\n",
      "    accuracy                           0.70        84\n",
      "   macro avg       0.65      0.64      0.65        84\n",
      "weighted avg       0.70      0.70      0.70        84\n",
      "\n"
     ]
    }
   ],
   "source": [
    "\n",
    "#Run this cell to generate and print the classification report of the model\n",
    "#built on your current KNN configuration\n",
    "\n",
    "#Note the accuracy score below:\n",
    "\n",
    "from sklearn.metrics import classification_report, confusion_matrix\n",
    "print(classification_report(y_test, y_pred))"
   ]
  },
  {
   "cell_type": "code",
   "execution_count": 10,
   "id": "bf90cf35",
   "metadata": {},
   "outputs": [],
   "source": [
    "#Question 4\n",
    "\n",
    "#What is the accuracy score from the classification report above?\n",
    "\n",
    "#Write your answer below:\n",
    "\n",
    "#The accuracy is 0.7 or 70%\n",
    "\n"
   ]
  },
  {
   "cell_type": "code",
   "execution_count": null,
   "id": "0e7ac5b7",
   "metadata": {},
   "outputs": [],
   "source": []
  },
  {
   "cell_type": "code",
   "execution_count": 11,
   "id": "3dc22de1",
   "metadata": {},
   "outputs": [],
   "source": [
    "#Question 5\n",
    "\n",
    "#Copy and paste the code in CELL X above below in this cell and make the following configuration changes\n",
    "\n",
    "#Set n_neighbors = 10\n",
    "#Set p = 2\n",
    "#Set weights = distance\n",
    "\n",
    "#Make sure to run this cell when you have made the configuration changes\n",
    "\n",
    "#Write your answer below:\n",
    "\n",
    "\n",
    "\n",
    "KNN = KNeighborsClassifier(\n",
    "    n_neighbors=10,          # The number of neighbours to consider\n",
    "    weights='distance',      # How to weight distances (e.g uniform or distance)\n",
    "    algorithm='auto',       # Algorithm to compute the neighbors\n",
    "    leaf_size=30,           # The leaf size to speed up searches\n",
    "    p=2,                    # The power parameter for the Minkowski metric. 2 = Euclidean distance; p=1 is for Manhattan distance\n",
    "    metric='minkowski',     # The type of distance to use. This generalizes Euclidean and Manhattan distance\n",
    "    metric_params=None,     # Keyword arguments for the metric function\n",
    "    n_jobs=None             # How many parallel jobs to run\n",
    ")"
   ]
  },
  {
   "cell_type": "code",
   "execution_count": null,
   "id": "e69e641d",
   "metadata": {},
   "outputs": [],
   "source": []
  },
  {
   "cell_type": "code",
   "execution_count": 12,
   "id": "ca2b0d7a",
   "metadata": {},
   "outputs": [],
   "source": [
    "#Question 6\n",
    "\n",
    "\n",
    "#Considering the objects used to hold the training data set in the setup section above,\n",
    "#Write Python code to fit a KNN model on X_train and y_train \n",
    "\n",
    "#Use the object KNN that is holding your current configuration for the .fit() function\n",
    "#Run this cell after writing your answer below\n",
    "\n",
    "#Write your answer below:\n",
    "\n",
    "model= KNN.fit(X_train, y_train)\n"
   ]
  },
  {
   "cell_type": "code",
   "execution_count": null,
   "id": "ddcb645c",
   "metadata": {},
   "outputs": [],
   "source": []
  },
  {
   "cell_type": "code",
   "execution_count": 13,
   "id": "a602e8fe",
   "metadata": {},
   "outputs": [
    {
     "name": "stdout",
     "output_type": "stream",
     "text": [
      "['Adelie' 'Chinstrap' 'Chinstrap' 'Adelie' 'Chinstrap' 'Gentoo' 'Gentoo'\n",
      " 'Chinstrap' 'Chinstrap' 'Chinstrap' 'Gentoo' 'Adelie' 'Adelie' 'Gentoo'\n",
      " 'Gentoo' 'Gentoo' 'Chinstrap' 'Adelie' 'Adelie' 'Chinstrap' 'Adelie'\n",
      " 'Chinstrap' 'Adelie' 'Adelie' 'Adelie' 'Adelie' 'Chinstrap' 'Chinstrap'\n",
      " 'Adelie' 'Adelie' 'Adelie' 'Adelie' 'Gentoo' 'Adelie' 'Gentoo' 'Gentoo'\n",
      " 'Adelie' 'Gentoo' 'Chinstrap' 'Gentoo' 'Adelie' 'Chinstrap' 'Adelie'\n",
      " 'Adelie' 'Chinstrap' 'Chinstrap' 'Chinstrap' 'Adelie' 'Chinstrap'\n",
      " 'Chinstrap' 'Gentoo' 'Gentoo' 'Adelie' 'Adelie' 'Gentoo' 'Chinstrap'\n",
      " 'Gentoo' 'Gentoo' 'Gentoo' 'Adelie' 'Gentoo' 'Gentoo' 'Gentoo' 'Adelie'\n",
      " 'Adelie' 'Adelie' 'Chinstrap' 'Adelie' 'Gentoo' 'Gentoo' 'Gentoo'\n",
      " 'Chinstrap' 'Adelie' 'Chinstrap' 'Chinstrap' 'Chinstrap' 'Gentoo'\n",
      " 'Chinstrap' 'Adelie' 'Chinstrap' 'Adelie' 'Adelie' 'Adelie' 'Chinstrap']\n"
     ]
    }
   ],
   "source": [
    "#Question 7\n",
    "\n",
    "#Using the object KNN that is holding your current configuration,\n",
    "#Write Python code to predict outcomes for X_test\n",
    "\n",
    "#Store/assign your code in/to an object called y_pred\n",
    "\n",
    "\n",
    "#Write your answer below:\n",
    "\n",
    "y_pred = model.predict(X_test)\n",
    "print(y_pred)"
   ]
  },
  {
   "cell_type": "code",
   "execution_count": null,
   "id": "3dd6a506",
   "metadata": {},
   "outputs": [],
   "source": []
  },
  {
   "cell_type": "code",
   "execution_count": 14,
   "id": "e78da019",
   "metadata": {},
   "outputs": [
    {
     "name": "stdout",
     "output_type": "stream",
     "text": [
      "              precision    recall  f1-score   support\n",
      "\n",
      "      Adelie       0.94      0.91      0.93        34\n",
      "   Chinstrap       0.22      0.35      0.27        17\n",
      "      Gentoo       0.46      0.33      0.39        33\n",
      "\n",
      "    accuracy                           0.57        84\n",
      "   macro avg       0.54      0.53      0.53        84\n",
      "weighted avg       0.61      0.57      0.58        84\n",
      "\n"
     ]
    }
   ],
   "source": [
    "\n",
    "\n",
    "#Run this cell to generate and print the classification report of the model\n",
    "#built on your current KNN configuration\n",
    "\n",
    "\n",
    "#Note the accuracy score below:\n",
    "\n",
    "from sklearn.metrics import classification_report, confusion_matrix\n",
    "print(classification_report(y_test, y_pred))"
   ]
  },
  {
   "cell_type": "code",
   "execution_count": null,
   "id": "7caf64a8",
   "metadata": {},
   "outputs": [],
   "source": []
  },
  {
   "cell_type": "code",
   "execution_count": 15,
   "id": "4ae0be28",
   "metadata": {},
   "outputs": [],
   "source": [
    "#Question 8\n",
    "\n",
    "#What is the accuracy score from the classification report above?\n",
    "\n",
    "#Write your answer below:\n",
    "\n",
    "#THe accuracy score is 0.57 or 57%"
   ]
  },
  {
   "cell_type": "code",
   "execution_count": null,
   "id": "05d9da58",
   "metadata": {},
   "outputs": [],
   "source": []
  },
  {
   "cell_type": "code",
   "execution_count": 16,
   "id": "67033adc",
   "metadata": {},
   "outputs": [],
   "source": [
    "#Question 9\n",
    "\n",
    "#Compare the accuracy from Question 4 with the accuracy from Question 8\n",
    "#Is there a decline or increase in the accuracy score?\n",
    "\n",
    "#Write your answer below:\n",
    "\n",
    "# There was a decline in accuracy score from Question 4 to question 8, from 70% to 57%\n"
   ]
  },
  {
   "cell_type": "code",
   "execution_count": null,
   "id": "4cb0c29e",
   "metadata": {},
   "outputs": [],
   "source": []
  },
  {
   "cell_type": "code",
   "execution_count": 17,
   "id": "f0554eaf",
   "metadata": {},
   "outputs": [
    {
     "name": "stdout",
     "output_type": "stream",
     "text": [
      "0.13\n"
     ]
    }
   ],
   "source": [
    "#Question 10\n",
    "\n",
    "\n",
    "#Based on the accuracy scores you compared in Question 9 above, What is the absolute value of \n",
    "#the change in accuracy score starting from the score in Question 4 to the score in Question 8?\n",
    "\n",
    "#Write your answer below:\n",
    "\n",
    "\n",
    "diff= abs(0.7-0.57)\n",
    "print(diff)\n",
    "#The change in accuracy score was a decline of 0.13 or 13%"
   ]
  },
  {
   "cell_type": "code",
   "execution_count": null,
   "id": "84a0f2bb",
   "metadata": {},
   "outputs": [],
   "source": []
  },
  {
   "cell_type": "code",
   "execution_count": null,
   "id": "e649abdd",
   "metadata": {},
   "outputs": [],
   "source": []
  },
  {
   "cell_type": "code",
   "execution_count": 18,
   "id": "23797309",
   "metadata": {},
   "outputs": [],
   "source": [
    "                                           ###End of Homework 5 - Part 3###"
   ]
  },
  {
   "cell_type": "code",
   "execution_count": null,
   "id": "d48a1523",
   "metadata": {},
   "outputs": [],
   "source": []
  }
 ],
 "metadata": {
  "kernelspec": {
   "display_name": "Python 3 (ipykernel)",
   "language": "python",
   "name": "python3"
  },
  "language_info": {
   "codemirror_mode": {
    "name": "ipython",
    "version": 3
   },
   "file_extension": ".py",
   "mimetype": "text/x-python",
   "name": "python",
   "nbconvert_exporter": "python",
   "pygments_lexer": "ipython3",
   "version": "3.9.7"
  }
 },
 "nbformat": 4,
 "nbformat_minor": 5
}
