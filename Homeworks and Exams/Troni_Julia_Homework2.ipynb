{
 "cells": [
  {
   "cell_type": "markdown",
   "id": "6e68287c",
   "metadata": {},
   "source": [
    "# Homework 2 - Part 3"
   ]
  },
  {
   "cell_type": "code",
   "execution_count": 1,
   "id": "d82cc41c",
   "metadata": {},
   "outputs": [],
   "source": [
    "#Student Name: Julia Troni\n",
    "\n",
    "#Student ID: 109280095"
   ]
  },
  {
   "cell_type": "code",
   "execution_count": 2,
   "id": "56707622",
   "metadata": {},
   "outputs": [],
   "source": [
    "#Use the following information to answer Question 1 through Question 5"
   ]
  },
  {
   "cell_type": "code",
   "execution_count": 3,
   "id": "ac1a93e0",
   "metadata": {},
   "outputs": [],
   "source": [
    "#RUN THIS CELL FIRST before you answer Questions 1 - 5\n",
    "\n",
    "from numpy import array\n",
    "from numpy.linalg import norm\n",
    "\n",
    "#Suppose we create/define the following arrays\n",
    "\n",
    "A1 = array([1,-3,4,5])\n",
    "\n",
    "A2 = array([3,4,5,7])\n",
    "\n",
    "A3 = array([\n",
    "[1, 2],\n",
    "[3, 4],\n",
    "[5, 6]])\n",
    "\n",
    "A4 = array([\n",
    "[1, 2],\n",
    "[3, 4]])\n",
    "\n",
    "A5 = array([\n",
    "[1, 2],\n",
    "[3, 4],\n",
    "[5, 6]])\n",
    "\n",
    "A6 = array([0.5, 0.5])\n",
    "\n",
    "A7 = array([[3,-5],\n",
    "           [16,8],\n",
    "            [21,23]])"
   ]
  },
  {
   "cell_type": "code",
   "execution_count": 4,
   "id": "687f2505",
   "metadata": {},
   "outputs": [
    {
     "name": "stdout",
     "output_type": "stream",
     "text": [
      "[[ 0.33333333 -0.4       ]\n",
      " [ 0.1875      0.5       ]\n",
      " [ 0.23809524  0.26086957]]\n"
     ]
    }
   ],
   "source": [
    "#Question 1:\n",
    "\n",
    "#Write Python code below to find the element-wise division of A3 by A7\n",
    "element_division= A3/A7\n",
    "\n",
    "print(element_division)\n"
   ]
  },
  {
   "cell_type": "code",
   "execution_count": 5,
   "id": "7be59959",
   "metadata": {},
   "outputs": [
    {
     "name": "stdout",
     "output_type": "stream",
     "text": [
      "[[ 3 16 21]\n",
      " [-5  8 23]]\n"
     ]
    }
   ],
   "source": [
    "#Question 2:\n",
    "\n",
    "#Write Python code below to find the transpose of A7\n",
    "\n",
    "transA7= A7.T\n",
    "\n",
    "print(transA7)"
   ]
  },
  {
   "cell_type": "code",
   "execution_count": 6,
   "id": "bc0dd325",
   "metadata": {},
   "outputs": [
    {
     "name": "stdout",
     "output_type": "stream",
     "text": [
      "[[ 0.6  3.2  4.2]\n",
      " [-1.   1.6  4.6]]\n"
     ]
    }
   ],
   "source": [
    "#Question 3:\n",
    "\n",
    "#Write Python code below to divide the transpose of A7 by 5\n",
    "\n",
    "print(transA7/5)"
   ]
  },
  {
   "cell_type": "code",
   "execution_count": 7,
   "id": "93826917",
   "metadata": {},
   "outputs": [
    {
     "name": "stdout",
     "output_type": "stream",
     "text": [
      "46\n"
     ]
    }
   ],
   "source": [
    "#Question 4:\n",
    "\n",
    "#Write Python code below to find the vector dot product of A1 and A2\n",
    "\n",
    "vecdot12= A1.dot(A2)\n",
    "\n",
    "print(vecdot12)"
   ]
  },
  {
   "cell_type": "code",
   "execution_count": 8,
   "id": "1b947413",
   "metadata": {},
   "outputs": [
    {
     "name": "stdout",
     "output_type": "stream",
     "text": [
      "1.3065491598369756\n"
     ]
    }
   ],
   "source": [
    "#Question 5:\n",
    "\n",
    "#Write Python code below to divide the l1 norm of A1 by the Euclidean norm of A2.\n",
    "\n",
    "#Do not assign the L1/ Euclidean norms to any object before the division\n",
    "\n",
    "\n",
    "l1diveu= norm(A1,1)/norm(A2,2)\n",
    "\n",
    "print(l1diveu)"
   ]
  },
  {
   "cell_type": "code",
   "execution_count": 9,
   "id": "40af2fb5",
   "metadata": {},
   "outputs": [],
   "source": [
    "#RUN THIS CELL FIRST before you answer Questions 6 - 10\n",
    "\n",
    "from numpy import array\n",
    "from numpy.linalg import norm\n",
    "\n",
    "#Suppose we create/define the following arrays\n",
    "\n",
    "# matrix-matrix Hadamard product\n",
    "#element-wise product\n",
    "\n",
    "\n",
    "\n",
    "B1 = array([\n",
    "[1, 2, 3],\n",
    "[4, 5, 6]])\n",
    "\n",
    "\n",
    "\n",
    "B2 = array([\n",
    "[1, 2, 3],\n",
    "[4, 5, 6]])\n",
    "\n",
    "\n",
    "B3 = array([[2,3],[5,1],[3,4]])"
   ]
  },
  {
   "cell_type": "code",
   "execution_count": 10,
   "id": "b653543a",
   "metadata": {},
   "outputs": [
    {
     "name": "stdout",
     "output_type": "stream",
     "text": [
      "[[ 1  4  9]\n",
      " [16 25 36]]\n"
     ]
    }
   ],
   "source": [
    "#Question 6\n",
    "\n",
    "#Write Python code below to find the Hadamard product of B1 and B2\n",
    "\n",
    "#Do not assign the product to an object\n",
    "\n",
    "print(B1*B2)\n"
   ]
  },
  {
   "cell_type": "code",
   "execution_count": 11,
   "id": "6c739188",
   "metadata": {},
   "outputs": [
    {
     "name": "stdout",
     "output_type": "stream",
     "text": [
      "[[0 0 0]\n",
      " [0 0 0]]\n"
     ]
    }
   ],
   "source": [
    "#Question 7\n",
    "\n",
    "#Write Python code below to subtract B2 from B1\n",
    "\n",
    "print(B1-B2)"
   ]
  },
  {
   "cell_type": "code",
   "execution_count": 12,
   "id": "3e713f62",
   "metadata": {},
   "outputs": [
    {
     "name": "stdout",
     "output_type": "stream",
     "text": [
      "[[1 4]\n",
      " [2 5]\n",
      " [3 6]]\n"
     ]
    }
   ],
   "source": [
    "#Question 8\n",
    "\n",
    "#Write Python code below to find the transpose of B2\n",
    "\n",
    "print(B2.T)"
   ]
  },
  {
   "cell_type": "code",
   "execution_count": 13,
   "id": "ffeb728d",
   "metadata": {},
   "outputs": [
    {
     "name": "stdout",
     "output_type": "stream",
     "text": [
      "[[21 17]\n",
      " [51 41]]\n"
     ]
    }
   ],
   "source": [
    "#Question 9\n",
    "\n",
    "#Write Python code below to find the matrix-matrix dot product of B2 and B3\n",
    "\n",
    "print(B2.dot(B3))"
   ]
  },
  {
   "cell_type": "code",
   "execution_count": 14,
   "id": "bd90d2f9",
   "metadata": {},
   "outputs": [
    {
     "name": "stdout",
     "output_type": "stream",
     "text": [
      "[[1.42857143 2.85714286 4.28571429]\n",
      " [5.71428571 7.14285714 8.57142857]]\n"
     ]
    }
   ],
   "source": [
    "#Question 10\n",
    "\n",
    "#Write Python code below to divide B1 by 0.7\n",
    "\n",
    "print(B1/0.7)\n"
   ]
  },
  {
   "cell_type": "code",
   "execution_count": null,
   "id": "13a918e6",
   "metadata": {},
   "outputs": [],
   "source": []
  },
  {
   "cell_type": "code",
   "execution_count": null,
   "id": "ac55bc0e",
   "metadata": {},
   "outputs": [],
   "source": []
  },
  {
   "cell_type": "code",
   "execution_count": null,
   "id": "19d1ebbc",
   "metadata": {},
   "outputs": [],
   "source": []
  }
 ],
 "metadata": {
  "kernelspec": {
   "display_name": "Python 3 (ipykernel)",
   "language": "python",
   "name": "python3"
  },
  "language_info": {
   "codemirror_mode": {
    "name": "ipython",
    "version": 3
   },
   "file_extension": ".py",
   "mimetype": "text/x-python",
   "name": "python",
   "nbconvert_exporter": "python",
   "pygments_lexer": "ipython3",
   "version": "3.9.7"
  }
 },
 "nbformat": 4,
 "nbformat_minor": 5
}
