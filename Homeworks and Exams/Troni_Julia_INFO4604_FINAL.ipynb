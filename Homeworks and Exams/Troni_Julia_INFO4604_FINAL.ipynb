{
 "cells": [
  {
   "cell_type": "code",
   "execution_count": 1,
   "id": "bb643282",
   "metadata": {},
   "outputs": [],
   "source": [
    "#----------------------------------------Welcome to Exam 2: Part 2-------------------------------------------------"
   ]
  },
  {
   "cell_type": "code",
   "execution_count": 2,
   "id": "2f0176a9",
   "metadata": {},
   "outputs": [],
   "source": [
    "#Note the following:\n",
    "\n",
    "#1. Add your Student Name and ID below\n",
    "#2. Remember that each question is for 1 point\n",
    "#3. Remember to save your file before uploading to Canvas\n",
    "#4. Read the instructions per cell and run the cells accordingly to help your answers/output\n",
    "#5. Refer to the relevant Python Jupyter Notebooks for weeks 10 - 15 in Canvas for help in constructing your code\n",
    "#6. Send me an email at abel.iyasele@colorado.edu if you have questions\n"
   ]
  },
  {
   "cell_type": "code",
   "execution_count": null,
   "id": "1e8adc17",
   "metadata": {},
   "outputs": [],
   "source": []
  },
  {
   "cell_type": "code",
   "execution_count": 26,
   "id": "1fbf9de3",
   "metadata": {},
   "outputs": [],
   "source": [
    "#Student Name: Julia Troni \n",
    "#julia.troni@colorado.edu\n",
    "# Student ID: 109280095\n"
   ]
  },
  {
   "cell_type": "code",
   "execution_count": null,
   "id": "bc933d17",
   "metadata": {},
   "outputs": [],
   "source": []
  },
  {
   "cell_type": "code",
   "execution_count": null,
   "id": "ec3d6639",
   "metadata": {},
   "outputs": [],
   "source": []
  },
  {
   "cell_type": "code",
   "execution_count": 4,
   "id": "e01efc30",
   "metadata": {},
   "outputs": [],
   "source": [
    "#Questions 1 - 5 walk you through the process of training a Linear Discriminant Analysis algorithm\n",
    "# and a Quadratic Discriminant Analysis algorithm on the Iris dataset in scikit learn\n",
    "\n",
    "\n",
    "#Run this cell first before attempting Questions 1 - 5\n",
    "\n",
    "#Step 1: Load Necessary Libraries\n",
    "#First, we’ll load the necessary functions and libraries for this example\n",
    "\n",
    "from sklearn.model_selection import train_test_split\n",
    "from sklearn.model_selection import RepeatedStratifiedKFold\n",
    "from sklearn.model_selection import cross_val_score\n",
    "from sklearn.discriminant_analysis import LinearDiscriminantAnalysis \n",
    "from sklearn.discriminant_analysis import QuadraticDiscriminantAnalysis\n",
    "from sklearn import datasets\n",
    "import matplotlib.pyplot as plt\n",
    "import pandas as pd\n",
    "import numpy as np\n",
    "\n",
    "#load iris dataset\n",
    "iris = datasets.load_iris()\n",
    "\n",
    "X = iris.data\n",
    "y = iris.target"
   ]
  },
  {
   "cell_type": "code",
   "execution_count": null,
   "id": "d9c7f657",
   "metadata": {},
   "outputs": [],
   "source": []
  },
  {
   "cell_type": "code",
   "execution_count": 5,
   "id": "834b8235",
   "metadata": {},
   "outputs": [
    {
     "data": {
      "text/plain": [
       "QuadraticDiscriminantAnalysis()"
      ]
     },
     "execution_count": 5,
     "metadata": {},
     "output_type": "execute_result"
    }
   ],
   "source": [
    "#Question 1:\n",
    "\n",
    "#Write Python code to:\n",
    "\n",
    "#1.Create an instance of the Quadratic Discriminant Analysis function, and\n",
    "#2. fit a Quadratic Discriminant Analysis model to X and y as defined in the cell above\n",
    "\n",
    "#Use the object model_QDA to call the QuadraticDiscriminantAnalysis() function and to drive the .fit() call\n",
    "# on your X and y\n",
    "\n",
    "#Write your answer below:\n",
    "model_QDA = QuadraticDiscriminantAnalysis()\n",
    "model_QDA.fit(X, y)\n",
    "\n"
   ]
  },
  {
   "cell_type": "code",
   "execution_count": 6,
   "id": "8515c893",
   "metadata": {},
   "outputs": [
    {
     "data": {
      "text/plain": [
       "LinearDiscriminantAnalysis()"
      ]
     },
     "execution_count": 6,
     "metadata": {},
     "output_type": "execute_result"
    }
   ],
   "source": [
    "#Question 2:\n",
    "\n",
    "#Write Python code to:\n",
    "\n",
    "#1.Create an instance of the Linear Discriminant Analysis function and\n",
    "#2. fit a Linear Discriminant Analysis model to X and y as defined above\n",
    "\n",
    "#Use the object model_LDA to call the LinearDiscriminantAnalysis() function and to drive the .fit() call\n",
    "# on your X and y\n",
    "\n",
    "#Write your answer below:\n",
    "\n",
    "model_LDA = LinearDiscriminantAnalysis()\n",
    "model_LDA.fit(X, y)\n",
    "\n"
   ]
  },
  {
   "cell_type": "code",
   "execution_count": 7,
   "id": "3aaef430",
   "metadata": {},
   "outputs": [],
   "source": [
    "#Once we’ve fit the model using our data, we can evaluate how well the model performed \n",
    "#by using repeated stratified k-fold cross validation.\n",
    "\n",
    "#We’ll use 15 folds and 4 repeats:\n",
    "\n",
    "#This cell defines a method to evaluate both the QDA and LDA models.\n",
    "#We use RepeatedStratifiedKFold as defined below\n",
    "#Run this cell before you continue with Questions 3,4 and 5\n",
    "\n",
    "#Define method to evaluate model. Use RepeatedStratifiedKFold\n",
    "cv = RepeatedStratifiedKFold(n_splits=15, n_repeats=4, random_state=1)\n"
   ]
  },
  {
   "cell_type": "code",
   "execution_count": 8,
   "id": "7f9817ae",
   "metadata": {},
   "outputs": [],
   "source": [
    "#Question 3:\n",
    "\n",
    "#Write Python code to evaluate your QDA model (stored in model_QDA) using cross_val_score() function\n",
    "\n",
    "#set the scoring hyperparameter to 'accuracy'\n",
    "#set your n_jobs hyperparameter to use all the cores of your CPU\n",
    "#save your cross_val_score function in an object called scores_QDA\n",
    "# set cv = cv\n",
    "\n",
    "#Write your answer below:\n",
    "#Evaluate model\n",
    "scores_QDA = cross_val_score(model_QDA, X, y, scoring='accuracy', cv=cv, n_jobs=-1)\n",
    "\n",
    "\n",
    "\n"
   ]
  },
  {
   "cell_type": "code",
   "execution_count": 9,
   "id": "8fd40ec4",
   "metadata": {},
   "outputs": [],
   "source": [
    "#Question 4:\n",
    "\n",
    "#Write Python code to evaluate your LDA model (stored in model_LDA) using cross_val_score() function\n",
    "\n",
    "#set the scoring hyperparameter to 'accuracy'\n",
    "#set your n_jobs hyperparameter to use all the cores of your CPU\n",
    "#save your cross_val_score function in an object called scores_LDA\n",
    "#set cv = cv\n",
    "\n",
    "#Write your answer below:\n",
    "\n",
    "scores_LDA = cross_val_score(model_LDA, X, y, scoring='accuracy', cv=cv, n_jobs=-1)\n",
    "\n",
    "\n",
    "\n"
   ]
  },
  {
   "cell_type": "code",
   "execution_count": 10,
   "id": "84862b2a",
   "metadata": {},
   "outputs": [
    {
     "name": "stdout",
     "output_type": "stream",
     "text": [
      "0.9716666666666666\n",
      "0.98\n"
     ]
    }
   ],
   "source": [
    "#Question 5:\n",
    "\n",
    "#Write Python code to:\n",
    "\n",
    "#the mean of the scores you stored in scores_QDA\n",
    "#the mean of the scores you stored in scores_LDA\n",
    "\n",
    "#Include all your code in this cell\n",
    "\n",
    "#Write your code lines below:\n",
    "print(np.mean(scores_QDA))\n",
    "\n",
    "print(np.mean(scores_LDA))"
   ]
  },
  {
   "cell_type": "code",
   "execution_count": null,
   "id": "32d14e68",
   "metadata": {},
   "outputs": [],
   "source": []
  },
  {
   "cell_type": "code",
   "execution_count": 11,
   "id": "6ace464e",
   "metadata": {},
   "outputs": [],
   "source": [
    "#Questions 6 - 11 is about working with the Ridge Regression algorithm\n",
    "# on a dataset imported from the World Wide Web\n",
    "\n",
    "# importing libraries\n",
    "from sklearn.linear_model import Ridge\n",
    "from sklearn.model_selection import train_test_split\n",
    "from sklearn.preprocessing import StandardScaler\n",
    "from sklearn.metrics import r2_score\n",
    "from sklearn.metrics import mean_absolute_error\n",
    "from sklearn.model_selection import LeaveOneOut          #Load LeaveOneOut from sklearn\n",
    "from sklearn.model_selection import cross_val_score\n",
    "from sklearn.linear_model import LinearRegression\n",
    "from numpy import mean\n",
    "from numpy import absolute"
   ]
  },
  {
   "cell_type": "code",
   "execution_count": 12,
   "id": "85ead737",
   "metadata": {},
   "outputs": [],
   "source": [
    "#Run the next two cells before attempting the questions that follow"
   ]
  },
  {
   "cell_type": "code",
   "execution_count": 13,
   "id": "2d464035",
   "metadata": {},
   "outputs": [
    {
     "data": {
      "text/html": [
       "<div>\n",
       "<style scoped>\n",
       "    .dataframe tbody tr th:only-of-type {\n",
       "        vertical-align: middle;\n",
       "    }\n",
       "\n",
       "    .dataframe tbody tr th {\n",
       "        vertical-align: top;\n",
       "    }\n",
       "\n",
       "    .dataframe thead th {\n",
       "        text-align: right;\n",
       "    }\n",
       "</style>\n",
       "<table border=\"1\" class=\"dataframe\">\n",
       "  <thead>\n",
       "    <tr style=\"text-align: right;\">\n",
       "      <th></th>\n",
       "      <th>growth</th>\n",
       "      <th>rgdp60</th>\n",
       "      <th>tradeshare</th>\n",
       "      <th>education</th>\n",
       "      <th>revolutions</th>\n",
       "      <th>assassinations</th>\n",
       "    </tr>\n",
       "  </thead>\n",
       "  <tbody>\n",
       "    <tr>\n",
       "      <th>India</th>\n",
       "      <td>1.915168</td>\n",
       "      <td>765.999817</td>\n",
       "      <td>0.140502</td>\n",
       "      <td>1.45</td>\n",
       "      <td>0.133333</td>\n",
       "      <td>0.866667</td>\n",
       "    </tr>\n",
       "    <tr>\n",
       "      <th>Argentina</th>\n",
       "      <td>0.617645</td>\n",
       "      <td>4462.001465</td>\n",
       "      <td>0.156623</td>\n",
       "      <td>4.99</td>\n",
       "      <td>0.933333</td>\n",
       "      <td>1.933333</td>\n",
       "    </tr>\n",
       "    <tr>\n",
       "      <th>Japan</th>\n",
       "      <td>4.304759</td>\n",
       "      <td>2953.999512</td>\n",
       "      <td>0.157703</td>\n",
       "      <td>6.71</td>\n",
       "      <td>0.000000</td>\n",
       "      <td>0.200000</td>\n",
       "    </tr>\n",
       "    <tr>\n",
       "      <th>Brazil</th>\n",
       "      <td>2.930097</td>\n",
       "      <td>1783.999878</td>\n",
       "      <td>0.160405</td>\n",
       "      <td>2.89</td>\n",
       "      <td>0.100000</td>\n",
       "      <td>0.100000</td>\n",
       "    </tr>\n",
       "    <tr>\n",
       "      <th>United States</th>\n",
       "      <td>1.712265</td>\n",
       "      <td>9895.003906</td>\n",
       "      <td>0.160815</td>\n",
       "      <td>8.66</td>\n",
       "      <td>0.000000</td>\n",
       "      <td>0.433333</td>\n",
       "    </tr>\n",
       "    <tr>\n",
       "      <th>...</th>\n",
       "      <td>...</td>\n",
       "      <td>...</td>\n",
       "      <td>...</td>\n",
       "      <td>...</td>\n",
       "      <td>...</td>\n",
       "      <td>...</td>\n",
       "    </tr>\n",
       "    <tr>\n",
       "      <th>Cyprus</th>\n",
       "      <td>5.384184</td>\n",
       "      <td>2037.000366</td>\n",
       "      <td>0.979355</td>\n",
       "      <td>4.29</td>\n",
       "      <td>0.100000</td>\n",
       "      <td>0.166667</td>\n",
       "    </tr>\n",
       "    <tr>\n",
       "      <th>Malaysia</th>\n",
       "      <td>4.114544</td>\n",
       "      <td>1420.000244</td>\n",
       "      <td>1.105364</td>\n",
       "      <td>2.34</td>\n",
       "      <td>0.033333</td>\n",
       "      <td>0.033333</td>\n",
       "    </tr>\n",
       "    <tr>\n",
       "      <th>Belgium</th>\n",
       "      <td>2.651335</td>\n",
       "      <td>5495.001953</td>\n",
       "      <td>1.115917</td>\n",
       "      <td>7.46</td>\n",
       "      <td>0.000000</td>\n",
       "      <td>0.000000</td>\n",
       "    </tr>\n",
       "    <tr>\n",
       "      <th>Mauritius</th>\n",
       "      <td>3.024178</td>\n",
       "      <td>2861.999268</td>\n",
       "      <td>1.127937</td>\n",
       "      <td>2.44</td>\n",
       "      <td>0.000000</td>\n",
       "      <td>0.000000</td>\n",
       "    </tr>\n",
       "    <tr>\n",
       "      <th>Malta</th>\n",
       "      <td>6.652838</td>\n",
       "      <td>1374.000000</td>\n",
       "      <td>1.992616</td>\n",
       "      <td>5.64</td>\n",
       "      <td>0.000000</td>\n",
       "      <td>0.000000</td>\n",
       "    </tr>\n",
       "  </tbody>\n",
       "</table>\n",
       "<p>65 rows × 6 columns</p>\n",
       "</div>"
      ],
      "text/plain": [
       "                 growth       rgdp60  tradeshare  education  revolutions  \\\n",
       "India          1.915168   765.999817    0.140502       1.45     0.133333   \n",
       "Argentina      0.617645  4462.001465    0.156623       4.99     0.933333   \n",
       "Japan          4.304759  2953.999512    0.157703       6.71     0.000000   \n",
       "Brazil         2.930097  1783.999878    0.160405       2.89     0.100000   \n",
       "United States  1.712265  9895.003906    0.160815       8.66     0.000000   \n",
       "...                 ...          ...         ...        ...          ...   \n",
       "Cyprus         5.384184  2037.000366    0.979355       4.29     0.100000   \n",
       "Malaysia       4.114544  1420.000244    1.105364       2.34     0.033333   \n",
       "Belgium        2.651335  5495.001953    1.115917       7.46     0.000000   \n",
       "Mauritius      3.024178  2861.999268    1.127937       2.44     0.000000   \n",
       "Malta          6.652838  1374.000000    1.992616       5.64     0.000000   \n",
       "\n",
       "               assassinations  \n",
       "India                0.866667  \n",
       "Argentina            1.933333  \n",
       "Japan                0.200000  \n",
       "Brazil               0.100000  \n",
       "United States        0.433333  \n",
       "...                       ...  \n",
       "Cyprus               0.166667  \n",
       "Malaysia             0.033333  \n",
       "Belgium              0.000000  \n",
       "Mauritius            0.000000  \n",
       "Malta                0.000000  \n",
       "\n",
       "[65 rows x 6 columns]"
      ]
     },
     "execution_count": 13,
     "metadata": {},
     "output_type": "execute_result"
    }
   ],
   "source": [
    "# load dataset from the Web\n",
    "\n",
    "url = 'https://vincentarelbundock.github.io/Rdatasets/csv/AER/GrowthSW.csv'\n",
    "df = pd.read_csv(url,index_col=0).dropna()\n",
    "\n",
    "#display dataframe df\n",
    "\n",
    "df"
   ]
  },
  {
   "cell_type": "code",
   "execution_count": 14,
   "id": "6857a732",
   "metadata": {},
   "outputs": [],
   "source": [
    "# Split df into input and output elements\n",
    "\n",
    "#Note that X is the set of inputs and y is the target variable\n",
    "\n",
    "X = df[[\"rgdp60\",\"tradeshare\",\"education\",\"revolutions\",\"assassinations\"]]\n",
    "y = df[[\"growth\"]]\n",
    "\n",
    "\n",
    "# scaling the inputs\n",
    "scaler = StandardScaler()\n",
    "scaled_X = scaler.fit_transform(X)\n",
    "\n",
    "# Split data into train and test portions\n",
    "X_train, X_test, y_train, y_test = train_test_split(X, y,test_size = 0.3)\n"
   ]
  },
  {
   "cell_type": "code",
   "execution_count": null,
   "id": "b76c8c0c",
   "metadata": {},
   "outputs": [],
   "source": []
  },
  {
   "cell_type": "code",
   "execution_count": 15,
   "id": "2de57a38",
   "metadata": {},
   "outputs": [],
   "source": [
    "#Question 6:\n",
    "\n",
    "#Write Python code to create an instance of the Ridge() function/ train a model using the following hyperparameters:\n",
    "\n",
    "#alpha = 0.5\n",
    "#normalize = False\n",
    "#tol = 0.001\n",
    "#solver = 'auto'\n",
    "#random_state = 42\n",
    "\n",
    "#Store your results in an object called ridge_model\n",
    "\n",
    "#Write your answer below:\n",
    "\n",
    "\n",
    "ridge_model = Ridge(alpha = 0.5, normalize = False, tol = 0.001,solver ='auto', random_state = 42)\n",
    "\n"
   ]
  },
  {
   "cell_type": "code",
   "execution_count": null,
   "id": "01bfbafb",
   "metadata": {},
   "outputs": [],
   "source": []
  },
  {
   "cell_type": "code",
   "execution_count": 16,
   "id": "aaa96b1d",
   "metadata": {},
   "outputs": [
    {
     "data": {
      "text/plain": [
       "Ridge(alpha=0.5, random_state=42)"
      ]
     },
     "execution_count": 16,
     "metadata": {},
     "output_type": "execute_result"
    }
   ],
   "source": [
    "#Question 7:\n",
    "\n",
    "#Write Python code to fit a model on the training data obtained from the Train/Test split of dataframe df above\n",
    "\n",
    "#Use your trained object (i.e.ridge_model) from Question 6 for the .fit() function call\n",
    "\n",
    "\n",
    "#Write your answer below:\n",
    "ridge_model.fit(X_train, y_train)\n",
    "\n"
   ]
  },
  {
   "cell_type": "code",
   "execution_count": null,
   "id": "9e8a77e4",
   "metadata": {},
   "outputs": [],
   "source": []
  },
  {
   "cell_type": "code",
   "execution_count": 17,
   "id": "e5f01e70",
   "metadata": {},
   "outputs": [],
   "source": [
    "#Question 8:\n",
    "\n",
    "#Write Python code to predict the values of the target variable for data in X_test \n",
    "\n",
    "#Use your trained ridge_model for the .predict() function call\n",
    "\n",
    "#Store your predictions in y_pred\n",
    "\n",
    "#Write your answer below:\n",
    "# predicting the y_test\n",
    "y_pred = ridge_model.predict(X_test)\n"
   ]
  },
  {
   "cell_type": "code",
   "execution_count": 18,
   "id": "68535523",
   "metadata": {},
   "outputs": [
    {
     "data": {
      "text/plain": [
       "0.9155742073250481"
      ]
     },
     "execution_count": 18,
     "metadata": {},
     "output_type": "execute_result"
    }
   ],
   "source": [
    "##Just run this cell to view mean absolute error (MAE) from your result in Question 8 above:\n",
    "\n",
    "mean_absolute_error(y_test, y_pred)"
   ]
  },
  {
   "cell_type": "code",
   "execution_count": 19,
   "id": "749b403a",
   "metadata": {},
   "outputs": [],
   "source": [
    "#we define Leave One Out - using the LeaveOneOut() function - as the \n",
    "#cross-validation method to use and store in object cv\n",
    "\n",
    "#Make sure to run this cell before proceeding to Questions 9, 10 and 11\n",
    "\n",
    "\n",
    "cv = LeaveOneOut()"
   ]
  },
  {
   "cell_type": "code",
   "execution_count": 20,
   "id": "b4fdcbd0",
   "metadata": {},
   "outputs": [],
   "source": [
    "#Question 9:\n",
    "\n",
    "#Since Questions 6 - 9 is a regression scenario, we can use Leave One Out Cross Validation\n",
    "# (LOOCV) to evaluate our model\n",
    "\n",
    "\n",
    "#Write Python code to evaluate your model from Question 6 using LOOCV\n",
    "\n",
    "#Use the following hyperparameter settings for your cross_val_score() function call:\n",
    "\n",
    "#scoring = 'neg_mean_absolute_error'\n",
    "#cv = cv\n",
    "#n_jobs = -1\n",
    "\n",
    "#Store your results in an object called ridge_scores\n",
    "\n",
    "#Write your answer below:\n",
    "\n",
    "#use LOOCV to evaluate model\n",
    "ridge_scores = cross_val_score(ridge_model, X, y, scoring='neg_mean_absolute_error',\n",
    "                         cv=cv, n_jobs=-1)\n",
    "\n",
    "\n"
   ]
  },
  {
   "cell_type": "code",
   "execution_count": 21,
   "id": "02af9079",
   "metadata": {},
   "outputs": [
    {
     "data": {
      "text/plain": [
       "1.2368924826583882"
      ]
     },
     "execution_count": 21,
     "metadata": {},
     "output_type": "execute_result"
    }
   ],
   "source": [
    "\n",
    "#Just run this cell to view mean absolute error (MAE) stored in your object scores from Question 9 above:\n",
    "\n",
    "mean(absolute(ridge_scores))\n"
   ]
  },
  {
   "cell_type": "code",
   "execution_count": null,
   "id": "e763a245",
   "metadata": {},
   "outputs": [],
   "source": []
  },
  {
   "cell_type": "code",
   "execution_count": 22,
   "id": "6a97fb7b",
   "metadata": {},
   "outputs": [
    {
     "data": {
      "text/plain": [
       "0.3213182753333401"
      ]
     },
     "execution_count": 22,
     "metadata": {},
     "output_type": "execute_result"
    }
   ],
   "source": [
    "#Question 10:\n",
    "\n",
    "#Write Python code to find the difference between the mean absolute score you obtained in the LOOCV evaluation \n",
    "# and the mean absolute error after Question 8 above. Do not assign your code to an object:\n",
    "\n",
    "#Write your answer below:\n",
    "mean(absolute(ridge_scores)) - mean_absolute_error(y_test, y_pred)\n",
    "\n",
    " "
   ]
  },
  {
   "cell_type": "code",
   "execution_count": null,
   "id": "9ff2e911",
   "metadata": {},
   "outputs": [],
   "source": []
  },
  {
   "cell_type": "code",
   "execution_count": 23,
   "id": "90ac1737",
   "metadata": {},
   "outputs": [],
   "source": [
    "#Question 11:\n",
    "\n",
    "#Using your Ridge() call from Question 6 above, how would you show a friend that\n",
    "#You can convert a Ridge Regression to regular Linear Regression?What is the one hyperparameter you\n",
    "#would change?\n",
    "\n",
    "#Write Python code to create an instance of the Ridge() function/ train a model that is essentially a regular Linear Regression\n",
    "\n",
    "#Make the hyperparameter change that converts your Ridge Regression model in Question 6 to a regular Linear Regression model\n",
    "\n",
    "#Store your results in an object called ridge_model_2\n",
    "\n",
    "#Write your answer below:\n",
    "\n",
    "ridge_model_2 = Ridge(alpha = 0, normalize = False, tol = 0.001,solver ='auto', random_state = 42)\n",
    "#When alpha=0 the model is equivalent to that which is solved by LinearRegression"
   ]
  },
  {
   "cell_type": "code",
   "execution_count": null,
   "id": "0a0b3afb",
   "metadata": {},
   "outputs": [],
   "source": []
  },
  {
   "cell_type": "code",
   "execution_count": 24,
   "id": "8c54ab7d",
   "metadata": {},
   "outputs": [],
   "source": [
    "#Questions 12 - 13 examine the use of Cross Validation for evaluating a Regression model\n",
    "\n",
    "#Run this cell first to answer Questions 12 - 15 below:\n",
    "\n",
    "from sklearn.model_selection import train_test_split\n",
    "from sklearn.model_selection import LeaveOneOut          #Load LeaveOneOut from sklearn\n",
    "from sklearn.model_selection import cross_val_score\n",
    "from sklearn.linear_model import LinearRegression\n",
    "from numpy import mean\n",
    "from numpy import absolute\n",
    "from numpy import sqrt\n",
    "import pandas as pd\n",
    "from sklearn.model_selection import cross_validate #load cross_validate from sklearn\n",
    "from sklearn.linear_model import LinearRegression\n",
    "\n",
    "#Create the Dataframe of numeric variables\n",
    "#We create a pandas DataFrame that contains three predictor variables, x1, x2, and x3 and a single response variable y.\n",
    "\n",
    "\n",
    "df = pd.DataFrame({'y': [6, 8, 12, 14, 14, 15, 17, 22, 24, 23],\n",
    "                   'x1': [2, 5, 4, 3, 4, 6, 7, 5, 8, 9],\n",
    "                   'x2':[-3,3,4,13,11,6,8,7,9,15],\n",
    "                   'x3': [14, 12, 12, 13, 7, 8, 7, 4, 6, 5]})\n",
    "\n",
    "\n",
    "\n",
    "#define predictor and response variables\n",
    "X = df[['x1', 'x2','x3']]\n",
    "y = df['y']\n",
    "\n",
    "#define cross-validation method to use\n",
    "cv = LeaveOneOut()\n"
   ]
  },
  {
   "cell_type": "code",
   "execution_count": null,
   "id": "ef7e5367",
   "metadata": {},
   "outputs": [],
   "source": []
  },
  {
   "cell_type": "code",
   "execution_count": 25,
   "id": "e628ec9d",
   "metadata": {},
   "outputs": [
    {
     "ename": "SyntaxError",
     "evalue": "invalid character '‘' (U+2018) (Temp/ipykernel_30528/671164659.py, line 5)",
     "output_type": "error",
     "traceback": [
      "\u001b[1;36m  File \u001b[1;32m\"C:\\Users\\julia\\AppData\\Local\\Temp/ipykernel_30528/671164659.py\"\u001b[1;36m, line \u001b[1;32m5\u001b[0m\n\u001b[1;33m    ‘accuracy’\u001b[0m\n\u001b[1;37m    ^\u001b[0m\n\u001b[1;31mSyntaxError\u001b[0m\u001b[1;31m:\u001b[0m invalid character '‘' (U+2018)\n"
     ]
    }
   ],
   "source": [
    "#Recall that cross_validate() is a multi-metric cross validation option relative to cross_val_score() which is single-metric\n",
    "\n",
    "#Recall that you can use various performance metrics with cross_val_score() including the set below:\n",
    "\n",
    "‘accuracy’\n",
    "‘balanced_accuracy’\n",
    "‘roc_auc’\n",
    "‘f1’\n",
    "‘neg_mean_absolute_error’\n",
    "‘neg_root_mean_squared_error’\n",
    "‘r2’"
   ]
  },
  {
   "cell_type": "code",
   "execution_count": null,
   "id": "157ec1c8",
   "metadata": {},
   "outputs": [],
   "source": []
  },
  {
   "cell_type": "code",
   "execution_count": null,
   "id": "65f149e3",
   "metadata": {},
   "outputs": [],
   "source": [
    "#Question 12:\n",
    "\n",
    "#Write Python code to create a list of the folloing performance metrics:\n",
    "\n",
    "'neg_mean_absolute_error'\n",
    "'neg_root_mean_squared_error'\n",
    "'r2'\n",
    "\n",
    "#Save your list in an object called metrics\n",
    "\n",
    "\n",
    "#Write your answer below:\n",
    "metrics = ['neg_mean_absolute_error', 'neg_root_mean_squared_error', 'r2']\n",
    "\n"
   ]
  },
  {
   "cell_type": "code",
   "execution_count": null,
   "id": "346c13b8",
   "metadata": {},
   "outputs": [],
   "source": []
  },
  {
   "cell_type": "code",
   "execution_count": null,
   "id": "5155ca6e",
   "metadata": {},
   "outputs": [],
   "source": [
    "#Just run this cell to create an instance of Linear Regression\n",
    "\n",
    "LR_model = LinearRegression()"
   ]
  },
  {
   "cell_type": "code",
   "execution_count": null,
   "id": "e03d9c31",
   "metadata": {},
   "outputs": [],
   "source": [
    "#Question 13:\n",
    "\n",
    "#Write Python code to use cross_validate() to fit a Linear Regression model of y on X using the following \n",
    "#hyperparameters:\n",
    "\n",
    "#cv = cv\n",
    "#scoring = metrics\n",
    "\n",
    "#Remember to include the object LR_model (from the cell above) in your cross_validate() function call\n",
    "\n",
    "#Store your results in an object called LR_scores\n",
    "\n",
    "#Note that you might get a pink warning box when you run this cell. Ignore it.\n",
    "\n",
    "\n",
    "\n",
    "#Write your answer below:\n",
    "LR_scores = cross_validate(LR_model, X, y, cv=cv, scoring=metrics)\n",
    "\n"
   ]
  },
  {
   "cell_type": "code",
   "execution_count": null,
   "id": "934b0895",
   "metadata": {},
   "outputs": [],
   "source": []
  },
  {
   "cell_type": "code",
   "execution_count": null,
   "id": "15e18cb7",
   "metadata": {},
   "outputs": [],
   "source": [
    "#Just run this cell to display the average and standard deviation of the MAE\n",
    "\n",
    "mae_scores = LR_scores['test_neg_mean_absolute_error']\n",
    "\n",
    "print(\"Mean mae of %0.2f with a standard deviation of %0.2f\" % (absolute(mae_scores.mean()), mae_scores.std()))\n"
   ]
  },
  {
   "cell_type": "code",
   "execution_count": null,
   "id": "6d8b9a73",
   "metadata": {},
   "outputs": [],
   "source": []
  },
  {
   "cell_type": "code",
   "execution_count": null,
   "id": "f23d262c",
   "metadata": {},
   "outputs": [],
   "source": [
    "#Questions 14 - 16 below are about the KNN classification algorithm\n",
    "\n",
    "\n",
    "#Run this cell first before attempting Questions 14 - 16\n",
    "\n",
    "import pandas as pd\n",
    "from sklearn.neighbors import KNeighborsClassifier\n",
    "import seaborn as sns #Import Python Seaborn\n",
    "from seaborn import load_dataset\n",
    "from sklearn.model_selection import train_test_split\n",
    "\n",
    "# Load and display the first rows of the penguins dataset\n",
    "\n",
    "df = load_dataset('penguins')\n",
    "df.head()\n",
    "\n",
    "\n"
   ]
  },
  {
   "cell_type": "code",
   "execution_count": null,
   "id": "03ccf5f1",
   "metadata": {},
   "outputs": [],
   "source": []
  },
  {
   "cell_type": "code",
   "execution_count": null,
   "id": "6119b508",
   "metadata": {},
   "outputs": [],
   "source": [
    "#Run this cell next to:\n",
    "\n",
    "#1. Drop NaN values in our dataset\n",
    "#2. Splitting our DataFrame into features and target variable\n",
    "\n",
    "df = df.dropna()\n",
    "\n",
    "X = df[['flipper_length_mm']]\n",
    "y = df['species']"
   ]
  },
  {
   "cell_type": "code",
   "execution_count": null,
   "id": "980249ba",
   "metadata": {},
   "outputs": [],
   "source": []
  },
  {
   "cell_type": "code",
   "execution_count": null,
   "id": "da2eab53",
   "metadata": {},
   "outputs": [],
   "source": [
    "#Question 14:\n",
    "\n",
    "#Using the train_test_split() function, write Python code to split the data in your cell above into train and test portions\n",
    "\n",
    "#Use the follwoing hyperparameters:\n",
    "\n",
    "#test_size = 0.25\n",
    "#random_state = 100\n",
    "\n",
    "#Write your answer below:\n",
    "X_train, X_test, y_train, y_test = train_test_split(X, y, test_size = 0.25, random_state = 100)\n",
    "\n"
   ]
  },
  {
   "cell_type": "code",
   "execution_count": null,
   "id": "5940c1e7",
   "metadata": {},
   "outputs": [],
   "source": []
  },
  {
   "cell_type": "code",
   "execution_count": null,
   "id": "288c59f6",
   "metadata": {},
   "outputs": [],
   "source": [
    "#Recall the KNN Classifier function has the structure below:\n",
    "#Do not run this cell. Just note it to help you answer Question 15\n",
    "\n",
    "KNeighborsClassifier(\n",
    "    n_neighbors=5,          # The number of neighbours to consider\n",
    "    weights='uniform',      # How to weight distances (e.g uniform or distance)\n",
    "    algorithm='auto',       # Algorithm to compute the neighbors\n",
    "    leaf_size=30,           # The leaf size to speed up searches\n",
    "    p=2,                    # The power parameter for the Minkowski metric. 2 = Euclidean distance; p=1 is for Manhattan distance\n",
    "    metric='minkowski',     # The type of distance to use. This generalizes Euclidean and Manhattan distance\n",
    "    metric_params=None,     # Keyword arguments for the metric function\n",
    "    n_jobs=None             # How many parallel jobs to run\n",
    ")"
   ]
  },
  {
   "cell_type": "code",
   "execution_count": null,
   "id": "8e2ffceb",
   "metadata": {},
   "outputs": [],
   "source": [
    "#Question 15:\n",
    "\n",
    "\n",
    "#Copy and paste the entire KNeighborsClassifier function above into this cell to build your answer for this question.\n",
    "\n",
    "#Make the following changes to the function:\n",
    "\n",
    "#1. Use Manhattan distance rather than Euclidean distance\n",
    "#2. Use all the cores in your computer CPU\n",
    "#3. Use 7 nearest neighbors\n",
    "#4. Use distance as your weights\n",
    "#5. Use leaf size 15\n",
    "\n",
    "#Store your entire result in an object called KNN\n",
    "\n",
    "\n",
    "\n",
    "#Write your answer below:\n",
    "\n",
    "KNN= KNeighborsClassifier(\n",
    "    n_neighbors=7,          # The number of neighbours to consider\n",
    "    weights='distance',      # How to weight distances (e.g uniform or distance)\n",
    "    algorithm='auto',       # Algorithm to compute the neighbors\n",
    "    leaf_size=15,           # The leaf size to speed up searches\n",
    "    p=1,                    # The power parameter for the Minkowski metric. 2 = Euclidean distance; p=1 is for Manhattan distance\n",
    "    metric='manhattan',     # The type of distance to use. This generalizes Euclidean and Manhattan distance\n",
    "    metric_params=None,     # Keyword arguments for the metric function\n",
    "    n_jobs=-1             # How many parallel jobs to run\n",
    ")\n",
    "\n",
    "\n"
   ]
  },
  {
   "cell_type": "code",
   "execution_count": null,
   "id": "0ee66944",
   "metadata": {},
   "outputs": [],
   "source": []
  },
  {
   "cell_type": "code",
   "execution_count": null,
   "id": "598517bf",
   "metadata": {},
   "outputs": [],
   "source": [
    "#Question 16:\n",
    "\n",
    "#Use your object KNN from Question 15 above to fit a model on X_train and y_train from your Train/Test split in Question 14:\n",
    "\n",
    "\n",
    "\n",
    "#Write your answer below:\n",
    "KNN.fit(X_train, y_train)\n",
    "\n"
   ]
  },
  {
   "cell_type": "code",
   "execution_count": null,
   "id": "4c6ddbd0",
   "metadata": {},
   "outputs": [],
   "source": []
  },
  {
   "cell_type": "code",
   "execution_count": null,
   "id": "594746e1",
   "metadata": {},
   "outputs": [],
   "source": []
  },
  {
   "cell_type": "code",
   "execution_count": null,
   "id": "89f2794a",
   "metadata": {},
   "outputs": [],
   "source": [
    "#Questions 17 - 20 is about ensemble models\n",
    "\n",
    "#Run this cell first before attempting Questions 17 - 20.\n",
    "\n",
    "#Note that it might take a while for !pip install xgboost to complete\n",
    "\n",
    "\n",
    "#Install xgboost\n",
    "\n",
    "!pip install xgboost\n",
    "\n",
    "from sklearn import datasets\n",
    "\n",
    "# Load the dataset\n",
    "diabetes = datasets.load_diabetes()\n",
    "\n",
    "# importing utility modules\n",
    "import pandas as pd\n",
    "from sklearn.model_selection import train_test_split\n",
    "from sklearn.metrics import mean_squared_error\n",
    "from sklearn import datasets\n",
    "\n",
    "# importing machine learning models for prediction\n",
    "from sklearn.ensemble import RandomForestRegressor\n",
    "import xgboost as xgb\n",
    "from sklearn.linear_model import LinearRegression\n",
    "from sklearn.ensemble import GradientBoostingRegressor"
   ]
  },
  {
   "cell_type": "code",
   "execution_count": null,
   "id": "9ddb40df",
   "metadata": {},
   "outputs": [],
   "source": []
  },
  {
   "cell_type": "code",
   "execution_count": null,
   "id": "5c340d34",
   "metadata": {},
   "outputs": [],
   "source": [
    "#Make sure you run this cell before you continue to Questions 17 - 20 below:\n",
    "\n",
    "# Load the dataset\n",
    "df = datasets.load_diabetes()\n",
    "\n",
    "# getting target data from the dataframe\n",
    "\n",
    "X = df[\"data\"]\n",
    "y = df[\"target\"]\n",
    "\n",
    "\n",
    "# Splitting between train data into training and validation dataset\n",
    "X_train, X_test, y_train, y_test = train_test_split(X, y, test_size=0.20)"
   ]
  },
  {
   "cell_type": "code",
   "execution_count": null,
   "id": "7c30eb0c",
   "metadata": {},
   "outputs": [],
   "source": []
  },
  {
   "cell_type": "code",
   "execution_count": null,
   "id": "039ab4fb",
   "metadata": {},
   "outputs": [],
   "source": [
    "#Question 17:\n",
    "\n",
    "\n",
    "#Write Python code to initialize :\n",
    "\n",
    "#1. a Linear Regression model\n",
    "#2. an XGBoost regression model\n",
    "#3. a Random Forest regression model \n",
    "#4. a Gradient Boosting regression model\n",
    "\n",
    "#using their default parameters\n",
    "\n",
    "#Store the models as model_1, model_2, model_3 and model_4 respectively\n",
    "\n",
    "#Write your code below:\n",
    "\n",
    "\n",
    "\n",
    "\n",
    "model_1 = LinearRegression()\n",
    "model_2 =  xgb.XGBRegressor()\n",
    "model_3 = RandomForestRegressor()\n",
    "model_4= GradientBoostingRegressor()\n"
   ]
  },
  {
   "cell_type": "code",
   "execution_count": null,
   "id": "f55d6842",
   "metadata": {},
   "outputs": [],
   "source": []
  },
  {
   "cell_type": "code",
   "execution_count": null,
   "id": "6daf11c0",
   "metadata": {},
   "outputs": [],
   "source": [
    "#Question 18:\n",
    "\n",
    "#Using the objects model_1, model_2, model_3 and Model_4 from your answer to Question 17,\n",
    "# write Python code to fit a linear regression model, an XGBoost model, a Random Forest regression model,\n",
    "# and a Gradient Boosting model i.e. four(4) models to X_train and y_train obtained from your train/test split above\n",
    "\n",
    "#include all your four .fit() calls in this cell, one below the other\n",
    "\n",
    "\n",
    "#Write your answer below:\n",
    "\n",
    "model_1.fit(X_train, y_train)\n",
    "model_2.fit(X_train, y_train)\n",
    "model_3.fit(X_train, y_train)\n",
    "model_4.fit(X_train, y_train)\n",
    "\n"
   ]
  },
  {
   "cell_type": "code",
   "execution_count": null,
   "id": "72b391d5",
   "metadata": {},
   "outputs": [],
   "source": []
  },
  {
   "cell_type": "code",
   "execution_count": null,
   "id": "ce2aa7a3",
   "metadata": {},
   "outputs": [],
   "source": [
    "#Question 19:\n",
    "\n",
    "\n",
    "#Using model_1, model_2, model_3 and Model_4 from your answer to Question 17,\n",
    "# write Python code to predict outputs for X_test a linear regression model, an XGBoost model, a Random Forest regression model,\n",
    "# and a Gradient Boosting model i.e. four(4) predictions\n",
    "\n",
    "#Store the predictions of model_1 in pred_1\n",
    "#Store the predictions of model_2 in pred_2\n",
    "#Store the predictions of model_3 in pred_3\n",
    "#store the predictions of model_4 in pred_4\n",
    "\n",
    "#include all your four .predict() calls in this cell, one below the other\n",
    "\n",
    "#Write your answer below:\n",
    "pred_1 = model_1.predict(X_test)\n",
    "pred_2 = model_2.predict(X_test)\n",
    "pred_3 = model_3.predict(X_test)\n",
    "pred_4= model_4.predict(X_test)\n"
   ]
  },
  {
   "cell_type": "code",
   "execution_count": null,
   "id": "0d7dd577",
   "metadata": {},
   "outputs": [],
   "source": []
  },
  {
   "cell_type": "code",
   "execution_count": null,
   "id": "a9d0a7d6",
   "metadata": {},
   "outputs": [],
   "source": [
    "#Question 20:\n",
    "\n",
    "#Using pred_1, pred_2, pred_3 and pred_4 from Question 19 above,\n",
    "#write Python code to display the final predictions across your four models using the averaging ensemble method:\n",
    "\n",
    "#Write your answer below:\n",
    "pred_final = (pred_1+pred_2+pred_3+pred_4)/4.0\n",
    "\n",
    "\n",
    "#display final predictions arr\n",
    "print(\"pred_final \", pred_final)\n",
    "\n",
    "print(\" \")\n",
    "\n",
    "# printing the mean squared error between real value and predicted value\n",
    "print(\"mean squared error \", mean_squared_error(y_test, pred_final))\n",
    "\n"
   ]
  },
  {
   "cell_type": "code",
   "execution_count": null,
   "id": "f48669fa",
   "metadata": {},
   "outputs": [],
   "source": []
  },
  {
   "cell_type": "code",
   "execution_count": null,
   "id": "44b6bb5d",
   "metadata": {},
   "outputs": [],
   "source": [
    "#------------------------------------End of Final Exam /Exam 2 - Part 2--------------------------------------------------"
   ]
  }
 ],
 "metadata": {
  "kernelspec": {
   "display_name": "Python 3 (ipykernel)",
   "language": "python",
   "name": "python3"
  },
  "language_info": {
   "codemirror_mode": {
    "name": "ipython",
    "version": 3
   },
   "file_extension": ".py",
   "mimetype": "text/x-python",
   "name": "python",
   "nbconvert_exporter": "python",
   "pygments_lexer": "ipython3",
   "version": "3.9.7"
  }
 },
 "nbformat": 4,
 "nbformat_minor": 5
}
